{
 "cells": [
  {
   "cell_type": "markdown",
   "metadata": {},
   "source": [
    "## Summary:\n",
    "### - Loading data from Freddie Mac for the year 1999. Contains feature data, 25 columns\n",
    "### - Loading data from a performance file for the same year that has the response vector data \n",
    "### - This file contains the column that has the status whether a loan foreclosed or not\n",
    "### - Walk through each of the feature columns and transform the data as needed\n",
    "### - Merge the information from the two files into one dataframe (fdata)\n",
    "### - Started the process of understanding importance of various features "
   ]
  },
  {
   "cell_type": "markdown",
   "metadata": {},
   "source": [
    "*******"
   ]
  },
  {
   "cell_type": "markdown",
   "metadata": {},
   "source": [
    "### First step reading in data containing feature data"
   ]
  },
  {
   "cell_type": "code",
   "execution_count": 6,
   "metadata": {},
   "outputs": [
    {
     "data": {
      "text/plain": [
       "(392776, 25)"
      ]
     },
     "execution_count": 6,
     "metadata": {},
     "output_type": "execute_result"
    }
   ],
   "source": [
    "# Read in and prepare the vehicle training data.\n",
    "import pandas as pd\n",
    "import numpy as np\n",
    "\n",
    "path = '../final_project_data/data/historical_data1_1999/historical_data1_Q11999.txt'\n",
    "fdata = pd.read_csv(path, sep='|', index_col=False, \n",
    "                     names=['credit_score','first_pmt_date','first_time_buyer','maturity_date',\n",
    "                            'met_div','mi_percent','num_units','occup_status','cltv','dti','upb','ltv',\n",
    "                            'int_rate','channel','ppm_flag','prod_type','prop_state','prop_type',\n",
    "                            'zipcode','loan_num','purpose','term','col23','col24','col25'], \n",
    "                     parse_dates=[1,3],error_bad_lines=False)\n",
    "\n",
    "\n",
    "fdata.shape\n"
   ]
  },
  {
   "cell_type": "code",
   "execution_count": 7,
   "metadata": {},
   "outputs": [
    {
     "data": {
      "text/plain": [
       "credit_score          int64\n",
       "first_pmt_date       object\n",
       "first_time_buyer     object\n",
       "maturity_date        object\n",
       "met_div             float64\n",
       "mi_percent            int64\n",
       "num_units             int64\n",
       "occup_status         object\n",
       "cltv                  int64\n",
       "dti                   int64\n",
       "upb                   int64\n",
       "ltv                   int64\n",
       "int_rate            float64\n",
       "channel              object\n",
       "ppm_flag             object\n",
       "prod_type            object\n",
       "prop_state           object\n",
       "prop_type            object\n",
       "zipcode             float64\n",
       "loan_num             object\n",
       "purpose              object\n",
       "term                  int64\n",
       "col23                 int64\n",
       "col24                object\n",
       "col25                object\n",
       "dtype: object"
      ]
     },
     "execution_count": 7,
     "metadata": {},
     "output_type": "execute_result"
    }
   ],
   "source": [
    "#checking Datatypes of the feature data 'fdata' dataframe\n",
    "fdata.dtypes"
   ]
  },
  {
   "cell_type": "markdown",
   "metadata": {},
   "source": [
    "------------"
   ]
  },
  {
   "cell_type": "markdown",
   "metadata": {},
   "source": [
    "#### Featue Columns 'first_pmt_date' and 'maturity_date'"
   ]
  },
  {
   "cell_type": "code",
   "execution_count": 8,
   "metadata": {},
   "outputs": [],
   "source": [
    "# converting 'first_pmt_date' and 'maturity_date' from strings to datetime\n",
    "fdata['first_pmt_date'] = pd.to_datetime(fdata['first_pmt_date'], format=\"%Y%m\")\n",
    "fdata['maturity_date'] = pd.to_datetime(fdata['maturity_date'], format=\"%Y%m\")"
   ]
  },
  {
   "cell_type": "code",
   "execution_count": 9,
   "metadata": {},
   "outputs": [
    {
     "data": {
      "text/html": [
       "<div>\n",
       "<style scoped>\n",
       "    .dataframe tbody tr th:only-of-type {\n",
       "        vertical-align: middle;\n",
       "    }\n",
       "\n",
       "    .dataframe tbody tr th {\n",
       "        vertical-align: top;\n",
       "    }\n",
       "\n",
       "    .dataframe thead th {\n",
       "        text-align: right;\n",
       "    }\n",
       "</style>\n",
       "<table border=\"1\" class=\"dataframe\">\n",
       "  <thead>\n",
       "    <tr style=\"text-align: right;\">\n",
       "      <th></th>\n",
       "      <th>credit_score</th>\n",
       "      <th>first_pmt_date</th>\n",
       "      <th>first_time_buyer</th>\n",
       "      <th>maturity_date</th>\n",
       "      <th>met_div</th>\n",
       "      <th>mi_percent</th>\n",
       "      <th>num_units</th>\n",
       "      <th>occup_status</th>\n",
       "      <th>cltv</th>\n",
       "      <th>dti</th>\n",
       "      <th>...</th>\n",
       "      <th>prod_type</th>\n",
       "      <th>prop_state</th>\n",
       "      <th>prop_type</th>\n",
       "      <th>zipcode</th>\n",
       "      <th>loan_num</th>\n",
       "      <th>purpose</th>\n",
       "      <th>term</th>\n",
       "      <th>col23</th>\n",
       "      <th>col24</th>\n",
       "      <th>col25</th>\n",
       "    </tr>\n",
       "  </thead>\n",
       "  <tbody>\n",
       "    <tr>\n",
       "      <th>0</th>\n",
       "      <td>751</td>\n",
       "      <td>1999-10-01</td>\n",
       "      <td>N</td>\n",
       "      <td>2029-09-01</td>\n",
       "      <td>NaN</td>\n",
       "      <td>0</td>\n",
       "      <td>1</td>\n",
       "      <td>P</td>\n",
       "      <td>71</td>\n",
       "      <td>20</td>\n",
       "      <td>...</td>\n",
       "      <td>FRM</td>\n",
       "      <td>PA</td>\n",
       "      <td>SF</td>\n",
       "      <td>19300.0</td>\n",
       "      <td>F199Q1000001</td>\n",
       "      <td>P</td>\n",
       "      <td>360</td>\n",
       "      <td>2</td>\n",
       "      <td>Other sellers</td>\n",
       "      <td>Other servicers</td>\n",
       "    </tr>\n",
       "    <tr>\n",
       "      <th>1</th>\n",
       "      <td>733</td>\n",
       "      <td>1999-09-01</td>\n",
       "      <td>N</td>\n",
       "      <td>2029-08-01</td>\n",
       "      <td>29540.0</td>\n",
       "      <td>0</td>\n",
       "      <td>1</td>\n",
       "      <td>P</td>\n",
       "      <td>51</td>\n",
       "      <td>999</td>\n",
       "      <td>...</td>\n",
       "      <td>FRM</td>\n",
       "      <td>PA</td>\n",
       "      <td>SF</td>\n",
       "      <td>17500.0</td>\n",
       "      <td>F199Q1000002</td>\n",
       "      <td>P</td>\n",
       "      <td>360</td>\n",
       "      <td>1</td>\n",
       "      <td>Other sellers</td>\n",
       "      <td>Other servicers</td>\n",
       "    </tr>\n",
       "    <tr>\n",
       "      <th>2</th>\n",
       "      <td>755</td>\n",
       "      <td>1999-05-01</td>\n",
       "      <td>N</td>\n",
       "      <td>2029-04-01</td>\n",
       "      <td>29540.0</td>\n",
       "      <td>30</td>\n",
       "      <td>1</td>\n",
       "      <td>P</td>\n",
       "      <td>95</td>\n",
       "      <td>38</td>\n",
       "      <td>...</td>\n",
       "      <td>FRM</td>\n",
       "      <td>PA</td>\n",
       "      <td>SF</td>\n",
       "      <td>17500.0</td>\n",
       "      <td>F199Q1000003</td>\n",
       "      <td>P</td>\n",
       "      <td>360</td>\n",
       "      <td>2</td>\n",
       "      <td>Other sellers</td>\n",
       "      <td>Other servicers</td>\n",
       "    </tr>\n",
       "    <tr>\n",
       "      <th>3</th>\n",
       "      <td>669</td>\n",
       "      <td>2002-06-01</td>\n",
       "      <td>N</td>\n",
       "      <td>2029-01-01</td>\n",
       "      <td>NaN</td>\n",
       "      <td>0</td>\n",
       "      <td>1</td>\n",
       "      <td>P</td>\n",
       "      <td>80</td>\n",
       "      <td>33</td>\n",
       "      <td>...</td>\n",
       "      <td>FRM</td>\n",
       "      <td>WV</td>\n",
       "      <td>SF</td>\n",
       "      <td>26100.0</td>\n",
       "      <td>F199Q1000004</td>\n",
       "      <td>P</td>\n",
       "      <td>320</td>\n",
       "      <td>2</td>\n",
       "      <td>Other sellers</td>\n",
       "      <td>Other servicers</td>\n",
       "    </tr>\n",
       "    <tr>\n",
       "      <th>4</th>\n",
       "      <td>732</td>\n",
       "      <td>1999-04-01</td>\n",
       "      <td>N</td>\n",
       "      <td>2029-03-01</td>\n",
       "      <td>17140.0</td>\n",
       "      <td>0</td>\n",
       "      <td>1</td>\n",
       "      <td>P</td>\n",
       "      <td>25</td>\n",
       "      <td>10</td>\n",
       "      <td>...</td>\n",
       "      <td>FRM</td>\n",
       "      <td>OH</td>\n",
       "      <td>SF</td>\n",
       "      <td>45200.0</td>\n",
       "      <td>F199Q1000005</td>\n",
       "      <td>N</td>\n",
       "      <td>360</td>\n",
       "      <td>1</td>\n",
       "      <td>Other sellers</td>\n",
       "      <td>Other servicers</td>\n",
       "    </tr>\n",
       "  </tbody>\n",
       "</table>\n",
       "<p>5 rows × 25 columns</p>\n",
       "</div>"
      ],
      "text/plain": [
       "   credit_score first_pmt_date first_time_buyer maturity_date  met_div  \\\n",
       "0           751     1999-10-01                N    2029-09-01      NaN   \n",
       "1           733     1999-09-01                N    2029-08-01  29540.0   \n",
       "2           755     1999-05-01                N    2029-04-01  29540.0   \n",
       "3           669     2002-06-01                N    2029-01-01      NaN   \n",
       "4           732     1999-04-01                N    2029-03-01  17140.0   \n",
       "\n",
       "   mi_percent  num_units occup_status  cltv  dti       ...         prod_type  \\\n",
       "0           0          1            P    71   20       ...               FRM   \n",
       "1           0          1            P    51  999       ...               FRM   \n",
       "2          30          1            P    95   38       ...               FRM   \n",
       "3           0          1            P    80   33       ...               FRM   \n",
       "4           0          1            P    25   10       ...               FRM   \n",
       "\n",
       "   prop_state  prop_type  zipcode      loan_num purpose term col23  \\\n",
       "0          PA         SF  19300.0  F199Q1000001       P  360     2   \n",
       "1          PA         SF  17500.0  F199Q1000002       P  360     1   \n",
       "2          PA         SF  17500.0  F199Q1000003       P  360     2   \n",
       "3          WV         SF  26100.0  F199Q1000004       P  320     2   \n",
       "4          OH         SF  45200.0  F199Q1000005       N  360     1   \n",
       "\n",
       "           col24            col25  \n",
       "0  Other sellers  Other servicers  \n",
       "1  Other sellers  Other servicers  \n",
       "2  Other sellers  Other servicers  \n",
       "3  Other sellers  Other servicers  \n",
       "4  Other sellers  Other servicers  \n",
       "\n",
       "[5 rows x 25 columns]"
      ]
     },
     "execution_count": 9,
     "metadata": {},
     "output_type": "execute_result"
    }
   ],
   "source": [
    "fdata.head()"
   ]
  },
  {
   "cell_type": "code",
   "execution_count": 10,
   "metadata": {},
   "outputs": [],
   "source": [
    "#df['month'] = ((df.date2 - df.date1) / np.timedelta64(1, 'M')).astype(int)\n",
    "fdata['mths_maturity'] = ((fdata.maturity_date - fdata.first_pmt_date) / np.timedelta64(1, 'M')).astype(int)"
   ]
  },
  {
   "cell_type": "code",
   "execution_count": 11,
   "metadata": {},
   "outputs": [],
   "source": [
    "# Drop 'first_pmt_date' and 'maturity_date' columns since that data is now in the 'mths_maturity' column\n",
    "fdata.drop(['first_pmt_date','maturity_date'],axis=1,inplace=True)"
   ]
  },
  {
   "cell_type": "code",
   "execution_count": 12,
   "metadata": {},
   "outputs": [
    {
     "data": {
      "text/plain": [
       "credit_score          int64\n",
       "first_time_buyer     object\n",
       "met_div             float64\n",
       "mi_percent            int64\n",
       "num_units             int64\n",
       "occup_status         object\n",
       "cltv                  int64\n",
       "dti                   int64\n",
       "upb                   int64\n",
       "ltv                   int64\n",
       "int_rate            float64\n",
       "channel              object\n",
       "ppm_flag             object\n",
       "prod_type            object\n",
       "prop_state           object\n",
       "prop_type            object\n",
       "zipcode             float64\n",
       "loan_num             object\n",
       "purpose              object\n",
       "term                  int64\n",
       "col23                 int64\n",
       "col24                object\n",
       "col25                object\n",
       "mths_maturity         int64\n",
       "dtype: object"
      ]
     },
     "execution_count": 12,
     "metadata": {},
     "output_type": "execute_result"
    }
   ],
   "source": [
    "fdata.dtypes"
   ]
  },
  {
   "cell_type": "markdown",
   "metadata": {},
   "source": [
    "#### Rearrange the columns so that the 'mths_maturity' column (months to maturity) is not last."
   ]
  },
  {
   "cell_type": "code",
   "execution_count": 13,
   "metadata": {},
   "outputs": [],
   "source": [
    "cols = list(fdata.columns.values)"
   ]
  },
  {
   "cell_type": "code",
   "execution_count": 14,
   "metadata": {},
   "outputs": [
    {
     "name": "stdout",
     "output_type": "stream",
     "text": [
      "['credit_score', 'first_time_buyer', 'met_div', 'mi_percent', 'num_units', 'occup_status', 'cltv', 'dti', 'upb', 'ltv', 'int_rate', 'channel', 'ppm_flag', 'prod_type', 'prop_state', 'prop_type', 'zipcode', 'loan_num', 'purpose', 'term', 'col23', 'col24', 'col25', 'mths_maturity']\n"
     ]
    }
   ],
   "source": [
    "print(cols)"
   ]
  },
  {
   "cell_type": "code",
   "execution_count": 15,
   "metadata": {},
   "outputs": [],
   "source": [
    "#df = df[['mean', '0', '1', '2', '3']]\n",
    "fdata = fdata[['credit_score', 'first_time_buyer', 'mths_maturity', 'met_div', 'mi_percent', 'num_units', \n",
    "               'occup_status', 'cltv', 'dti', 'upb', 'ltv', 'int_rate', 'channel', 'ppm_flag', 'prod_type', \n",
    "               'prop_state', 'prop_type', 'zipcode', 'loan_num', 'purpose', 'term', 'col23', 'col24', 'col25']]"
   ]
  },
  {
   "cell_type": "code",
   "execution_count": 16,
   "metadata": {},
   "outputs": [
    {
     "data": {
      "text/html": [
       "<div>\n",
       "<style scoped>\n",
       "    .dataframe tbody tr th:only-of-type {\n",
       "        vertical-align: middle;\n",
       "    }\n",
       "\n",
       "    .dataframe tbody tr th {\n",
       "        vertical-align: top;\n",
       "    }\n",
       "\n",
       "    .dataframe thead th {\n",
       "        text-align: right;\n",
       "    }\n",
       "</style>\n",
       "<table border=\"1\" class=\"dataframe\">\n",
       "  <thead>\n",
       "    <tr style=\"text-align: right;\">\n",
       "      <th></th>\n",
       "      <th>credit_score</th>\n",
       "      <th>first_time_buyer</th>\n",
       "      <th>mths_maturity</th>\n",
       "      <th>met_div</th>\n",
       "      <th>mi_percent</th>\n",
       "      <th>num_units</th>\n",
       "      <th>occup_status</th>\n",
       "      <th>cltv</th>\n",
       "      <th>dti</th>\n",
       "      <th>upb</th>\n",
       "      <th>...</th>\n",
       "      <th>prod_type</th>\n",
       "      <th>prop_state</th>\n",
       "      <th>prop_type</th>\n",
       "      <th>zipcode</th>\n",
       "      <th>loan_num</th>\n",
       "      <th>purpose</th>\n",
       "      <th>term</th>\n",
       "      <th>col23</th>\n",
       "      <th>col24</th>\n",
       "      <th>col25</th>\n",
       "    </tr>\n",
       "  </thead>\n",
       "  <tbody>\n",
       "    <tr>\n",
       "      <th>0</th>\n",
       "      <td>751</td>\n",
       "      <td>N</td>\n",
       "      <td>359</td>\n",
       "      <td>NaN</td>\n",
       "      <td>0</td>\n",
       "      <td>1</td>\n",
       "      <td>P</td>\n",
       "      <td>71</td>\n",
       "      <td>20</td>\n",
       "      <td>180000</td>\n",
       "      <td>...</td>\n",
       "      <td>FRM</td>\n",
       "      <td>PA</td>\n",
       "      <td>SF</td>\n",
       "      <td>19300.0</td>\n",
       "      <td>F199Q1000001</td>\n",
       "      <td>P</td>\n",
       "      <td>360</td>\n",
       "      <td>2</td>\n",
       "      <td>Other sellers</td>\n",
       "      <td>Other servicers</td>\n",
       "    </tr>\n",
       "    <tr>\n",
       "      <th>1</th>\n",
       "      <td>733</td>\n",
       "      <td>N</td>\n",
       "      <td>359</td>\n",
       "      <td>29540.0</td>\n",
       "      <td>0</td>\n",
       "      <td>1</td>\n",
       "      <td>P</td>\n",
       "      <td>51</td>\n",
       "      <td>999</td>\n",
       "      <td>116000</td>\n",
       "      <td>...</td>\n",
       "      <td>FRM</td>\n",
       "      <td>PA</td>\n",
       "      <td>SF</td>\n",
       "      <td>17500.0</td>\n",
       "      <td>F199Q1000002</td>\n",
       "      <td>P</td>\n",
       "      <td>360</td>\n",
       "      <td>1</td>\n",
       "      <td>Other sellers</td>\n",
       "      <td>Other servicers</td>\n",
       "    </tr>\n",
       "    <tr>\n",
       "      <th>2</th>\n",
       "      <td>755</td>\n",
       "      <td>N</td>\n",
       "      <td>359</td>\n",
       "      <td>29540.0</td>\n",
       "      <td>30</td>\n",
       "      <td>1</td>\n",
       "      <td>P</td>\n",
       "      <td>95</td>\n",
       "      <td>38</td>\n",
       "      <td>138000</td>\n",
       "      <td>...</td>\n",
       "      <td>FRM</td>\n",
       "      <td>PA</td>\n",
       "      <td>SF</td>\n",
       "      <td>17500.0</td>\n",
       "      <td>F199Q1000003</td>\n",
       "      <td>P</td>\n",
       "      <td>360</td>\n",
       "      <td>2</td>\n",
       "      <td>Other sellers</td>\n",
       "      <td>Other servicers</td>\n",
       "    </tr>\n",
       "    <tr>\n",
       "      <th>3</th>\n",
       "      <td>669</td>\n",
       "      <td>N</td>\n",
       "      <td>319</td>\n",
       "      <td>NaN</td>\n",
       "      <td>0</td>\n",
       "      <td>1</td>\n",
       "      <td>P</td>\n",
       "      <td>80</td>\n",
       "      <td>33</td>\n",
       "      <td>162000</td>\n",
       "      <td>...</td>\n",
       "      <td>FRM</td>\n",
       "      <td>WV</td>\n",
       "      <td>SF</td>\n",
       "      <td>26100.0</td>\n",
       "      <td>F199Q1000004</td>\n",
       "      <td>P</td>\n",
       "      <td>320</td>\n",
       "      <td>2</td>\n",
       "      <td>Other sellers</td>\n",
       "      <td>Other servicers</td>\n",
       "    </tr>\n",
       "    <tr>\n",
       "      <th>4</th>\n",
       "      <td>732</td>\n",
       "      <td>N</td>\n",
       "      <td>359</td>\n",
       "      <td>17140.0</td>\n",
       "      <td>0</td>\n",
       "      <td>1</td>\n",
       "      <td>P</td>\n",
       "      <td>25</td>\n",
       "      <td>10</td>\n",
       "      <td>53000</td>\n",
       "      <td>...</td>\n",
       "      <td>FRM</td>\n",
       "      <td>OH</td>\n",
       "      <td>SF</td>\n",
       "      <td>45200.0</td>\n",
       "      <td>F199Q1000005</td>\n",
       "      <td>N</td>\n",
       "      <td>360</td>\n",
       "      <td>1</td>\n",
       "      <td>Other sellers</td>\n",
       "      <td>Other servicers</td>\n",
       "    </tr>\n",
       "  </tbody>\n",
       "</table>\n",
       "<p>5 rows × 24 columns</p>\n",
       "</div>"
      ],
      "text/plain": [
       "   credit_score first_time_buyer  mths_maturity  met_div  mi_percent  \\\n",
       "0           751                N            359      NaN           0   \n",
       "1           733                N            359  29540.0           0   \n",
       "2           755                N            359  29540.0          30   \n",
       "3           669                N            319      NaN           0   \n",
       "4           732                N            359  17140.0           0   \n",
       "\n",
       "   num_units occup_status  cltv  dti     upb       ...         prod_type  \\\n",
       "0          1            P    71   20  180000       ...               FRM   \n",
       "1          1            P    51  999  116000       ...               FRM   \n",
       "2          1            P    95   38  138000       ...               FRM   \n",
       "3          1            P    80   33  162000       ...               FRM   \n",
       "4          1            P    25   10   53000       ...               FRM   \n",
       "\n",
       "   prop_state prop_type  zipcode      loan_num purpose term  col23  \\\n",
       "0          PA        SF  19300.0  F199Q1000001       P  360      2   \n",
       "1          PA        SF  17500.0  F199Q1000002       P  360      1   \n",
       "2          PA        SF  17500.0  F199Q1000003       P  360      2   \n",
       "3          WV        SF  26100.0  F199Q1000004       P  320      2   \n",
       "4          OH        SF  45200.0  F199Q1000005       N  360      1   \n",
       "\n",
       "           col24            col25  \n",
       "0  Other sellers  Other servicers  \n",
       "1  Other sellers  Other servicers  \n",
       "2  Other sellers  Other servicers  \n",
       "3  Other sellers  Other servicers  \n",
       "4  Other sellers  Other servicers  \n",
       "\n",
       "[5 rows x 24 columns]"
      ]
     },
     "execution_count": 16,
     "metadata": {},
     "output_type": "execute_result"
    }
   ],
   "source": [
    "fdata.head()"
   ]
  },
  {
   "cell_type": "markdown",
   "metadata": {},
   "source": [
    "********"
   ]
  },
  {
   "cell_type": "markdown",
   "metadata": {},
   "source": [
    "#### Adding a response column 'f_code'"
   ]
  },
  {
   "cell_type": "code",
   "execution_count": 17,
   "metadata": {},
   "outputs": [],
   "source": [
    "# add a column called 'f_code' (freclosure code). we will set the default value to '0' for now.\n",
    "# 'f_code' will be be populated from the data that we read from many performance files for the loans\n",
    "# 'f_code' is the response vector and contains data that is '1' for loan that has foreclosed and \n",
    "# '0' for a loan that has not foreclosed\n",
    "\n",
    "#create the f_code column and initialize to '0'\n",
    "fdata['f_code'] = 0"
   ]
  },
  {
   "cell_type": "code",
   "execution_count": 18,
   "metadata": {},
   "outputs": [
    {
     "data": {
      "text/plain": [
       "credit_score            0\n",
       "first_time_buyer        0\n",
       "mths_maturity           0\n",
       "met_div             53076\n",
       "mi_percent              0\n",
       "num_units               0\n",
       "occup_status            0\n",
       "cltv                    0\n",
       "dti                     0\n",
       "upb                     0\n",
       "ltv                     0\n",
       "int_rate                0\n",
       "channel                 0\n",
       "ppm_flag             8670\n",
       "prod_type               0\n",
       "prop_state              0\n",
       "prop_type               0\n",
       "zipcode                 9\n",
       "loan_num                0\n",
       "purpose                 0\n",
       "term                    0\n",
       "col23                   0\n",
       "col24                   0\n",
       "col25                   0\n",
       "f_code                  0\n",
       "dtype: int64"
      ]
     },
     "execution_count": 18,
     "metadata": {},
     "output_type": "execute_result"
    }
   ],
   "source": [
    "fdata.isnull().sum()"
   ]
  },
  {
   "cell_type": "code",
   "execution_count": 19,
   "metadata": {},
   "outputs": [
    {
     "data": {
      "text/plain": [
       "credit_score          int64\n",
       "first_time_buyer     object\n",
       "mths_maturity         int64\n",
       "met_div             float64\n",
       "mi_percent            int64\n",
       "num_units             int64\n",
       "occup_status         object\n",
       "cltv                  int64\n",
       "dti                   int64\n",
       "upb                   int64\n",
       "ltv                   int64\n",
       "int_rate            float64\n",
       "channel              object\n",
       "ppm_flag             object\n",
       "prod_type            object\n",
       "prop_state           object\n",
       "prop_type            object\n",
       "zipcode             float64\n",
       "loan_num             object\n",
       "purpose              object\n",
       "term                  int64\n",
       "col23                 int64\n",
       "col24                object\n",
       "col25                object\n",
       "f_code                int64\n",
       "dtype: object"
      ]
     },
     "execution_count": 19,
     "metadata": {},
     "output_type": "execute_result"
    }
   ],
   "source": [
    "fdata.dtypes"
   ]
  },
  {
   "cell_type": "markdown",
   "metadata": {},
   "source": [
    "*********"
   ]
  },
  {
   "cell_type": "markdown",
   "metadata": {},
   "source": [
    "##### Dealing with columns 'met_div' and 'ppm_flag'"
   ]
  },
  {
   "cell_type": "code",
   "execution_count": 20,
   "metadata": {},
   "outputs": [],
   "source": [
    "# Drop columns with null values\n",
    "fdata.drop(['met_div','ppm_flag'],axis=1,inplace=True)"
   ]
  },
  {
   "cell_type": "markdown",
   "metadata": {},
   "source": [
    "********"
   ]
  },
  {
   "cell_type": "markdown",
   "metadata": {},
   "source": [
    "**********"
   ]
  },
  {
   "cell_type": "markdown",
   "metadata": {},
   "source": [
    "# Next step, reading in the performance file containing information if a loan has foreclosed or not"
   ]
  },
  {
   "cell_type": "code",
   "execution_count": 21,
   "metadata": {},
   "outputs": [],
   "source": [
    "perf_path = '../final_project_data/data/historical_data1_1999/historical_data1_time_Q11999.txt'\n",
    "pdata = pd.read_csv(perf_path, sep='|', index_col=False, \n",
    "                     names=['loan_num','col2','col3','col4','col5','col6','col7','col8','f_code1','col10','col11','col12',\n",
    "                            'col13','col14','col15','col16','col17','col18','col19','col20','col21','col22','col23'], \n",
    "                            error_bad_lines=False,low_memory=False)"
   ]
  },
  {
   "cell_type": "code",
   "execution_count": 22,
   "metadata": {},
   "outputs": [
    {
     "data": {
      "text/html": [
       "<div>\n",
       "<style scoped>\n",
       "    .dataframe tbody tr th:only-of-type {\n",
       "        vertical-align: middle;\n",
       "    }\n",
       "\n",
       "    .dataframe tbody tr th {\n",
       "        vertical-align: top;\n",
       "    }\n",
       "\n",
       "    .dataframe thead th {\n",
       "        text-align: right;\n",
       "    }\n",
       "</style>\n",
       "<table border=\"1\" class=\"dataframe\">\n",
       "  <thead>\n",
       "    <tr style=\"text-align: right;\">\n",
       "      <th></th>\n",
       "      <th>loan_num</th>\n",
       "      <th>col2</th>\n",
       "      <th>col3</th>\n",
       "      <th>col4</th>\n",
       "      <th>col5</th>\n",
       "      <th>col6</th>\n",
       "      <th>col7</th>\n",
       "      <th>col8</th>\n",
       "      <th>f_code1</th>\n",
       "      <th>col10</th>\n",
       "      <th>...</th>\n",
       "      <th>col14</th>\n",
       "      <th>col15</th>\n",
       "      <th>col16</th>\n",
       "      <th>col17</th>\n",
       "      <th>col18</th>\n",
       "      <th>col19</th>\n",
       "      <th>col20</th>\n",
       "      <th>col21</th>\n",
       "      <th>col22</th>\n",
       "      <th>col23</th>\n",
       "    </tr>\n",
       "  </thead>\n",
       "  <tbody>\n",
       "    <tr>\n",
       "      <th>0</th>\n",
       "      <td>F199Q1000001</td>\n",
       "      <td>200205</td>\n",
       "      <td>171982.43</td>\n",
       "      <td>0</td>\n",
       "      <td>37</td>\n",
       "      <td>328</td>\n",
       "      <td>NaN</td>\n",
       "      <td>NaN</td>\n",
       "      <td>NaN</td>\n",
       "      <td>NaN</td>\n",
       "      <td>...</td>\n",
       "      <td>NaN</td>\n",
       "      <td>NaN</td>\n",
       "      <td>NaN</td>\n",
       "      <td>NaN</td>\n",
       "      <td>NaN</td>\n",
       "      <td>NaN</td>\n",
       "      <td>NaN</td>\n",
       "      <td>NaN</td>\n",
       "      <td>NaN</td>\n",
       "      <td>NaN</td>\n",
       "    </tr>\n",
       "    <tr>\n",
       "      <th>1</th>\n",
       "      <td>F199Q1000001</td>\n",
       "      <td>200206</td>\n",
       "      <td>171571.39</td>\n",
       "      <td>0</td>\n",
       "      <td>38</td>\n",
       "      <td>327</td>\n",
       "      <td>NaN</td>\n",
       "      <td>NaN</td>\n",
       "      <td>NaN</td>\n",
       "      <td>NaN</td>\n",
       "      <td>...</td>\n",
       "      <td>NaN</td>\n",
       "      <td>NaN</td>\n",
       "      <td>NaN</td>\n",
       "      <td>NaN</td>\n",
       "      <td>NaN</td>\n",
       "      <td>NaN</td>\n",
       "      <td>NaN</td>\n",
       "      <td>NaN</td>\n",
       "      <td>NaN</td>\n",
       "      <td>NaN</td>\n",
       "    </tr>\n",
       "    <tr>\n",
       "      <th>2</th>\n",
       "      <td>F199Q1000001</td>\n",
       "      <td>200207</td>\n",
       "      <td>171158.33</td>\n",
       "      <td>0</td>\n",
       "      <td>39</td>\n",
       "      <td>326</td>\n",
       "      <td>NaN</td>\n",
       "      <td>NaN</td>\n",
       "      <td>NaN</td>\n",
       "      <td>NaN</td>\n",
       "      <td>...</td>\n",
       "      <td>NaN</td>\n",
       "      <td>NaN</td>\n",
       "      <td>NaN</td>\n",
       "      <td>NaN</td>\n",
       "      <td>NaN</td>\n",
       "      <td>NaN</td>\n",
       "      <td>NaN</td>\n",
       "      <td>NaN</td>\n",
       "      <td>NaN</td>\n",
       "      <td>NaN</td>\n",
       "    </tr>\n",
       "    <tr>\n",
       "      <th>3</th>\n",
       "      <td>F199Q1000001</td>\n",
       "      <td>200208</td>\n",
       "      <td>170742.89</td>\n",
       "      <td>0</td>\n",
       "      <td>40</td>\n",
       "      <td>325</td>\n",
       "      <td>NaN</td>\n",
       "      <td>NaN</td>\n",
       "      <td>NaN</td>\n",
       "      <td>NaN</td>\n",
       "      <td>...</td>\n",
       "      <td>NaN</td>\n",
       "      <td>NaN</td>\n",
       "      <td>NaN</td>\n",
       "      <td>NaN</td>\n",
       "      <td>NaN</td>\n",
       "      <td>NaN</td>\n",
       "      <td>NaN</td>\n",
       "      <td>NaN</td>\n",
       "      <td>NaN</td>\n",
       "      <td>NaN</td>\n",
       "    </tr>\n",
       "    <tr>\n",
       "      <th>4</th>\n",
       "      <td>F199Q1000001</td>\n",
       "      <td>200209</td>\n",
       "      <td>170325.17</td>\n",
       "      <td>0</td>\n",
       "      <td>41</td>\n",
       "      <td>324</td>\n",
       "      <td>NaN</td>\n",
       "      <td>NaN</td>\n",
       "      <td>NaN</td>\n",
       "      <td>NaN</td>\n",
       "      <td>...</td>\n",
       "      <td>NaN</td>\n",
       "      <td>NaN</td>\n",
       "      <td>NaN</td>\n",
       "      <td>NaN</td>\n",
       "      <td>NaN</td>\n",
       "      <td>NaN</td>\n",
       "      <td>NaN</td>\n",
       "      <td>NaN</td>\n",
       "      <td>NaN</td>\n",
       "      <td>NaN</td>\n",
       "    </tr>\n",
       "  </tbody>\n",
       "</table>\n",
       "<p>5 rows × 23 columns</p>\n",
       "</div>"
      ],
      "text/plain": [
       "       loan_num    col2       col3 col4  col5  col6 col7 col8  f_code1  col10  \\\n",
       "0  F199Q1000001  200205  171982.43    0    37   328  NaN  NaN      NaN    NaN   \n",
       "1  F199Q1000001  200206  171571.39    0    38   327  NaN  NaN      NaN    NaN   \n",
       "2  F199Q1000001  200207  171158.33    0    39   326  NaN  NaN      NaN    NaN   \n",
       "3  F199Q1000001  200208  170742.89    0    40   325  NaN  NaN      NaN    NaN   \n",
       "4  F199Q1000001  200209  170325.17    0    41   324  NaN  NaN      NaN    NaN   \n",
       "\n",
       "   ...    col14  col15  col16  col17 col18  col19  col20  col21  col22  col23  \n",
       "0  ...      NaN    NaN    NaN    NaN   NaN    NaN    NaN    NaN    NaN    NaN  \n",
       "1  ...      NaN    NaN    NaN    NaN   NaN    NaN    NaN    NaN    NaN    NaN  \n",
       "2  ...      NaN    NaN    NaN    NaN   NaN    NaN    NaN    NaN    NaN    NaN  \n",
       "3  ...      NaN    NaN    NaN    NaN   NaN    NaN    NaN    NaN    NaN    NaN  \n",
       "4  ...      NaN    NaN    NaN    NaN   NaN    NaN    NaN    NaN    NaN    NaN  \n",
       "\n",
       "[5 rows x 23 columns]"
      ]
     },
     "execution_count": 22,
     "metadata": {},
     "output_type": "execute_result"
    }
   ],
   "source": [
    "pdata.head()"
   ]
  },
  {
   "cell_type": "code",
   "execution_count": 23,
   "metadata": {},
   "outputs": [],
   "source": [
    "#drop the columns that are not needed\n",
    "#in the performance data we are only interested in column 'f_code1' which is whether a loan foreclosed or not\n",
    "\n",
    "pdata.drop(['col2', 'col3', 'col4', 'col5', 'col6', 'col7', 'col8', 'col10'\n",
    "              , 'col11', 'col12', 'col13', 'col14', 'col15', 'col16', 'col17'\n",
    "              , 'col18', 'col19', 'col20', 'col21', 'col22', 'col23'], axis=1, inplace=True)"
   ]
  },
  {
   "cell_type": "code",
   "execution_count": 24,
   "metadata": {},
   "outputs": [
    {
     "data": {
      "text/plain": [
       "(22439217, 2)"
      ]
     },
     "execution_count": 24,
     "metadata": {},
     "output_type": "execute_result"
    }
   ],
   "source": [
    "pdata.shape"
   ]
  },
  {
   "cell_type": "markdown",
   "metadata": {},
   "source": [
    "#### The performance data contains multiple rows for each loan_num. \n",
    "#### Removing duplicate rows reducing from 22,439,217 rows to 385,007 rows"
   ]
  },
  {
   "cell_type": "code",
   "execution_count": 25,
   "metadata": {},
   "outputs": [
    {
     "data": {
      "text/plain": [
       "(385007, 2)"
      ]
     },
     "execution_count": 25,
     "metadata": {},
     "output_type": "execute_result"
    }
   ],
   "source": [
    "pdata = pdata.drop_duplicates(keep=False)\n",
    "pdata.shape"
   ]
  },
  {
   "cell_type": "markdown",
   "metadata": {},
   "source": [
    "#### Working with the 'f_code1' column in the performance data 'pdata'"
   ]
  },
  {
   "cell_type": "code",
   "execution_count": 26,
   "metadata": {},
   "outputs": [
    {
     "data": {
      "text/html": [
       "<div>\n",
       "<style scoped>\n",
       "    .dataframe tbody tr th:only-of-type {\n",
       "        vertical-align: middle;\n",
       "    }\n",
       "\n",
       "    .dataframe tbody tr th {\n",
       "        vertical-align: top;\n",
       "    }\n",
       "\n",
       "    .dataframe thead th {\n",
       "        text-align: right;\n",
       "    }\n",
       "</style>\n",
       "<table border=\"1\" class=\"dataframe\">\n",
       "  <thead>\n",
       "    <tr style=\"text-align: right;\">\n",
       "      <th></th>\n",
       "      <th>loan_num</th>\n",
       "    </tr>\n",
       "    <tr>\n",
       "      <th>f_code1</th>\n",
       "      <th></th>\n",
       "    </tr>\n",
       "  </thead>\n",
       "  <tbody>\n",
       "    <tr>\n",
       "      <th>1.0</th>\n",
       "      <td>378730</td>\n",
       "    </tr>\n",
       "    <tr>\n",
       "      <th>3.0</th>\n",
       "      <td>1287</td>\n",
       "    </tr>\n",
       "    <tr>\n",
       "      <th>6.0</th>\n",
       "      <td>645</td>\n",
       "    </tr>\n",
       "    <tr>\n",
       "      <th>9.0</th>\n",
       "      <td>3177</td>\n",
       "    </tr>\n",
       "  </tbody>\n",
       "</table>\n",
       "</div>"
      ],
      "text/plain": [
       "         loan_num\n",
       "f_code1          \n",
       "1.0        378730\n",
       "3.0          1287\n",
       "6.0           645\n",
       "9.0          3177"
      ]
     },
     "execution_count": 26,
     "metadata": {},
     "output_type": "execute_result"
    }
   ],
   "source": [
    "pdata.groupby( [ \"f_code1\"] ).count()"
   ]
  },
  {
   "cell_type": "code",
   "execution_count": 27,
   "metadata": {},
   "outputs": [],
   "source": [
    "# remove any null values\n",
    "# f_code1 is the code that will be set to '0' for all loans that have not foreclosed\n",
    "# f_code1 will be set to '1' for all loans that have foreclosed\n",
    "pdata.dropna(axis=0, subset=['f_code1'], inplace=True)\n",
    "\n",
    "# set f_code 3 and 9 to 1 (foreclosured loans), codes 1 and 6 to 0 (not foreclosed)\n",
    "pdata.loc[pdata.f_code1 == 1, 'f_code1'] = 0\n",
    "pdata.loc[pdata.f_code1 == 6, 'f_code1'] = 0\n",
    "pdata.loc[pdata.f_code1 == 3,'f_code1'] = 1\n",
    "pdata.loc[pdata.f_code1 == 9, 'f_code1'] = 1"
   ]
  },
  {
   "cell_type": "code",
   "execution_count": 28,
   "metadata": {},
   "outputs": [
    {
     "data": {
      "text/html": [
       "<div>\n",
       "<style scoped>\n",
       "    .dataframe tbody tr th:only-of-type {\n",
       "        vertical-align: middle;\n",
       "    }\n",
       "\n",
       "    .dataframe tbody tr th {\n",
       "        vertical-align: top;\n",
       "    }\n",
       "\n",
       "    .dataframe thead th {\n",
       "        text-align: right;\n",
       "    }\n",
       "</style>\n",
       "<table border=\"1\" class=\"dataframe\">\n",
       "  <thead>\n",
       "    <tr style=\"text-align: right;\">\n",
       "      <th></th>\n",
       "      <th>loan_num</th>\n",
       "    </tr>\n",
       "    <tr>\n",
       "      <th>f_code1</th>\n",
       "      <th></th>\n",
       "    </tr>\n",
       "  </thead>\n",
       "  <tbody>\n",
       "    <tr>\n",
       "      <th>0.0</th>\n",
       "      <td>379375</td>\n",
       "    </tr>\n",
       "    <tr>\n",
       "      <th>1.0</th>\n",
       "      <td>4464</td>\n",
       "    </tr>\n",
       "  </tbody>\n",
       "</table>\n",
       "</div>"
      ],
      "text/plain": [
       "         loan_num\n",
       "f_code1          \n",
       "0.0        379375\n",
       "1.0          4464"
      ]
     },
     "execution_count": 28,
     "metadata": {},
     "output_type": "execute_result"
    }
   ],
   "source": [
    "pdata.groupby( [ \"f_code1\"] ).count()"
   ]
  },
  {
   "cell_type": "markdown",
   "metadata": {},
   "source": [
    "#### Based on the above there are 4464 loans that have foreclosed\n",
    "#### Next we will merge the fdata (feature data) with pdata (performance data)"
   ]
  },
  {
   "cell_type": "code",
   "execution_count": 29,
   "metadata": {},
   "outputs": [],
   "source": [
    "#convert the float f_code column to an int column and then sort\n",
    "pdata['f_code1'] = pdata['f_code1'].astype(int)\n",
    "pdata.sort_values(by=['loan_num'],inplace=True);"
   ]
  },
  {
   "cell_type": "code",
   "execution_count": 30,
   "metadata": {},
   "outputs": [
    {
     "data": {
      "text/html": [
       "<div>\n",
       "<style scoped>\n",
       "    .dataframe tbody tr th:only-of-type {\n",
       "        vertical-align: middle;\n",
       "    }\n",
       "\n",
       "    .dataframe tbody tr th {\n",
       "        vertical-align: top;\n",
       "    }\n",
       "\n",
       "    .dataframe thead th {\n",
       "        text-align: right;\n",
       "    }\n",
       "</style>\n",
       "<table border=\"1\" class=\"dataframe\">\n",
       "  <thead>\n",
       "    <tr style=\"text-align: right;\">\n",
       "      <th></th>\n",
       "      <th>credit_score</th>\n",
       "      <th>first_time_buyer</th>\n",
       "      <th>mths_maturity</th>\n",
       "      <th>mi_percent</th>\n",
       "      <th>num_units</th>\n",
       "      <th>occup_status</th>\n",
       "      <th>cltv</th>\n",
       "      <th>dti</th>\n",
       "      <th>upb</th>\n",
       "      <th>ltv</th>\n",
       "      <th>...</th>\n",
       "      <th>prop_type</th>\n",
       "      <th>zipcode</th>\n",
       "      <th>loan_num</th>\n",
       "      <th>purpose</th>\n",
       "      <th>term</th>\n",
       "      <th>col23</th>\n",
       "      <th>col24</th>\n",
       "      <th>col25</th>\n",
       "      <th>f_code</th>\n",
       "      <th>f_code1</th>\n",
       "    </tr>\n",
       "  </thead>\n",
       "  <tbody>\n",
       "    <tr>\n",
       "      <th>0</th>\n",
       "      <td>751</td>\n",
       "      <td>N</td>\n",
       "      <td>359</td>\n",
       "      <td>0</td>\n",
       "      <td>1</td>\n",
       "      <td>P</td>\n",
       "      <td>71</td>\n",
       "      <td>20</td>\n",
       "      <td>180000</td>\n",
       "      <td>71</td>\n",
       "      <td>...</td>\n",
       "      <td>SF</td>\n",
       "      <td>19300.0</td>\n",
       "      <td>F199Q1000001</td>\n",
       "      <td>P</td>\n",
       "      <td>360</td>\n",
       "      <td>2</td>\n",
       "      <td>Other sellers</td>\n",
       "      <td>Other servicers</td>\n",
       "      <td>0</td>\n",
       "      <td>0</td>\n",
       "    </tr>\n",
       "    <tr>\n",
       "      <th>1</th>\n",
       "      <td>733</td>\n",
       "      <td>N</td>\n",
       "      <td>359</td>\n",
       "      <td>0</td>\n",
       "      <td>1</td>\n",
       "      <td>P</td>\n",
       "      <td>51</td>\n",
       "      <td>999</td>\n",
       "      <td>116000</td>\n",
       "      <td>51</td>\n",
       "      <td>...</td>\n",
       "      <td>SF</td>\n",
       "      <td>17500.0</td>\n",
       "      <td>F199Q1000002</td>\n",
       "      <td>P</td>\n",
       "      <td>360</td>\n",
       "      <td>1</td>\n",
       "      <td>Other sellers</td>\n",
       "      <td>Other servicers</td>\n",
       "      <td>0</td>\n",
       "      <td>0</td>\n",
       "    </tr>\n",
       "    <tr>\n",
       "      <th>2</th>\n",
       "      <td>755</td>\n",
       "      <td>N</td>\n",
       "      <td>359</td>\n",
       "      <td>30</td>\n",
       "      <td>1</td>\n",
       "      <td>P</td>\n",
       "      <td>95</td>\n",
       "      <td>38</td>\n",
       "      <td>138000</td>\n",
       "      <td>95</td>\n",
       "      <td>...</td>\n",
       "      <td>SF</td>\n",
       "      <td>17500.0</td>\n",
       "      <td>F199Q1000003</td>\n",
       "      <td>P</td>\n",
       "      <td>360</td>\n",
       "      <td>2</td>\n",
       "      <td>Other sellers</td>\n",
       "      <td>Other servicers</td>\n",
       "      <td>0</td>\n",
       "      <td>0</td>\n",
       "    </tr>\n",
       "    <tr>\n",
       "      <th>3</th>\n",
       "      <td>669</td>\n",
       "      <td>N</td>\n",
       "      <td>319</td>\n",
       "      <td>0</td>\n",
       "      <td>1</td>\n",
       "      <td>P</td>\n",
       "      <td>80</td>\n",
       "      <td>33</td>\n",
       "      <td>162000</td>\n",
       "      <td>80</td>\n",
       "      <td>...</td>\n",
       "      <td>SF</td>\n",
       "      <td>26100.0</td>\n",
       "      <td>F199Q1000004</td>\n",
       "      <td>P</td>\n",
       "      <td>320</td>\n",
       "      <td>2</td>\n",
       "      <td>Other sellers</td>\n",
       "      <td>Other servicers</td>\n",
       "      <td>0</td>\n",
       "      <td>0</td>\n",
       "    </tr>\n",
       "    <tr>\n",
       "      <th>4</th>\n",
       "      <td>732</td>\n",
       "      <td>N</td>\n",
       "      <td>359</td>\n",
       "      <td>0</td>\n",
       "      <td>1</td>\n",
       "      <td>P</td>\n",
       "      <td>25</td>\n",
       "      <td>10</td>\n",
       "      <td>53000</td>\n",
       "      <td>25</td>\n",
       "      <td>...</td>\n",
       "      <td>SF</td>\n",
       "      <td>45200.0</td>\n",
       "      <td>F199Q1000005</td>\n",
       "      <td>N</td>\n",
       "      <td>360</td>\n",
       "      <td>1</td>\n",
       "      <td>Other sellers</td>\n",
       "      <td>Other servicers</td>\n",
       "      <td>0</td>\n",
       "      <td>0</td>\n",
       "    </tr>\n",
       "  </tbody>\n",
       "</table>\n",
       "<p>5 rows × 24 columns</p>\n",
       "</div>"
      ],
      "text/plain": [
       "   credit_score first_time_buyer  mths_maturity  mi_percent  num_units  \\\n",
       "0           751                N            359           0          1   \n",
       "1           733                N            359           0          1   \n",
       "2           755                N            359          30          1   \n",
       "3           669                N            319           0          1   \n",
       "4           732                N            359           0          1   \n",
       "\n",
       "  occup_status  cltv  dti     upb  ltv   ...     prop_type  zipcode  \\\n",
       "0            P    71   20  180000   71   ...            SF  19300.0   \n",
       "1            P    51  999  116000   51   ...            SF  17500.0   \n",
       "2            P    95   38  138000   95   ...            SF  17500.0   \n",
       "3            P    80   33  162000   80   ...            SF  26100.0   \n",
       "4            P    25   10   53000   25   ...            SF  45200.0   \n",
       "\n",
       "       loan_num purpose term  col23          col24            col25  f_code  \\\n",
       "0  F199Q1000001       P  360      2  Other sellers  Other servicers       0   \n",
       "1  F199Q1000002       P  360      1  Other sellers  Other servicers       0   \n",
       "2  F199Q1000003       P  360      2  Other sellers  Other servicers       0   \n",
       "3  F199Q1000004       P  320      2  Other sellers  Other servicers       0   \n",
       "4  F199Q1000005       N  360      1  Other sellers  Other servicers       0   \n",
       "\n",
       "   f_code1  \n",
       "0        0  \n",
       "1        0  \n",
       "2        0  \n",
       "3        0  \n",
       "4        0  \n",
       "\n",
       "[5 rows x 24 columns]"
      ]
     },
     "execution_count": 30,
     "metadata": {},
     "output_type": "execute_result"
    }
   ],
   "source": [
    "fdata.sort_values(by=['loan_num'],inplace=True);\n",
    "fdata = pd.merge(fdata,pdata[['loan_num','f_code1']],on='loan_num')\n",
    "fdata.head()"
   ]
  },
  {
   "cell_type": "markdown",
   "metadata": {},
   "source": [
    "#### merge the 'f_code' and 'f_code1' columns in fdata dataframe"
   ]
  },
  {
   "cell_type": "code",
   "execution_count": 31,
   "metadata": {},
   "outputs": [],
   "source": [
    "fdata['f_code'] = fdata.f_code | fdata.f_code1"
   ]
  },
  {
   "cell_type": "code",
   "execution_count": 32,
   "metadata": {},
   "outputs": [],
   "source": [
    "fdata.drop('f_code1',axis=1,inplace=True)"
   ]
  },
  {
   "cell_type": "code",
   "execution_count": 33,
   "metadata": {},
   "outputs": [
    {
     "data": {
      "text/html": [
       "<div>\n",
       "<style scoped>\n",
       "    .dataframe tbody tr th:only-of-type {\n",
       "        vertical-align: middle;\n",
       "    }\n",
       "\n",
       "    .dataframe tbody tr th {\n",
       "        vertical-align: top;\n",
       "    }\n",
       "\n",
       "    .dataframe thead th {\n",
       "        text-align: right;\n",
       "    }\n",
       "</style>\n",
       "<table border=\"1\" class=\"dataframe\">\n",
       "  <thead>\n",
       "    <tr style=\"text-align: right;\">\n",
       "      <th></th>\n",
       "      <th>credit_score</th>\n",
       "      <th>first_time_buyer</th>\n",
       "      <th>mths_maturity</th>\n",
       "      <th>mi_percent</th>\n",
       "      <th>num_units</th>\n",
       "      <th>occup_status</th>\n",
       "      <th>cltv</th>\n",
       "      <th>dti</th>\n",
       "      <th>upb</th>\n",
       "      <th>ltv</th>\n",
       "      <th>...</th>\n",
       "      <th>prop_state</th>\n",
       "      <th>prop_type</th>\n",
       "      <th>zipcode</th>\n",
       "      <th>loan_num</th>\n",
       "      <th>purpose</th>\n",
       "      <th>term</th>\n",
       "      <th>col23</th>\n",
       "      <th>col24</th>\n",
       "      <th>col25</th>\n",
       "      <th>f_code</th>\n",
       "    </tr>\n",
       "  </thead>\n",
       "  <tbody>\n",
       "    <tr>\n",
       "      <th>0</th>\n",
       "      <td>751</td>\n",
       "      <td>N</td>\n",
       "      <td>359</td>\n",
       "      <td>0</td>\n",
       "      <td>1</td>\n",
       "      <td>P</td>\n",
       "      <td>71</td>\n",
       "      <td>20</td>\n",
       "      <td>180000</td>\n",
       "      <td>71</td>\n",
       "      <td>...</td>\n",
       "      <td>PA</td>\n",
       "      <td>SF</td>\n",
       "      <td>19300.0</td>\n",
       "      <td>F199Q1000001</td>\n",
       "      <td>P</td>\n",
       "      <td>360</td>\n",
       "      <td>2</td>\n",
       "      <td>Other sellers</td>\n",
       "      <td>Other servicers</td>\n",
       "      <td>0</td>\n",
       "    </tr>\n",
       "    <tr>\n",
       "      <th>1</th>\n",
       "      <td>733</td>\n",
       "      <td>N</td>\n",
       "      <td>359</td>\n",
       "      <td>0</td>\n",
       "      <td>1</td>\n",
       "      <td>P</td>\n",
       "      <td>51</td>\n",
       "      <td>999</td>\n",
       "      <td>116000</td>\n",
       "      <td>51</td>\n",
       "      <td>...</td>\n",
       "      <td>PA</td>\n",
       "      <td>SF</td>\n",
       "      <td>17500.0</td>\n",
       "      <td>F199Q1000002</td>\n",
       "      <td>P</td>\n",
       "      <td>360</td>\n",
       "      <td>1</td>\n",
       "      <td>Other sellers</td>\n",
       "      <td>Other servicers</td>\n",
       "      <td>0</td>\n",
       "    </tr>\n",
       "    <tr>\n",
       "      <th>2</th>\n",
       "      <td>755</td>\n",
       "      <td>N</td>\n",
       "      <td>359</td>\n",
       "      <td>30</td>\n",
       "      <td>1</td>\n",
       "      <td>P</td>\n",
       "      <td>95</td>\n",
       "      <td>38</td>\n",
       "      <td>138000</td>\n",
       "      <td>95</td>\n",
       "      <td>...</td>\n",
       "      <td>PA</td>\n",
       "      <td>SF</td>\n",
       "      <td>17500.0</td>\n",
       "      <td>F199Q1000003</td>\n",
       "      <td>P</td>\n",
       "      <td>360</td>\n",
       "      <td>2</td>\n",
       "      <td>Other sellers</td>\n",
       "      <td>Other servicers</td>\n",
       "      <td>0</td>\n",
       "    </tr>\n",
       "    <tr>\n",
       "      <th>3</th>\n",
       "      <td>669</td>\n",
       "      <td>N</td>\n",
       "      <td>319</td>\n",
       "      <td>0</td>\n",
       "      <td>1</td>\n",
       "      <td>P</td>\n",
       "      <td>80</td>\n",
       "      <td>33</td>\n",
       "      <td>162000</td>\n",
       "      <td>80</td>\n",
       "      <td>...</td>\n",
       "      <td>WV</td>\n",
       "      <td>SF</td>\n",
       "      <td>26100.0</td>\n",
       "      <td>F199Q1000004</td>\n",
       "      <td>P</td>\n",
       "      <td>320</td>\n",
       "      <td>2</td>\n",
       "      <td>Other sellers</td>\n",
       "      <td>Other servicers</td>\n",
       "      <td>0</td>\n",
       "    </tr>\n",
       "    <tr>\n",
       "      <th>4</th>\n",
       "      <td>732</td>\n",
       "      <td>N</td>\n",
       "      <td>359</td>\n",
       "      <td>0</td>\n",
       "      <td>1</td>\n",
       "      <td>P</td>\n",
       "      <td>25</td>\n",
       "      <td>10</td>\n",
       "      <td>53000</td>\n",
       "      <td>25</td>\n",
       "      <td>...</td>\n",
       "      <td>OH</td>\n",
       "      <td>SF</td>\n",
       "      <td>45200.0</td>\n",
       "      <td>F199Q1000005</td>\n",
       "      <td>N</td>\n",
       "      <td>360</td>\n",
       "      <td>1</td>\n",
       "      <td>Other sellers</td>\n",
       "      <td>Other servicers</td>\n",
       "      <td>0</td>\n",
       "    </tr>\n",
       "  </tbody>\n",
       "</table>\n",
       "<p>5 rows × 23 columns</p>\n",
       "</div>"
      ],
      "text/plain": [
       "   credit_score first_time_buyer  mths_maturity  mi_percent  num_units  \\\n",
       "0           751                N            359           0          1   \n",
       "1           733                N            359           0          1   \n",
       "2           755                N            359          30          1   \n",
       "3           669                N            319           0          1   \n",
       "4           732                N            359           0          1   \n",
       "\n",
       "  occup_status  cltv  dti     upb  ltv   ...    prop_state prop_type  zipcode  \\\n",
       "0            P    71   20  180000   71   ...            PA        SF  19300.0   \n",
       "1            P    51  999  116000   51   ...            PA        SF  17500.0   \n",
       "2            P    95   38  138000   95   ...            PA        SF  17500.0   \n",
       "3            P    80   33  162000   80   ...            WV        SF  26100.0   \n",
       "4            P    25   10   53000   25   ...            OH        SF  45200.0   \n",
       "\n",
       "       loan_num purpose  term col23          col24            col25  f_code  \n",
       "0  F199Q1000001       P   360     2  Other sellers  Other servicers       0  \n",
       "1  F199Q1000002       P   360     1  Other sellers  Other servicers       0  \n",
       "2  F199Q1000003       P   360     2  Other sellers  Other servicers       0  \n",
       "3  F199Q1000004       P   320     2  Other sellers  Other servicers       0  \n",
       "4  F199Q1000005       N   360     1  Other sellers  Other servicers       0  \n",
       "\n",
       "[5 rows x 23 columns]"
      ]
     },
     "execution_count": 33,
     "metadata": {},
     "output_type": "execute_result"
    }
   ],
   "source": [
    "fdata.head()"
   ]
  },
  {
   "cell_type": "markdown",
   "metadata": {},
   "source": [
    "***********"
   ]
  },
  {
   "cell_type": "markdown",
   "metadata": {},
   "source": [
    "### With the above steps the response vector f_code is merged into the feature dataframe 'fdata'\n",
    "### As a result 'fdata' now has all the feature columns as well as the response column"
   ]
  },
  {
   "cell_type": "markdown",
   "metadata": {},
   "source": [
    "************"
   ]
  },
  {
   "cell_type": "markdown",
   "metadata": {},
   "source": [
    "#### Getting back to massaging data in feature columns of the feature data (fdata) dataframe"
   ]
  },
  {
   "cell_type": "markdown",
   "metadata": {},
   "source": [
    "##### Column **'first_time_buyer'**"
   ]
  },
  {
   "cell_type": "code",
   "execution_count": 34,
   "metadata": {},
   "outputs": [],
   "source": [
    "# first_time_buyer column, convert 'N' and 'Y' to '0' and '1'\n",
    "fdata.loc[fdata.first_time_buyer == 'N', 'first_time_buyer'] = 0\n",
    "fdata.loc[fdata.first_time_buyer == 'Y', 'first_time_buyer'] = 1\n",
    "\n",
    "#convert the float f_code column to an int column and then sort\n",
    "fdata['first_time_buyer'] = fdata['first_time_buyer'].astype(int)"
   ]
  },
  {
   "cell_type": "markdown",
   "metadata": {},
   "source": [
    "**********"
   ]
  },
  {
   "cell_type": "markdown",
   "metadata": {},
   "source": [
    "##### Column **'mi_percent'**"
   ]
  },
  {
   "cell_type": "code",
   "execution_count": 35,
   "metadata": {},
   "outputs": [
    {
     "data": {
      "text/plain": [
       "101282"
      ]
     },
     "execution_count": 35,
     "metadata": {},
     "output_type": "execute_result"
    }
   ],
   "source": [
    "# Determine the number of loans for which the mi_percent or Mortgage Insurance Percentage value is not available.\n",
    "# These values were set to 999\n",
    "fdata[fdata.mi_percent == 999].mi_percent.count()"
   ]
  },
  {
   "cell_type": "code",
   "execution_count": 36,
   "metadata": {},
   "outputs": [],
   "source": [
    "# Given that 101282 rows do not have the mi_percent data, we will drop this column from consideration as a feature\n",
    "# Drop mi_percent column\n",
    "fdata.drop(['mi_percent'],axis=1,inplace=True)"
   ]
  },
  {
   "cell_type": "markdown",
   "metadata": {},
   "source": [
    "************"
   ]
  },
  {
   "cell_type": "markdown",
   "metadata": {},
   "source": [
    "##### Column **'num_units'**"
   ]
  },
  {
   "cell_type": "code",
   "execution_count": 37,
   "metadata": {},
   "outputs": [
    {
     "data": {
      "text/plain": [
       "num_units\n",
       "1     375777\n",
       "2       6232\n",
       "3        911\n",
       "4        917\n",
       "99         2\n",
       "Name: num_units, dtype: int64"
      ]
     },
     "execution_count": 37,
     "metadata": {},
     "output_type": "execute_result"
    }
   ],
   "source": [
    "#fdata[fdata.num_units == 99].num_units.count()\n",
    "#num_units - Denotes whether the mortgage is a \n",
    "#1 - one-unit property,\n",
    "#2 - two-unit propert,\n",
    "#3 - three-unit propert, or \n",
    "#4 - four-unit property.\n",
    "#num_units value of 99 implies that it is unknown\n",
    "\n",
    "fdata.groupby(['num_units']).num_units.count()"
   ]
  },
  {
   "cell_type": "code",
   "execution_count": 38,
   "metadata": {},
   "outputs": [],
   "source": [
    "#given that the most likely num_units value is 1, we will set the rows with '99' value for num_units to '1'\n",
    "fdata.loc[fdata.num_units == 99, 'num_units'] = 1"
   ]
  },
  {
   "cell_type": "markdown",
   "metadata": {},
   "source": [
    "*************"
   ]
  },
  {
   "cell_type": "markdown",
   "metadata": {},
   "source": [
    "##### Column **'occup_status'**"
   ]
  },
  {
   "cell_type": "code",
   "execution_count": 39,
   "metadata": {},
   "outputs": [
    {
     "data": {
      "text/plain": [
       "occup_status\n",
       "I     12693\n",
       "P    362173\n",
       "S      8973\n",
       "Name: occup_status, dtype: int64"
      ]
     },
     "execution_count": 39,
     "metadata": {},
     "output_type": "execute_result"
    }
   ],
   "source": [
    "#occup_status or occupancy status\n",
    "#P = Primary Residence\n",
    "#I = Investment Property\n",
    "#S = Second Home\n",
    "#9 = Not Available\n",
    "fdata.groupby(['occup_status']).occup_status.count()"
   ]
  },
  {
   "cell_type": "code",
   "execution_count": 40,
   "metadata": {},
   "outputs": [],
   "source": [
    "fdata.loc[fdata.occup_status == 'P', 'occup_status'] = 1\n",
    "fdata.loc[fdata.occup_status == 'I', 'occup_status'] = 2\n",
    "fdata.loc[fdata.occup_status == 'S', 'occup_status'] = 3\n",
    "fdata['occup_status'] = fdata['occup_status'].astype(int)"
   ]
  },
  {
   "cell_type": "markdown",
   "metadata": {},
   "source": [
    "***********"
   ]
  },
  {
   "cell_type": "markdown",
   "metadata": {},
   "source": [
    "##### Column **'cltv'**"
   ]
  },
  {
   "cell_type": "code",
   "execution_count": 41,
   "metadata": {},
   "outputs": [],
   "source": [
    "# ORIGINAL COMBINED LOAN-TO-VALUE (CLTV) 0% - 200% , 999 = Not Available\n",
    "# Removing rows where 'cltv' is not available (only 4 rows had not cltv not available)\n",
    "fdata = fdata[fdata[\"cltv\"] != 999]"
   ]
  },
  {
   "cell_type": "code",
   "execution_count": 42,
   "metadata": {},
   "outputs": [
    {
     "data": {
      "text/plain": [
       "credit_score          int64\n",
       "first_time_buyer      int64\n",
       "mths_maturity         int64\n",
       "num_units             int64\n",
       "occup_status          int64\n",
       "cltv                  int64\n",
       "dti                   int64\n",
       "upb                   int64\n",
       "ltv                   int64\n",
       "int_rate            float64\n",
       "channel              object\n",
       "prod_type            object\n",
       "prop_state           object\n",
       "prop_type            object\n",
       "zipcode             float64\n",
       "loan_num             object\n",
       "purpose              object\n",
       "term                  int64\n",
       "col23                 int64\n",
       "col24                object\n",
       "col25                object\n",
       "f_code                int64\n",
       "dtype: object"
      ]
     },
     "execution_count": 42,
     "metadata": {},
     "output_type": "execute_result"
    }
   ],
   "source": [
    "fdata.dtypes"
   ]
  },
  {
   "cell_type": "code",
   "execution_count": 43,
   "metadata": {},
   "outputs": [
    {
     "data": {
      "text/html": [
       "<div>\n",
       "<style scoped>\n",
       "    .dataframe tbody tr th:only-of-type {\n",
       "        vertical-align: middle;\n",
       "    }\n",
       "\n",
       "    .dataframe tbody tr th {\n",
       "        vertical-align: top;\n",
       "    }\n",
       "\n",
       "    .dataframe thead th {\n",
       "        text-align: right;\n",
       "    }\n",
       "</style>\n",
       "<table border=\"1\" class=\"dataframe\">\n",
       "  <thead>\n",
       "    <tr style=\"text-align: right;\">\n",
       "      <th></th>\n",
       "      <th>credit_score</th>\n",
       "      <th>first_time_buyer</th>\n",
       "      <th>mths_maturity</th>\n",
       "      <th>num_units</th>\n",
       "      <th>occup_status</th>\n",
       "      <th>cltv</th>\n",
       "      <th>dti</th>\n",
       "      <th>upb</th>\n",
       "      <th>ltv</th>\n",
       "      <th>int_rate</th>\n",
       "      <th>...</th>\n",
       "      <th>prop_state</th>\n",
       "      <th>prop_type</th>\n",
       "      <th>zipcode</th>\n",
       "      <th>loan_num</th>\n",
       "      <th>purpose</th>\n",
       "      <th>term</th>\n",
       "      <th>col23</th>\n",
       "      <th>col24</th>\n",
       "      <th>col25</th>\n",
       "      <th>f_code</th>\n",
       "    </tr>\n",
       "  </thead>\n",
       "  <tbody>\n",
       "    <tr>\n",
       "      <th>0</th>\n",
       "      <td>751</td>\n",
       "      <td>0</td>\n",
       "      <td>359</td>\n",
       "      <td>1</td>\n",
       "      <td>1</td>\n",
       "      <td>71</td>\n",
       "      <td>20</td>\n",
       "      <td>180000</td>\n",
       "      <td>71</td>\n",
       "      <td>6.30</td>\n",
       "      <td>...</td>\n",
       "      <td>PA</td>\n",
       "      <td>SF</td>\n",
       "      <td>19300.0</td>\n",
       "      <td>F199Q1000001</td>\n",
       "      <td>P</td>\n",
       "      <td>360</td>\n",
       "      <td>2</td>\n",
       "      <td>Other sellers</td>\n",
       "      <td>Other servicers</td>\n",
       "      <td>0</td>\n",
       "    </tr>\n",
       "    <tr>\n",
       "      <th>1</th>\n",
       "      <td>733</td>\n",
       "      <td>0</td>\n",
       "      <td>359</td>\n",
       "      <td>1</td>\n",
       "      <td>1</td>\n",
       "      <td>51</td>\n",
       "      <td>999</td>\n",
       "      <td>116000</td>\n",
       "      <td>51</td>\n",
       "      <td>6.30</td>\n",
       "      <td>...</td>\n",
       "      <td>PA</td>\n",
       "      <td>SF</td>\n",
       "      <td>17500.0</td>\n",
       "      <td>F199Q1000002</td>\n",
       "      <td>P</td>\n",
       "      <td>360</td>\n",
       "      <td>1</td>\n",
       "      <td>Other sellers</td>\n",
       "      <td>Other servicers</td>\n",
       "      <td>0</td>\n",
       "    </tr>\n",
       "    <tr>\n",
       "      <th>2</th>\n",
       "      <td>755</td>\n",
       "      <td>0</td>\n",
       "      <td>359</td>\n",
       "      <td>1</td>\n",
       "      <td>1</td>\n",
       "      <td>95</td>\n",
       "      <td>38</td>\n",
       "      <td>138000</td>\n",
       "      <td>95</td>\n",
       "      <td>6.60</td>\n",
       "      <td>...</td>\n",
       "      <td>PA</td>\n",
       "      <td>SF</td>\n",
       "      <td>17500.0</td>\n",
       "      <td>F199Q1000003</td>\n",
       "      <td>P</td>\n",
       "      <td>360</td>\n",
       "      <td>2</td>\n",
       "      <td>Other sellers</td>\n",
       "      <td>Other servicers</td>\n",
       "      <td>0</td>\n",
       "    </tr>\n",
       "    <tr>\n",
       "      <th>3</th>\n",
       "      <td>669</td>\n",
       "      <td>0</td>\n",
       "      <td>319</td>\n",
       "      <td>1</td>\n",
       "      <td>1</td>\n",
       "      <td>80</td>\n",
       "      <td>33</td>\n",
       "      <td>162000</td>\n",
       "      <td>80</td>\n",
       "      <td>7.12</td>\n",
       "      <td>...</td>\n",
       "      <td>WV</td>\n",
       "      <td>SF</td>\n",
       "      <td>26100.0</td>\n",
       "      <td>F199Q1000004</td>\n",
       "      <td>P</td>\n",
       "      <td>320</td>\n",
       "      <td>2</td>\n",
       "      <td>Other sellers</td>\n",
       "      <td>Other servicers</td>\n",
       "      <td>0</td>\n",
       "    </tr>\n",
       "    <tr>\n",
       "      <th>4</th>\n",
       "      <td>732</td>\n",
       "      <td>0</td>\n",
       "      <td>359</td>\n",
       "      <td>1</td>\n",
       "      <td>1</td>\n",
       "      <td>25</td>\n",
       "      <td>10</td>\n",
       "      <td>53000</td>\n",
       "      <td>25</td>\n",
       "      <td>6.50</td>\n",
       "      <td>...</td>\n",
       "      <td>OH</td>\n",
       "      <td>SF</td>\n",
       "      <td>45200.0</td>\n",
       "      <td>F199Q1000005</td>\n",
       "      <td>N</td>\n",
       "      <td>360</td>\n",
       "      <td>1</td>\n",
       "      <td>Other sellers</td>\n",
       "      <td>Other servicers</td>\n",
       "      <td>0</td>\n",
       "    </tr>\n",
       "  </tbody>\n",
       "</table>\n",
       "<p>5 rows × 22 columns</p>\n",
       "</div>"
      ],
      "text/plain": [
       "   credit_score  first_time_buyer  mths_maturity  num_units  occup_status  \\\n",
       "0           751                 0            359          1             1   \n",
       "1           733                 0            359          1             1   \n",
       "2           755                 0            359          1             1   \n",
       "3           669                 0            319          1             1   \n",
       "4           732                 0            359          1             1   \n",
       "\n",
       "   cltv  dti     upb  ltv  int_rate  ...   prop_state prop_type  zipcode  \\\n",
       "0    71   20  180000   71      6.30  ...           PA        SF  19300.0   \n",
       "1    51  999  116000   51      6.30  ...           PA        SF  17500.0   \n",
       "2    95   38  138000   95      6.60  ...           PA        SF  17500.0   \n",
       "3    80   33  162000   80      7.12  ...           WV        SF  26100.0   \n",
       "4    25   10   53000   25      6.50  ...           OH        SF  45200.0   \n",
       "\n",
       "       loan_num  purpose term col23          col24            col25 f_code  \n",
       "0  F199Q1000001        P  360     2  Other sellers  Other servicers      0  \n",
       "1  F199Q1000002        P  360     1  Other sellers  Other servicers      0  \n",
       "2  F199Q1000003        P  360     2  Other sellers  Other servicers      0  \n",
       "3  F199Q1000004        P  320     2  Other sellers  Other servicers      0  \n",
       "4  F199Q1000005        N  360     1  Other sellers  Other servicers      0  \n",
       "\n",
       "[5 rows x 22 columns]"
      ]
     },
     "execution_count": 43,
     "metadata": {},
     "output_type": "execute_result"
    }
   ],
   "source": [
    "fdata.head()"
   ]
  },
  {
   "cell_type": "markdown",
   "metadata": {},
   "source": [
    "**********"
   ]
  },
  {
   "cell_type": "markdown",
   "metadata": {},
   "source": [
    "#### Column **'dti'** a value of **999** implies that the debt to income ratio is unknown.\n",
    "#### checking the mean and median values"
   ]
  },
  {
   "cell_type": "code",
   "execution_count": 44,
   "metadata": {},
   "outputs": [
    {
     "data": {
      "text/plain": [
       "31.53789904158944"
      ]
     },
     "execution_count": 44,
     "metadata": {},
     "output_type": "execute_result"
    }
   ],
   "source": [
    "fdata[(fdata.dti != 999)].dti.mean()"
   ]
  },
  {
   "cell_type": "code",
   "execution_count": 45,
   "metadata": {},
   "outputs": [
    {
     "data": {
      "text/plain": [
       "32.0"
      ]
     },
     "execution_count": 45,
     "metadata": {},
     "output_type": "execute_result"
    }
   ],
   "source": [
    "fdata.dti.median()"
   ]
  },
  {
   "cell_type": "markdown",
   "metadata": {},
   "source": [
    "** The mean and median values are fairly close so I will assign a value of th emedian to all '999' dti values**"
   ]
  },
  {
   "cell_type": "code",
   "execution_count": 46,
   "metadata": {},
   "outputs": [],
   "source": [
    "fdata.loc[fdata.dti == 999, 'dti'] = fdata.dti.median()"
   ]
  },
  {
   "cell_type": "markdown",
   "metadata": {},
   "source": [
    "*********"
   ]
  },
  {
   "cell_type": "markdown",
   "metadata": {},
   "source": [
    "##### Column **'UPB'** nothing to do in this case, this is the unpaid balance"
   ]
  },
  {
   "cell_type": "code",
   "execution_count": 47,
   "metadata": {},
   "outputs": [],
   "source": [
    "# upb is the ORIGINAL UPB (unpaid balance?) on the mortgage on the note date"
   ]
  },
  {
   "cell_type": "markdown",
   "metadata": {},
   "source": [
    "***********"
   ]
  },
  {
   "cell_type": "markdown",
   "metadata": {},
   "source": [
    "##### Column **'ltv'**"
   ]
  },
  {
   "cell_type": "code",
   "execution_count": 48,
   "metadata": {},
   "outputs": [],
   "source": [
    "# ltv - ORIGINAL LOAN-TO-VALUE (LTV)\n",
    "# 6% - 105%\n",
    "# 999 = Not Available\n",
    "#fdata = fdata[fdata[\"ltv\"] != 999]"
   ]
  },
  {
   "cell_type": "code",
   "execution_count": 49,
   "metadata": {},
   "outputs": [
    {
     "data": {
      "text/plain": [
       "0"
      ]
     },
     "execution_count": 49,
     "metadata": {},
     "output_type": "execute_result"
    }
   ],
   "source": [
    "fdata[fdata.ltv == 999].ltv.count()"
   ]
  },
  {
   "cell_type": "markdown",
   "metadata": {},
   "source": [
    "#### Looks like there are no rows with a value of 999 for the 'ltv' column, so not much to do in this case"
   ]
  },
  {
   "cell_type": "markdown",
   "metadata": {},
   "source": [
    "***********"
   ]
  },
  {
   "cell_type": "markdown",
   "metadata": {},
   "source": [
    "##### Column **'int_rate'**"
   ]
  },
  {
   "cell_type": "code",
   "execution_count": 50,
   "metadata": {},
   "outputs": [
    {
     "data": {
      "text/plain": [
       "count    383835.000000\n",
       "mean          6.925827\n",
       "std           0.333159\n",
       "min           4.750000\n",
       "25%           6.750000\n",
       "50%           6.875000\n",
       "75%           7.125000\n",
       "max          12.350000\n",
       "Name: int_rate, dtype: float64"
      ]
     },
     "execution_count": 50,
     "metadata": {},
     "output_type": "execute_result"
    }
   ],
   "source": [
    "# int_rate - orginal interest rate\n",
    "fdata.int_rate.describe()"
   ]
  },
  {
   "cell_type": "markdown",
   "metadata": {},
   "source": [
    "#### There is no modification needed to the 'int_rate' column"
   ]
  },
  {
   "cell_type": "markdown",
   "metadata": {},
   "source": [
    "*************"
   ]
  },
  {
   "cell_type": "markdown",
   "metadata": {},
   "source": [
    "##### Column **'channel'**"
   ]
  },
  {
   "cell_type": "code",
   "execution_count": 51,
   "metadata": {},
   "outputs": [
    {
     "data": {
      "text/plain": [
       "0"
      ]
     },
     "execution_count": 51,
     "metadata": {},
     "output_type": "execute_result"
    }
   ],
   "source": [
    "# channel - indicates whether a Broker or Correspondent,as those terms are defined below, originated \n",
    "# or was involved in the origination of the mortgage loan.\n",
    "# R = Retail - replace with '1'\n",
    "# B = Broker - replace with '2'\n",
    "# C = Correspondent - replace with '3'\n",
    "# T = TPO Not Specified - replace with '9'\n",
    "# 9 = Not Available - replace with '9'\n",
    "\n",
    "# check if there are any rows where the data for channel is not Available\n",
    "fdata[fdata.channel == '9'].channel.count()"
   ]
  },
  {
   "cell_type": "markdown",
   "metadata": {},
   "source": [
    "##### Looks like we have channel data for all rows, so we just need to assuign integer values \n",
    "##### for the channel types and convert the data type to 'int'"
   ]
  },
  {
   "cell_type": "code",
   "execution_count": 52,
   "metadata": {},
   "outputs": [],
   "source": [
    "fdata.loc[fdata.channel == 'R', 'channel'] = 1\n",
    "fdata.loc[fdata.channel == 'B', 'channel'] = 2\n",
    "fdata.loc[fdata.channel == 'C', 'channel'] = 3\n",
    "fdata.loc[fdata.channel == 'T', 'channel'] = 4\n",
    "fdata['channel'] = fdata['channel'].astype(int)"
   ]
  },
  {
   "cell_type": "markdown",
   "metadata": {},
   "source": [
    "**************"
   ]
  },
  {
   "cell_type": "markdown",
   "metadata": {},
   "source": [
    "##### Column **'prod_type'**"
   ]
  },
  {
   "cell_type": "code",
   "execution_count": 53,
   "metadata": {},
   "outputs": [
    {
     "data": {
      "text/plain": [
       "prod_type\n",
       "FRM    383835\n",
       "Name: prod_type, dtype: int64"
      ]
     },
     "execution_count": 53,
     "metadata": {},
     "output_type": "execute_result"
    }
   ],
   "source": [
    "# prod_type - PRODUCT TYPE - Denotes that the product is a fixed-rate mortgage.\n",
    "# FRM – Fixed Rate Mortgage\n",
    "fdata.groupby(['prod_type']).prod_type.count()"
   ]
  },
  {
   "cell_type": "markdown",
   "metadata": {},
   "source": [
    "##### Based on the above since all the loans are Fixed Rate mortgages (FRM) we should drop this column, \n",
    "##### prod_type is obviously not a variable"
   ]
  },
  {
   "cell_type": "code",
   "execution_count": 54,
   "metadata": {},
   "outputs": [],
   "source": [
    "# Drop column with null values\n",
    "fdata.drop(['prod_type'],axis=1,inplace=True)"
   ]
  },
  {
   "cell_type": "markdown",
   "metadata": {},
   "source": [
    "*********"
   ]
  },
  {
   "cell_type": "markdown",
   "metadata": {},
   "source": [
    "##### Column **'prop_state'** Assign discrete integer values to the states"
   ]
  },
  {
   "cell_type": "code",
   "execution_count": 55,
   "metadata": {},
   "outputs": [],
   "source": [
    "# prop_state - property state - state in which the property is located.\n",
    "# setting state abbreviations to discrete int values\n",
    "fdata.loc[fdata.prop_state == 'AK', 'prop_state'] = 1\n",
    "fdata.loc[fdata.prop_state == 'AL', 'prop_state'] = 2\n",
    "fdata.loc[fdata.prop_state == 'AR', 'prop_state'] = 3\n",
    "fdata.loc[fdata.prop_state == 'AZ', 'prop_state'] = 4\n",
    "fdata.loc[fdata.prop_state == 'CA', 'prop_state'] = 5\n",
    "fdata.loc[fdata.prop_state == 'CO', 'prop_state'] = 6\n",
    "fdata.loc[fdata.prop_state == 'CT', 'prop_state'] = 7\n",
    "fdata.loc[fdata.prop_state == 'DC', 'prop_state'] = 8\n",
    "fdata.loc[fdata.prop_state == 'DE', 'prop_state'] = 9\n",
    "fdata.loc[fdata.prop_state == 'FL', 'prop_state'] = 10\n",
    "fdata.loc[fdata.prop_state == 'GA', 'prop_state'] = 11\n",
    "fdata.loc[fdata.prop_state == 'GU', 'prop_state'] = 12\n",
    "fdata.loc[fdata.prop_state == 'HI', 'prop_state'] = 13\n",
    "fdata.loc[fdata.prop_state == 'IA', 'prop_state'] = 14\n",
    "fdata.loc[fdata.prop_state == 'ID', 'prop_state'] = 15\n",
    "fdata.loc[fdata.prop_state == 'IL', 'prop_state'] = 16\n",
    "fdata.loc[fdata.prop_state == 'IN', 'prop_state'] = 17\n",
    "fdata.loc[fdata.prop_state == 'KS', 'prop_state'] = 18\n",
    "fdata.loc[fdata.prop_state == 'KY', 'prop_state'] = 19\n",
    "fdata.loc[fdata.prop_state == 'LA', 'prop_state'] = 20\n",
    "fdata.loc[fdata.prop_state == 'MA', 'prop_state'] = 21\n",
    "fdata.loc[fdata.prop_state == 'MD', 'prop_state'] = 22\n",
    "fdata.loc[fdata.prop_state == 'ME', 'prop_state'] = 23\n",
    "fdata.loc[fdata.prop_state == 'MI', 'prop_state'] = 24\n",
    "fdata.loc[fdata.prop_state == 'MN', 'prop_state'] = 25\n",
    "fdata.loc[fdata.prop_state == 'MO', 'prop_state'] = 26\n",
    "fdata.loc[fdata.prop_state == 'MS', 'prop_state'] = 27\n",
    "fdata.loc[fdata.prop_state == 'MT', 'prop_state'] = 28\n",
    "fdata.loc[fdata.prop_state == 'NC', 'prop_state'] = 29\n",
    "fdata.loc[fdata.prop_state == 'ND', 'prop_state'] = 30\n",
    "fdata.loc[fdata.prop_state == 'NE', 'prop_state'] = 31\n",
    "fdata.loc[fdata.prop_state == 'NH', 'prop_state'] = 32\n",
    "fdata.loc[fdata.prop_state == 'NJ', 'prop_state'] = 33\n",
    "fdata.loc[fdata.prop_state == 'NM', 'prop_state'] = 34\n",
    "fdata.loc[fdata.prop_state == 'NV', 'prop_state'] = 35\n",
    "fdata.loc[fdata.prop_state == 'NY', 'prop_state'] = 36\n",
    "fdata.loc[fdata.prop_state == 'OH', 'prop_state'] = 37\n",
    "fdata.loc[fdata.prop_state == 'OK', 'prop_state'] = 38\n",
    "fdata.loc[fdata.prop_state == 'OR', 'prop_state'] = 39\n",
    "fdata.loc[fdata.prop_state == 'PA', 'prop_state'] = 40\n",
    "fdata.loc[fdata.prop_state == 'PR', 'prop_state'] = 41\n",
    "fdata.loc[fdata.prop_state == 'RI', 'prop_state'] = 42\n",
    "fdata.loc[fdata.prop_state == 'SC', 'prop_state'] = 43\n",
    "fdata.loc[fdata.prop_state == 'SD', 'prop_state'] = 44\n",
    "fdata.loc[fdata.prop_state == 'TN', 'prop_state'] = 45\n",
    "fdata.loc[fdata.prop_state == 'TX', 'prop_state'] = 46\n",
    "fdata.loc[fdata.prop_state == 'UT', 'prop_state'] = 47\n",
    "fdata.loc[fdata.prop_state == 'VA', 'prop_state'] = 48\n",
    "fdata.loc[fdata.prop_state == 'VT', 'prop_state'] = 49\n",
    "fdata.loc[fdata.prop_state == 'WA', 'prop_state'] = 50\n",
    "fdata.loc[fdata.prop_state == 'WI', 'prop_state'] = 51\n",
    "fdata.loc[fdata.prop_state == 'WV', 'prop_state'] = 52\n",
    "fdata.loc[fdata.prop_state == 'WY', 'prop_state'] = 53"
   ]
  },
  {
   "cell_type": "code",
   "execution_count": 56,
   "metadata": {},
   "outputs": [],
   "source": [
    "fdata['prop_state'] = fdata['prop_state'].astype(int)"
   ]
  },
  {
   "cell_type": "markdown",
   "metadata": {},
   "source": [
    "************"
   ]
  },
  {
   "cell_type": "code",
   "execution_count": 57,
   "metadata": {},
   "outputs": [
    {
     "data": {
      "text/plain": [
       "credit_score          int64\n",
       "first_time_buyer      int64\n",
       "mths_maturity         int64\n",
       "num_units             int64\n",
       "occup_status          int64\n",
       "cltv                  int64\n",
       "dti                 float64\n",
       "upb                   int64\n",
       "ltv                   int64\n",
       "int_rate            float64\n",
       "channel               int64\n",
       "prop_state            int64\n",
       "prop_type            object\n",
       "zipcode             float64\n",
       "loan_num             object\n",
       "purpose              object\n",
       "term                  int64\n",
       "col23                 int64\n",
       "col24                object\n",
       "col25                object\n",
       "f_code                int64\n",
       "dtype: object"
      ]
     },
     "execution_count": 57,
     "metadata": {},
     "output_type": "execute_result"
    }
   ],
   "source": [
    "fdata.dtypes"
   ]
  },
  {
   "cell_type": "markdown",
   "metadata": {},
   "source": [
    "*********"
   ]
  },
  {
   "cell_type": "markdown",
   "metadata": {},
   "source": [
    "##### Column **'prop_type'**"
   ]
  },
  {
   "cell_type": "code",
   "execution_count": 58,
   "metadata": {},
   "outputs": [],
   "source": [
    "# prop_type PROPERTY TYPE - Denotes whether the property type secured by the mortgage is a condominium, \n",
    "# leasehold, planned unit development (PUD), cooperative share, manufactured home, or Single Family home.\n",
    "# CO = Condo - set to '1'\n",
    "# PU = PUD - set to '2'\n",
    "# MH = Manufactured Housing - set to '3'\n",
    "# SF = 1-4 Fee Simple Single Family Home - set to '4'\n",
    "# CP = Co-op - set to '5'\n",
    "# 99 = Not Available\n",
    "\n",
    "# first check if there are any rows with '99' value"
   ]
  },
  {
   "cell_type": "code",
   "execution_count": 59,
   "metadata": {},
   "outputs": [
    {
     "data": {
      "text/plain": [
       "22"
      ]
     },
     "execution_count": 59,
     "metadata": {},
     "output_type": "execute_result"
    }
   ],
   "source": [
    "fdata[fdata.prop_type == '99'].prop_type.count()"
   ]
  },
  {
   "cell_type": "code",
   "execution_count": 60,
   "metadata": {},
   "outputs": [
    {
     "data": {
      "text/plain": [
       "prop_type\n",
       "99        22\n",
       "CO     23027\n",
       "CP       197\n",
       "MH       762\n",
       "PU     37199\n",
       "SF    322628\n",
       "Name: prop_type, dtype: int64"
      ]
     },
     "execution_count": 60,
     "metadata": {},
     "output_type": "execute_result"
    }
   ],
   "source": [
    "fdata.groupby(['prop_type']).prop_type.count()"
   ]
  },
  {
   "cell_type": "code",
   "execution_count": 61,
   "metadata": {},
   "outputs": [
    {
     "data": {
      "text/plain": [
       "prop_type\n",
       "CO     23027\n",
       "CP       197\n",
       "MH       762\n",
       "PU     37199\n",
       "SF    322650\n",
       "Name: prop_type, dtype: int64"
      ]
     },
     "execution_count": 61,
     "metadata": {},
     "output_type": "execute_result"
    }
   ],
   "source": [
    "# based on the above, since property types are Single Family, we will assign that as the value for all the rows that \n",
    "# have '99' value (not available)\n",
    "fdata.loc[fdata.prop_type == '99', 'prop_type'] = 'SF'\n",
    "fdata.groupby(['prop_type']).prop_type.count()"
   ]
  },
  {
   "cell_type": "code",
   "execution_count": 62,
   "metadata": {},
   "outputs": [],
   "source": [
    "# setting discrete integer values for the string values and then converting to integer type\n",
    "\n",
    "fdata.loc[fdata.prop_type == 'CO', 'prop_type'] = 1\n",
    "fdata.loc[fdata.prop_type == 'PU', 'prop_type'] = 2\n",
    "fdata.loc[fdata.prop_type == 'MH', 'prop_type'] = 3\n",
    "fdata.loc[fdata.prop_type == 'SF', 'prop_type'] = 4\n",
    "fdata.loc[fdata.prop_type == 'CP', 'prop_type'] = 5\n",
    "\n",
    "fdata['prop_state'] = fdata['prop_state'].astype(int)"
   ]
  },
  {
   "cell_type": "markdown",
   "metadata": {},
   "source": [
    "*********"
   ]
  },
  {
   "cell_type": "markdown",
   "metadata": {},
   "source": [
    "##### Column **'zipcode'**"
   ]
  },
  {
   "cell_type": "code",
   "execution_count": 63,
   "metadata": {},
   "outputs": [
    {
     "data": {
      "text/plain": [
       "107125   NaN\n",
       "181864   NaN\n",
       "262091   NaN\n",
       "262256   NaN\n",
       "309784   NaN\n",
       "310195   NaN\n",
       "310388   NaN\n",
       "317025   NaN\n",
       "364992   NaN\n",
       "Name: zipcode, dtype: float64"
      ]
     },
     "execution_count": 63,
     "metadata": {},
     "output_type": "execute_result"
    }
   ],
   "source": [
    "#check if there are any NaN\n",
    "fdata[fdata.zipcode.isnull()].zipcode"
   ]
  },
  {
   "cell_type": "code",
   "execution_count": 64,
   "metadata": {},
   "outputs": [],
   "source": [
    "# removing rows with missing zipcode data\n",
    "fdata = fdata.dropna(subset=['zipcode'])"
   ]
  },
  {
   "cell_type": "code",
   "execution_count": 65,
   "metadata": {},
   "outputs": [],
   "source": [
    "# convert to the 'zipcode' column to integer type\n",
    "fdata['zipcode'] = fdata['zipcode'].astype(int)"
   ]
  },
  {
   "cell_type": "markdown",
   "metadata": {},
   "source": [
    "***********"
   ]
  },
  {
   "cell_type": "markdown",
   "metadata": {},
   "source": [
    "##### Column **'purpose'**"
   ]
  },
  {
   "cell_type": "code",
   "execution_count": 66,
   "metadata": {},
   "outputs": [
    {
     "data": {
      "text/plain": [
       "purpose\n",
       "C     86587\n",
       "N    148956\n",
       "P    148283\n",
       "Name: purpose, dtype: int64"
      ]
     },
     "execution_count": 66,
     "metadata": {},
     "output_type": "execute_result"
    }
   ],
   "source": [
    "# purpose - LOAN PURPOSE - Indicates whether the mortgage loan is a Cash-out Refinance mortgage, \n",
    "# No Cash-out Refinance mortgage, or a Purchase mortgage.\n",
    "# P = Purchase set to '1'\n",
    "# C = Cash-out Refinance - set to '2'\n",
    "# N = No Cash-out Refinance - set to '3'\n",
    "# 9 = Not Available\n",
    "\n",
    "fdata.groupby(['purpose']).purpose.count()"
   ]
  },
  {
   "cell_type": "code",
   "execution_count": 67,
   "metadata": {},
   "outputs": [
    {
     "data": {
      "text/plain": [
       "purpose\n",
       "1    148283\n",
       "2     86587\n",
       "3    148956\n",
       "Name: purpose, dtype: int64"
      ]
     },
     "execution_count": 67,
     "metadata": {},
     "output_type": "execute_result"
    }
   ],
   "source": [
    "fdata.loc[fdata.purpose == 'P', 'purpose'] = 1\n",
    "fdata.loc[fdata.purpose == 'C', 'purpose'] = 2\n",
    "fdata.loc[fdata.purpose == 'N', 'purpose'] = 3\n",
    "# convert to integer type\n",
    "fdata['purpose'] = fdata['purpose'].astype(int)\n",
    "fdata.groupby(['purpose']).purpose.count()"
   ]
  },
  {
   "cell_type": "markdown",
   "metadata": {},
   "source": [
    "*************"
   ]
  },
  {
   "cell_type": "markdown",
   "metadata": {},
   "source": [
    "##### Column **'term'**"
   ]
  },
  {
   "cell_type": "code",
   "execution_count": 68,
   "metadata": {},
   "outputs": [],
   "source": [
    "# term - ORIGINAL LOAN TERM - A calculation of the number of scheduled monthly payments of the mortgage \n",
    "# based on the First Payment Date and Maturity Date.\n",
    "# no need to make any modifications to this feature"
   ]
  },
  {
   "cell_type": "markdown",
   "metadata": {},
   "source": [
    "***********"
   ]
  },
  {
   "cell_type": "markdown",
   "metadata": {},
   "source": [
    "##### Columns **'col23', 'col24', 'col25'**"
   ]
  },
  {
   "cell_type": "code",
   "execution_count": 69,
   "metadata": {},
   "outputs": [],
   "source": [
    "# dropping columns 'col23', 'col24', 'col25'. There is no information about these columns in the Freddie Mac data\n",
    "# Drop column with null values\n",
    "fdata.drop(['col23','col24','col25'],axis=1,inplace=True)"
   ]
  },
  {
   "cell_type": "code",
   "execution_count": 70,
   "metadata": {},
   "outputs": [
    {
     "data": {
      "text/plain": [
       "(383826, 18)"
      ]
     },
     "execution_count": 70,
     "metadata": {},
     "output_type": "execute_result"
    }
   ],
   "source": [
    "fdata.shape"
   ]
  },
  {
   "cell_type": "code",
   "execution_count": 71,
   "metadata": {},
   "outputs": [
    {
     "data": {
      "text/html": [
       "<div>\n",
       "<style scoped>\n",
       "    .dataframe tbody tr th:only-of-type {\n",
       "        vertical-align: middle;\n",
       "    }\n",
       "\n",
       "    .dataframe tbody tr th {\n",
       "        vertical-align: top;\n",
       "    }\n",
       "\n",
       "    .dataframe thead th {\n",
       "        text-align: right;\n",
       "    }\n",
       "</style>\n",
       "<table border=\"1\" class=\"dataframe\">\n",
       "  <thead>\n",
       "    <tr style=\"text-align: right;\">\n",
       "      <th></th>\n",
       "      <th>credit_score</th>\n",
       "      <th>first_time_buyer</th>\n",
       "      <th>mths_maturity</th>\n",
       "      <th>num_units</th>\n",
       "      <th>occup_status</th>\n",
       "      <th>cltv</th>\n",
       "      <th>dti</th>\n",
       "      <th>upb</th>\n",
       "      <th>ltv</th>\n",
       "      <th>int_rate</th>\n",
       "      <th>channel</th>\n",
       "      <th>prop_state</th>\n",
       "      <th>prop_type</th>\n",
       "      <th>zipcode</th>\n",
       "      <th>loan_num</th>\n",
       "      <th>purpose</th>\n",
       "      <th>term</th>\n",
       "      <th>f_code</th>\n",
       "    </tr>\n",
       "  </thead>\n",
       "  <tbody>\n",
       "    <tr>\n",
       "      <th>383834</th>\n",
       "      <td>718</td>\n",
       "      <td>0</td>\n",
       "      <td>306</td>\n",
       "      <td>1</td>\n",
       "      <td>1</td>\n",
       "      <td>55</td>\n",
       "      <td>30.0</td>\n",
       "      <td>44000</td>\n",
       "      <td>55</td>\n",
       "      <td>5.500</td>\n",
       "      <td>1</td>\n",
       "      <td>36</td>\n",
       "      <td>5</td>\n",
       "      <td>11300</td>\n",
       "      <td>F199Q1401556</td>\n",
       "      <td>3</td>\n",
       "      <td>308</td>\n",
       "      <td>0</td>\n",
       "    </tr>\n",
       "    <tr>\n",
       "      <th>383835</th>\n",
       "      <td>664</td>\n",
       "      <td>1</td>\n",
       "      <td>359</td>\n",
       "      <td>1</td>\n",
       "      <td>1</td>\n",
       "      <td>97</td>\n",
       "      <td>19.0</td>\n",
       "      <td>75000</td>\n",
       "      <td>97</td>\n",
       "      <td>7.000</td>\n",
       "      <td>1</td>\n",
       "      <td>43</td>\n",
       "      <td>4</td>\n",
       "      <td>29400</td>\n",
       "      <td>F199Q1401559</td>\n",
       "      <td>1</td>\n",
       "      <td>360</td>\n",
       "      <td>0</td>\n",
       "    </tr>\n",
       "    <tr>\n",
       "      <th>383836</th>\n",
       "      <td>636</td>\n",
       "      <td>1</td>\n",
       "      <td>359</td>\n",
       "      <td>1</td>\n",
       "      <td>1</td>\n",
       "      <td>97</td>\n",
       "      <td>21.0</td>\n",
       "      <td>75000</td>\n",
       "      <td>97</td>\n",
       "      <td>7.000</td>\n",
       "      <td>1</td>\n",
       "      <td>2</td>\n",
       "      <td>4</td>\n",
       "      <td>35400</td>\n",
       "      <td>F199Q1401562</td>\n",
       "      <td>1</td>\n",
       "      <td>360</td>\n",
       "      <td>1</td>\n",
       "    </tr>\n",
       "    <tr>\n",
       "      <th>383837</th>\n",
       "      <td>605</td>\n",
       "      <td>1</td>\n",
       "      <td>359</td>\n",
       "      <td>1</td>\n",
       "      <td>1</td>\n",
       "      <td>97</td>\n",
       "      <td>17.0</td>\n",
       "      <td>55000</td>\n",
       "      <td>97</td>\n",
       "      <td>7.125</td>\n",
       "      <td>1</td>\n",
       "      <td>11</td>\n",
       "      <td>2</td>\n",
       "      <td>30900</td>\n",
       "      <td>F199Q1401568</td>\n",
       "      <td>1</td>\n",
       "      <td>360</td>\n",
       "      <td>0</td>\n",
       "    </tr>\n",
       "    <tr>\n",
       "      <th>383838</th>\n",
       "      <td>738</td>\n",
       "      <td>9</td>\n",
       "      <td>359</td>\n",
       "      <td>1</td>\n",
       "      <td>1</td>\n",
       "      <td>68</td>\n",
       "      <td>33.0</td>\n",
       "      <td>93000</td>\n",
       "      <td>68</td>\n",
       "      <td>6.625</td>\n",
       "      <td>1</td>\n",
       "      <td>45</td>\n",
       "      <td>4</td>\n",
       "      <td>37000</td>\n",
       "      <td>F199Q1401569</td>\n",
       "      <td>3</td>\n",
       "      <td>360</td>\n",
       "      <td>0</td>\n",
       "    </tr>\n",
       "  </tbody>\n",
       "</table>\n",
       "</div>"
      ],
      "text/plain": [
       "        credit_score  first_time_buyer  mths_maturity  num_units  \\\n",
       "383834           718                 0            306          1   \n",
       "383835           664                 1            359          1   \n",
       "383836           636                 1            359          1   \n",
       "383837           605                 1            359          1   \n",
       "383838           738                 9            359          1   \n",
       "\n",
       "        occup_status  cltv   dti    upb  ltv  int_rate  channel  prop_state  \\\n",
       "383834             1    55  30.0  44000   55     5.500        1          36   \n",
       "383835             1    97  19.0  75000   97     7.000        1          43   \n",
       "383836             1    97  21.0  75000   97     7.000        1           2   \n",
       "383837             1    97  17.0  55000   97     7.125        1          11   \n",
       "383838             1    68  33.0  93000   68     6.625        1          45   \n",
       "\n",
       "        prop_type  zipcode      loan_num  purpose  term  f_code  \n",
       "383834          5    11300  F199Q1401556        3   308       0  \n",
       "383835          4    29400  F199Q1401559        1   360       0  \n",
       "383836          4    35400  F199Q1401562        1   360       1  \n",
       "383837          2    30900  F199Q1401568        1   360       0  \n",
       "383838          4    37000  F199Q1401569        3   360       0  "
      ]
     },
     "execution_count": 71,
     "metadata": {},
     "output_type": "execute_result"
    }
   ],
   "source": [
    "fdata.tail()"
   ]
  },
  {
   "cell_type": "markdown",
   "metadata": {},
   "source": [
    "*************"
   ]
  },
  {
   "cell_type": "markdown",
   "metadata": {},
   "source": [
    "#### setting the index to the 'loan_num' column"
   ]
  },
  {
   "cell_type": "code",
   "execution_count": 72,
   "metadata": {},
   "outputs": [],
   "source": [
    "fdata.set_index('loan_num', inplace=True)"
   ]
  },
  {
   "cell_type": "code",
   "execution_count": 73,
   "metadata": {},
   "outputs": [
    {
     "data": {
      "text/html": [
       "<div>\n",
       "<style scoped>\n",
       "    .dataframe tbody tr th:only-of-type {\n",
       "        vertical-align: middle;\n",
       "    }\n",
       "\n",
       "    .dataframe tbody tr th {\n",
       "        vertical-align: top;\n",
       "    }\n",
       "\n",
       "    .dataframe thead th {\n",
       "        text-align: right;\n",
       "    }\n",
       "</style>\n",
       "<table border=\"1\" class=\"dataframe\">\n",
       "  <thead>\n",
       "    <tr style=\"text-align: right;\">\n",
       "      <th></th>\n",
       "      <th>credit_score</th>\n",
       "      <th>first_time_buyer</th>\n",
       "      <th>mths_maturity</th>\n",
       "      <th>num_units</th>\n",
       "      <th>occup_status</th>\n",
       "      <th>cltv</th>\n",
       "      <th>dti</th>\n",
       "      <th>upb</th>\n",
       "      <th>ltv</th>\n",
       "      <th>int_rate</th>\n",
       "      <th>channel</th>\n",
       "      <th>prop_state</th>\n",
       "      <th>prop_type</th>\n",
       "      <th>zipcode</th>\n",
       "      <th>purpose</th>\n",
       "      <th>term</th>\n",
       "      <th>f_code</th>\n",
       "    </tr>\n",
       "    <tr>\n",
       "      <th>loan_num</th>\n",
       "      <th></th>\n",
       "      <th></th>\n",
       "      <th></th>\n",
       "      <th></th>\n",
       "      <th></th>\n",
       "      <th></th>\n",
       "      <th></th>\n",
       "      <th></th>\n",
       "      <th></th>\n",
       "      <th></th>\n",
       "      <th></th>\n",
       "      <th></th>\n",
       "      <th></th>\n",
       "      <th></th>\n",
       "      <th></th>\n",
       "      <th></th>\n",
       "      <th></th>\n",
       "    </tr>\n",
       "  </thead>\n",
       "  <tbody>\n",
       "    <tr>\n",
       "      <th>F199Q1000001</th>\n",
       "      <td>751</td>\n",
       "      <td>0</td>\n",
       "      <td>359</td>\n",
       "      <td>1</td>\n",
       "      <td>1</td>\n",
       "      <td>71</td>\n",
       "      <td>20.0</td>\n",
       "      <td>180000</td>\n",
       "      <td>71</td>\n",
       "      <td>6.30</td>\n",
       "      <td>1</td>\n",
       "      <td>40</td>\n",
       "      <td>4</td>\n",
       "      <td>19300</td>\n",
       "      <td>1</td>\n",
       "      <td>360</td>\n",
       "      <td>0</td>\n",
       "    </tr>\n",
       "    <tr>\n",
       "      <th>F199Q1000002</th>\n",
       "      <td>733</td>\n",
       "      <td>0</td>\n",
       "      <td>359</td>\n",
       "      <td>1</td>\n",
       "      <td>1</td>\n",
       "      <td>51</td>\n",
       "      <td>32.0</td>\n",
       "      <td>116000</td>\n",
       "      <td>51</td>\n",
       "      <td>6.30</td>\n",
       "      <td>1</td>\n",
       "      <td>40</td>\n",
       "      <td>4</td>\n",
       "      <td>17500</td>\n",
       "      <td>1</td>\n",
       "      <td>360</td>\n",
       "      <td>0</td>\n",
       "    </tr>\n",
       "    <tr>\n",
       "      <th>F199Q1000003</th>\n",
       "      <td>755</td>\n",
       "      <td>0</td>\n",
       "      <td>359</td>\n",
       "      <td>1</td>\n",
       "      <td>1</td>\n",
       "      <td>95</td>\n",
       "      <td>38.0</td>\n",
       "      <td>138000</td>\n",
       "      <td>95</td>\n",
       "      <td>6.60</td>\n",
       "      <td>1</td>\n",
       "      <td>40</td>\n",
       "      <td>4</td>\n",
       "      <td>17500</td>\n",
       "      <td>1</td>\n",
       "      <td>360</td>\n",
       "      <td>0</td>\n",
       "    </tr>\n",
       "    <tr>\n",
       "      <th>F199Q1000004</th>\n",
       "      <td>669</td>\n",
       "      <td>0</td>\n",
       "      <td>319</td>\n",
       "      <td>1</td>\n",
       "      <td>1</td>\n",
       "      <td>80</td>\n",
       "      <td>33.0</td>\n",
       "      <td>162000</td>\n",
       "      <td>80</td>\n",
       "      <td>7.12</td>\n",
       "      <td>1</td>\n",
       "      <td>52</td>\n",
       "      <td>4</td>\n",
       "      <td>26100</td>\n",
       "      <td>1</td>\n",
       "      <td>320</td>\n",
       "      <td>0</td>\n",
       "    </tr>\n",
       "    <tr>\n",
       "      <th>F199Q1000005</th>\n",
       "      <td>732</td>\n",
       "      <td>0</td>\n",
       "      <td>359</td>\n",
       "      <td>1</td>\n",
       "      <td>1</td>\n",
       "      <td>25</td>\n",
       "      <td>10.0</td>\n",
       "      <td>53000</td>\n",
       "      <td>25</td>\n",
       "      <td>6.50</td>\n",
       "      <td>1</td>\n",
       "      <td>37</td>\n",
       "      <td>4</td>\n",
       "      <td>45200</td>\n",
       "      <td>3</td>\n",
       "      <td>360</td>\n",
       "      <td>0</td>\n",
       "    </tr>\n",
       "  </tbody>\n",
       "</table>\n",
       "</div>"
      ],
      "text/plain": [
       "              credit_score  first_time_buyer  mths_maturity  num_units  \\\n",
       "loan_num                                                                 \n",
       "F199Q1000001           751                 0            359          1   \n",
       "F199Q1000002           733                 0            359          1   \n",
       "F199Q1000003           755                 0            359          1   \n",
       "F199Q1000004           669                 0            319          1   \n",
       "F199Q1000005           732                 0            359          1   \n",
       "\n",
       "              occup_status  cltv   dti     upb  ltv  int_rate  channel  \\\n",
       "loan_num                                                                 \n",
       "F199Q1000001             1    71  20.0  180000   71      6.30        1   \n",
       "F199Q1000002             1    51  32.0  116000   51      6.30        1   \n",
       "F199Q1000003             1    95  38.0  138000   95      6.60        1   \n",
       "F199Q1000004             1    80  33.0  162000   80      7.12        1   \n",
       "F199Q1000005             1    25  10.0   53000   25      6.50        1   \n",
       "\n",
       "              prop_state  prop_type  zipcode  purpose  term  f_code  \n",
       "loan_num                                                             \n",
       "F199Q1000001          40          4    19300        1   360       0  \n",
       "F199Q1000002          40          4    17500        1   360       0  \n",
       "F199Q1000003          40          4    17500        1   360       0  \n",
       "F199Q1000004          52          4    26100        1   320       0  \n",
       "F199Q1000005          37          4    45200        3   360       0  "
      ]
     },
     "execution_count": 73,
     "metadata": {},
     "output_type": "execute_result"
    }
   ],
   "source": [
    "fdata.head()"
   ]
  },
  {
   "cell_type": "code",
   "execution_count": 74,
   "metadata": {},
   "outputs": [
    {
     "data": {
      "text/plain": [
       "credit_score          int64\n",
       "first_time_buyer      int64\n",
       "mths_maturity         int64\n",
       "num_units             int64\n",
       "occup_status          int64\n",
       "cltv                  int64\n",
       "dti                 float64\n",
       "upb                   int64\n",
       "ltv                   int64\n",
       "int_rate            float64\n",
       "channel               int64\n",
       "prop_state            int64\n",
       "prop_type             int64\n",
       "zipcode               int64\n",
       "purpose               int64\n",
       "term                  int64\n",
       "f_code                int64\n",
       "dtype: object"
      ]
     },
     "execution_count": 74,
     "metadata": {},
     "output_type": "execute_result"
    }
   ],
   "source": [
    "fdata.dtypes"
   ]
  },
  {
   "cell_type": "markdown",
   "metadata": {},
   "source": [
    "**************"
   ]
  },
  {
   "cell_type": "markdown",
   "metadata": {},
   "source": [
    "***********"
   ]
  },
  {
   "cell_type": "markdown",
   "metadata": {},
   "source": [
    "## Feature Selection"
   ]
  },
  {
   "cell_type": "code",
   "execution_count": 75,
   "metadata": {},
   "outputs": [
    {
     "data": {
      "text/plain": [
       "Index(['credit_score', 'first_time_buyer', 'mths_maturity', 'num_units',\n",
       "       'occup_status', 'cltv', 'dti', 'upb', 'ltv', 'int_rate', 'channel',\n",
       "       'prop_state', 'prop_type', 'zipcode', 'purpose', 'term', 'f_code'],\n",
       "      dtype='object')"
      ]
     },
     "execution_count": 75,
     "metadata": {},
     "output_type": "execute_result"
    }
   ],
   "source": [
    "fdata.columns"
   ]
  },
  {
   "cell_type": "code",
   "execution_count": 76,
   "metadata": {},
   "outputs": [],
   "source": [
    "import numpy as np\n",
    "from sklearn.feature_selection import SelectKBest\n",
    "from sklearn.feature_selection import chi2"
   ]
  },
  {
   "cell_type": "markdown",
   "metadata": {},
   "source": [
    "#### Using 'SelectKBest' class to select the 8 best features"
   ]
  },
  {
   "cell_type": "code",
   "execution_count": 77,
   "metadata": {},
   "outputs": [
    {
     "name": "stdout",
     "output_type": "stream",
     "text": [
      "Column 'credit_score' score = 242.44532438071116\n",
      "Column 'first_time_buyer' score = 12.261020447852005\n",
      "Column 'mths_maturity' score = 0.06524491043192608\n",
      "Column 'num_units' score = 0.20729432145411486\n",
      "Column 'occup_status' score = 5.805189555228528\n",
      "Column 'cltv' score = 3765.3959624270337\n",
      "Column 'dti' score = 736.2981760218232\n",
      "Column 'upb' score = 34840304.87764357\n",
      "Column 'ltv' score = 3817.569412228724\n",
      "Column 'int_rate' score = 15.562024656482642\n",
      "Column 'channel' score = 65.6797400600153\n",
      "Column 'prop_state' score = 3428.7028318197054\n",
      "Column 'prop_type' score = 37.67981426938088\n",
      "Column 'zipcode' score = 329426.40109264076\n",
      "Column 'purpose' score = 0.4662814780220138\n",
      "Column 'term' score = 0.06245725770334685\n"
     ]
    }
   ],
   "source": [
    "\n",
    "array = fdata.values\n",
    "X = array[:, :-1]\n",
    "y = array[:, -1]\n",
    "# feature extraction\n",
    "test = SelectKBest(score_func=chi2, k=3)\n",
    "fit = test.fit(X, y)\n",
    "# summarize scores\n",
    "np.set_printoptions(precision=3,suppress=True)\n",
    "col_names = ['credit_score', 'first_time_buyer', 'mths_maturity', 'num_units',\n",
    "            'occup_status', 'cltv', 'dti', 'upb', 'ltv', 'int_rate', 'channel',\n",
    "            'prop_state', 'prop_type', 'zipcode', 'purpose', 'term']\n",
    "\n",
    "for i in range(len(col_names)):\n",
    "    print(\"Column '\"+ str(col_names[i])+ \"' score = \"+ str(fit.scores_[i]))\n",
    "#features = fit.transform(X)\n",
    "# summarize selected features\n",
    "#print(features[0:5,:])"
   ]
  },
  {
   "cell_type": "markdown",
   "metadata": {},
   "source": [
    "#### Based on SelectKBest class the features sorted descending by score are:\n",
    "#### 1) Column 'upb' score = 34840304.87\n",
    "#### 2) Column 'zipcode' score = 329426.40\n",
    "#### 3) Column 'ltv' score = 3817.56\n",
    "#### 4) Column 'cltv' score = 3765.39\n",
    "#### 5) Column 'prop_state' score = 3428.70\n",
    "#### 6) Column 'dti' score = 736.29\n",
    "#### 7) Column 'credit_score' score = 242.44\n",
    "#### 8) Column 'channel' score = 65.67"
   ]
  },
  {
   "cell_type": "markdown",
   "metadata": {},
   "source": [
    "#### Recursive Feature Elimination: The Recursive Feature Elimination (or RFE) works by recursively removing attributes and building a model on those attributes that remain"
   ]
  },
  {
   "cell_type": "code",
   "execution_count": 78,
   "metadata": {},
   "outputs": [],
   "source": [
    "from sklearn.feature_selection import RFE\n",
    "from sklearn.linear_model import LogisticRegression\n",
    "\n",
    "array = fdata.values\n",
    "X = array[:, :-1]\n",
    "y = array[:, -1]\n",
    "# feature extraction\n",
    "model = LogisticRegression()\n",
    "rfe = RFE(model, 8)\n",
    "fit = rfe.fit(X, y)"
   ]
  },
  {
   "cell_type": "code",
   "execution_count": 79,
   "metadata": {},
   "outputs": [
    {
     "name": "stdout",
     "output_type": "stream",
     "text": [
      "Num Features: 8\n",
      "Selected Features: [False False False  True  True  True False False  True  True  True False\n",
      "  True False  True False]\n",
      "Feature Ranking: [8 6 3 1 1 1 5 7 1 1 1 4 1 9 1 2]\n"
     ]
    }
   ],
   "source": [
    "print(\"Num Features: \"+str(fit.n_features_))\n",
    "print(\"Selected Features: \"+str(fit.support_))\n",
    "print(\"Feature Ranking: \"+ str(fit.ranking_))"
   ]
  },
  {
   "cell_type": "markdown",
   "metadata": {},
   "source": [
    "#### Features by Rank using the RFE method\n",
    "#### Column 'num_units' rank 1\n",
    "#### Column 'occup_status' rank 1\n",
    "#### Column 'cltv' rank 1\n",
    "#### Column 'ltv' rank 1\n",
    "#### Column 'int_rate' rank 1\n",
    "#### Column 'channel' rank 1\n",
    "#### Column 'prop_type' rank 1\n",
    "#### Column 'purpose' rank 1\n",
    "#### Column 'term' rank 2\n",
    "#### Column 'mths_maturity' rank 3\n"
   ]
  },
  {
   "cell_type": "markdown",
   "metadata": {},
   "source": [
    "### Feature Importance: \n",
    "#### Bagged decision trees like Random Forest and Extra Trees can be used to estimate the importance of features."
   ]
  },
  {
   "cell_type": "code",
   "execution_count": 80,
   "metadata": {},
   "outputs": [
    {
     "name": "stdout",
     "output_type": "stream",
     "text": [
      "[0.17  0.028 0.001 0.004 0.005 0.052 0.141 0.163 0.053 0.123 0.009 0.077\n",
      " 0.011 0.144 0.016 0.001]\n"
     ]
    }
   ],
   "source": [
    "from sklearn.ensemble import ExtraTreesClassifier\n",
    "\n",
    "array = fdata.values\n",
    "X = array[:, :-1]\n",
    "y = array[:, -1]\n",
    "# feature extraction\n",
    "model = ExtraTreesClassifier()\n",
    "model.fit(X, y)\n",
    "print(model.feature_importances_)"
   ]
  },
  {
   "cell_type": "markdown",
   "metadata": {},
   "source": [
    "### Feature columns in terms of importance\n",
    "#### 'credit_score'    :0.172, \n",
    "#### 'upb'             :0.162, \n",
    "#### 'dti'             :0.146,\n",
    "#### 'zipcode'         :0.144,\n",
    "#### 'int_rate'        :0.119,\n",
    "#### 'prop_state'      :0.083,\n",
    "#### 'cltv'            :0.049,\n",
    "#### 'ltv'             :0.048,\n",
    "#### 'first_time_buyer':0.025,\n",
    "#### 'purpose'         :0.017,\n",
    "#### 'prop_type'       :0.012,\n",
    "#### 'channel'         :0.012,\n",
    "#### 'num_units'       :0.004,\n",
    "#### 'occup_status'    :0.004,\n",
    "#### 'mths_maturity'   :0.001, \n",
    "#### 'term'            :0.001"
   ]
  },
  {
   "cell_type": "markdown",
   "metadata": {},
   "source": [
    "***********"
   ]
  },
  {
   "cell_type": "markdown",
   "metadata": {},
   "source": [
    "|                     | credit_ score | upb | dti | zip code | int_ rate | prop_ state | cltv | ltv | first_ time_ buyer | purpose | prop_ type | channel | num_ units | occup_ status | mths_ maturity | term |\n",
    "|---------------------|---------------|-----|-----|----------|-----------|-------------|------|-----|--------------------|---------|------------|---------|------------|---------------|----------------|------|\n",
    "| SelectKBest         | 7             | 1   | 6   | 2        | 8+        | 5           | 4    | 3   | 8+                 | 8+      | 8+         | 8       | 8+         | 8+            | 8+             | 8+   |\n",
    "| RFE                 | 1+            | 1+  | 1+  | 1+       | 1         | 1+          | 1    | 1   | 1+                 | 1       | 1          | 1       | 1          | 1             | 1+             | 1+   |\n",
    "| Feature  Importance | 1             | 2   | 3   | 4        | 5         | 6           | 7    | 8   | 8+                 | 8+      | 8+         | 8+      | 8+         | 8+            | 8+             | 8+   |\n",
    "|                     | [ ]           | [ ] | [ ] | [ ]      | [ ]       | [ ]         | [X]  | [X] | [ ]                | [ ]     | [ ]        | [ ]     | [ ]        | [ ]           | [ ]            | [ ]  |"
   ]
  },
  {
   "cell_type": "markdown",
   "metadata": {},
   "source": [
    "### Based on three methods used to rank features in terms of importance, 'CLTV' and 'LTV' seemed to be only ones that rank among the top 8 out of 16 in all the methods"
   ]
  },
  {
   "cell_type": "markdown",
   "metadata": {},
   "source": [
    "*************"
   ]
  },
  {
   "cell_type": "code",
   "execution_count": null,
   "metadata": {},
   "outputs": [],
   "source": []
  },
  {
   "cell_type": "code",
   "execution_count": null,
   "metadata": {},
   "outputs": [],
   "source": []
  },
  {
   "cell_type": "code",
   "execution_count": null,
   "metadata": {},
   "outputs": [],
   "source": []
  },
  {
   "cell_type": "code",
   "execution_count": null,
   "metadata": {},
   "outputs": [],
   "source": []
  },
  {
   "cell_type": "code",
   "execution_count": null,
   "metadata": {},
   "outputs": [],
   "source": []
  },
  {
   "cell_type": "code",
   "execution_count": null,
   "metadata": {},
   "outputs": [],
   "source": []
  },
  {
   "cell_type": "code",
   "execution_count": null,
   "metadata": {},
   "outputs": [],
   "source": []
  },
  {
   "cell_type": "code",
   "execution_count": null,
   "metadata": {},
   "outputs": [],
   "source": []
  },
  {
   "cell_type": "code",
   "execution_count": null,
   "metadata": {},
   "outputs": [],
   "source": []
  },
  {
   "cell_type": "code",
   "execution_count": null,
   "metadata": {},
   "outputs": [],
   "source": []
  }
 ],
 "metadata": {
  "kernelspec": {
   "display_name": "Python 3",
   "language": "python",
   "name": "python3"
  },
  "language_info": {
   "codemirror_mode": {
    "name": "ipython",
    "version": 3
   },
   "file_extension": ".py",
   "mimetype": "text/x-python",
   "name": "python",
   "nbconvert_exporter": "python",
   "pygments_lexer": "ipython3",
   "version": "3.6.4"
  }
 },
 "nbformat": 4,
 "nbformat_minor": 2
}
