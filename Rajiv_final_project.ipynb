{
 "cells": [
  {
   "cell_type": "markdown",
   "metadata": {},
   "source": [
    "## Summary:\n",
    "### - Loading data from Freddie Mac for the year 1999. Contains feature data, 25 columns\n",
    "### - Loading data from a performance file for the same year that has the response vector data \n",
    "### - This file contains the column that has the status whether a loan foreclosed or not\n",
    "### - Walk through each of the feature columns and transform the data as needed\n",
    "### - Merge the information from the two files into one dataframe (fdata)\n",
    "### - Tried Random Forest Classifier with the dataset, but due to imbalanced nature of dataset, recall score is low\n",
    "### - Ran thru various iterations for the appropriate amount of undersampling\n",
    "### - Using Logistic Regression and Ranfom Forest, determined that 1:1 ratio for undersampling worked best\n",
    "### - Tried RandomForestClassifier, KNeighborsClassifier and SVM on the undersampled data.\n",
    "### - RandomForest delivered the best result with a Recall Score of 0.81"
   ]
  },
  {
   "cell_type": "markdown",
   "metadata": {},
   "source": [
    "*******"
   ]
  },
  {
   "cell_type": "markdown",
   "metadata": {},
   "source": [
    "### First step reading in data containing feature data"
   ]
  },
  {
   "cell_type": "code",
   "execution_count": 1,
   "metadata": {},
   "outputs": [
    {
     "data": {
      "text/plain": [
       "(392776, 25)"
      ]
     },
     "execution_count": 1,
     "metadata": {},
     "output_type": "execute_result"
    }
   ],
   "source": [
    "# Read in and prepare the vehicle training data.\n",
    "import pandas as pd\n",
    "import numpy as np\n",
    "\n",
    "path = '../final_project_data/data/historical_data1_1999/historical_data1_Q11999.txt'\n",
    "fdata = pd.read_csv(path, sep='|', index_col=False, \n",
    "                     names=['credit_score','first_pmt_date','first_time_buyer','maturity_date',\n",
    "                            'met_div','mi_percent','num_units','occup_status','cltv','dti','upb','ltv',\n",
    "                            'int_rate','channel','ppm_flag','prod_type','prop_state','prop_type',\n",
    "                            'zipcode','loan_num','purpose','term','col23','col24','col25'], \n",
    "                     parse_dates=[1,3],error_bad_lines=False)\n",
    "\n",
    "\n",
    "fdata.shape\n"
   ]
  },
  {
   "cell_type": "code",
   "execution_count": 2,
   "metadata": {},
   "outputs": [
    {
     "data": {
      "text/plain": [
       "credit_score          int64\n",
       "first_pmt_date       object\n",
       "first_time_buyer     object\n",
       "maturity_date        object\n",
       "met_div             float64\n",
       "mi_percent            int64\n",
       "num_units             int64\n",
       "occup_status         object\n",
       "cltv                  int64\n",
       "dti                   int64\n",
       "upb                   int64\n",
       "ltv                   int64\n",
       "int_rate            float64\n",
       "channel              object\n",
       "ppm_flag             object\n",
       "prod_type            object\n",
       "prop_state           object\n",
       "prop_type            object\n",
       "zipcode             float64\n",
       "loan_num             object\n",
       "purpose              object\n",
       "term                  int64\n",
       "col23                 int64\n",
       "col24                object\n",
       "col25                object\n",
       "dtype: object"
      ]
     },
     "execution_count": 2,
     "metadata": {},
     "output_type": "execute_result"
    }
   ],
   "source": [
    "#checking Datatypes of the feature data 'fdata' dataframe\n",
    "fdata.dtypes"
   ]
  },
  {
   "cell_type": "markdown",
   "metadata": {},
   "source": [
    "------------"
   ]
  },
  {
   "cell_type": "markdown",
   "metadata": {},
   "source": [
    "#### Featue Columns 'first_pmt_date' and 'maturity_date'"
   ]
  },
  {
   "cell_type": "code",
   "execution_count": 3,
   "metadata": {},
   "outputs": [],
   "source": [
    "# converting 'first_pmt_date' and 'maturity_date' from strings to datetime\n",
    "fdata['first_pmt_date'] = pd.to_datetime(fdata['first_pmt_date'], format=\"%Y%m\")\n",
    "fdata['maturity_date'] = pd.to_datetime(fdata['maturity_date'], format=\"%Y%m\")"
   ]
  },
  {
   "cell_type": "code",
   "execution_count": 4,
   "metadata": {},
   "outputs": [
    {
     "data": {
      "text/html": [
       "<div>\n",
       "<style scoped>\n",
       "    .dataframe tbody tr th:only-of-type {\n",
       "        vertical-align: middle;\n",
       "    }\n",
       "\n",
       "    .dataframe tbody tr th {\n",
       "        vertical-align: top;\n",
       "    }\n",
       "\n",
       "    .dataframe thead th {\n",
       "        text-align: right;\n",
       "    }\n",
       "</style>\n",
       "<table border=\"1\" class=\"dataframe\">\n",
       "  <thead>\n",
       "    <tr style=\"text-align: right;\">\n",
       "      <th></th>\n",
       "      <th>credit_score</th>\n",
       "      <th>first_pmt_date</th>\n",
       "      <th>first_time_buyer</th>\n",
       "      <th>maturity_date</th>\n",
       "      <th>met_div</th>\n",
       "      <th>mi_percent</th>\n",
       "      <th>num_units</th>\n",
       "      <th>occup_status</th>\n",
       "      <th>cltv</th>\n",
       "      <th>dti</th>\n",
       "      <th>...</th>\n",
       "      <th>prod_type</th>\n",
       "      <th>prop_state</th>\n",
       "      <th>prop_type</th>\n",
       "      <th>zipcode</th>\n",
       "      <th>loan_num</th>\n",
       "      <th>purpose</th>\n",
       "      <th>term</th>\n",
       "      <th>col23</th>\n",
       "      <th>col24</th>\n",
       "      <th>col25</th>\n",
       "    </tr>\n",
       "  </thead>\n",
       "  <tbody>\n",
       "    <tr>\n",
       "      <th>0</th>\n",
       "      <td>751</td>\n",
       "      <td>1999-10-01</td>\n",
       "      <td>N</td>\n",
       "      <td>2029-09-01</td>\n",
       "      <td>NaN</td>\n",
       "      <td>0</td>\n",
       "      <td>1</td>\n",
       "      <td>P</td>\n",
       "      <td>71</td>\n",
       "      <td>20</td>\n",
       "      <td>...</td>\n",
       "      <td>FRM</td>\n",
       "      <td>PA</td>\n",
       "      <td>SF</td>\n",
       "      <td>19300.0</td>\n",
       "      <td>F199Q1000001</td>\n",
       "      <td>P</td>\n",
       "      <td>360</td>\n",
       "      <td>2</td>\n",
       "      <td>Other sellers</td>\n",
       "      <td>Other servicers</td>\n",
       "    </tr>\n",
       "    <tr>\n",
       "      <th>1</th>\n",
       "      <td>733</td>\n",
       "      <td>1999-09-01</td>\n",
       "      <td>N</td>\n",
       "      <td>2029-08-01</td>\n",
       "      <td>29540.0</td>\n",
       "      <td>0</td>\n",
       "      <td>1</td>\n",
       "      <td>P</td>\n",
       "      <td>51</td>\n",
       "      <td>999</td>\n",
       "      <td>...</td>\n",
       "      <td>FRM</td>\n",
       "      <td>PA</td>\n",
       "      <td>SF</td>\n",
       "      <td>17500.0</td>\n",
       "      <td>F199Q1000002</td>\n",
       "      <td>P</td>\n",
       "      <td>360</td>\n",
       "      <td>1</td>\n",
       "      <td>Other sellers</td>\n",
       "      <td>Other servicers</td>\n",
       "    </tr>\n",
       "    <tr>\n",
       "      <th>2</th>\n",
       "      <td>755</td>\n",
       "      <td>1999-05-01</td>\n",
       "      <td>N</td>\n",
       "      <td>2029-04-01</td>\n",
       "      <td>29540.0</td>\n",
       "      <td>30</td>\n",
       "      <td>1</td>\n",
       "      <td>P</td>\n",
       "      <td>95</td>\n",
       "      <td>38</td>\n",
       "      <td>...</td>\n",
       "      <td>FRM</td>\n",
       "      <td>PA</td>\n",
       "      <td>SF</td>\n",
       "      <td>17500.0</td>\n",
       "      <td>F199Q1000003</td>\n",
       "      <td>P</td>\n",
       "      <td>360</td>\n",
       "      <td>2</td>\n",
       "      <td>Other sellers</td>\n",
       "      <td>Other servicers</td>\n",
       "    </tr>\n",
       "    <tr>\n",
       "      <th>3</th>\n",
       "      <td>669</td>\n",
       "      <td>2002-06-01</td>\n",
       "      <td>N</td>\n",
       "      <td>2029-01-01</td>\n",
       "      <td>NaN</td>\n",
       "      <td>0</td>\n",
       "      <td>1</td>\n",
       "      <td>P</td>\n",
       "      <td>80</td>\n",
       "      <td>33</td>\n",
       "      <td>...</td>\n",
       "      <td>FRM</td>\n",
       "      <td>WV</td>\n",
       "      <td>SF</td>\n",
       "      <td>26100.0</td>\n",
       "      <td>F199Q1000004</td>\n",
       "      <td>P</td>\n",
       "      <td>320</td>\n",
       "      <td>2</td>\n",
       "      <td>Other sellers</td>\n",
       "      <td>Other servicers</td>\n",
       "    </tr>\n",
       "    <tr>\n",
       "      <th>4</th>\n",
       "      <td>732</td>\n",
       "      <td>1999-04-01</td>\n",
       "      <td>N</td>\n",
       "      <td>2029-03-01</td>\n",
       "      <td>17140.0</td>\n",
       "      <td>0</td>\n",
       "      <td>1</td>\n",
       "      <td>P</td>\n",
       "      <td>25</td>\n",
       "      <td>10</td>\n",
       "      <td>...</td>\n",
       "      <td>FRM</td>\n",
       "      <td>OH</td>\n",
       "      <td>SF</td>\n",
       "      <td>45200.0</td>\n",
       "      <td>F199Q1000005</td>\n",
       "      <td>N</td>\n",
       "      <td>360</td>\n",
       "      <td>1</td>\n",
       "      <td>Other sellers</td>\n",
       "      <td>Other servicers</td>\n",
       "    </tr>\n",
       "  </tbody>\n",
       "</table>\n",
       "<p>5 rows × 25 columns</p>\n",
       "</div>"
      ],
      "text/plain": [
       "   credit_score first_pmt_date first_time_buyer maturity_date  met_div  \\\n",
       "0           751     1999-10-01                N    2029-09-01      NaN   \n",
       "1           733     1999-09-01                N    2029-08-01  29540.0   \n",
       "2           755     1999-05-01                N    2029-04-01  29540.0   \n",
       "3           669     2002-06-01                N    2029-01-01      NaN   \n",
       "4           732     1999-04-01                N    2029-03-01  17140.0   \n",
       "\n",
       "   mi_percent  num_units occup_status  cltv  dti       ...         prod_type  \\\n",
       "0           0          1            P    71   20       ...               FRM   \n",
       "1           0          1            P    51  999       ...               FRM   \n",
       "2          30          1            P    95   38       ...               FRM   \n",
       "3           0          1            P    80   33       ...               FRM   \n",
       "4           0          1            P    25   10       ...               FRM   \n",
       "\n",
       "   prop_state  prop_type  zipcode      loan_num purpose term col23  \\\n",
       "0          PA         SF  19300.0  F199Q1000001       P  360     2   \n",
       "1          PA         SF  17500.0  F199Q1000002       P  360     1   \n",
       "2          PA         SF  17500.0  F199Q1000003       P  360     2   \n",
       "3          WV         SF  26100.0  F199Q1000004       P  320     2   \n",
       "4          OH         SF  45200.0  F199Q1000005       N  360     1   \n",
       "\n",
       "           col24            col25  \n",
       "0  Other sellers  Other servicers  \n",
       "1  Other sellers  Other servicers  \n",
       "2  Other sellers  Other servicers  \n",
       "3  Other sellers  Other servicers  \n",
       "4  Other sellers  Other servicers  \n",
       "\n",
       "[5 rows x 25 columns]"
      ]
     },
     "execution_count": 4,
     "metadata": {},
     "output_type": "execute_result"
    }
   ],
   "source": [
    "fdata.head()"
   ]
  },
  {
   "cell_type": "code",
   "execution_count": 5,
   "metadata": {},
   "outputs": [],
   "source": [
    "#df['month'] = ((df.date2 - df.date1) / np.timedelta64(1, 'M')).astype(int)\n",
    "fdata['mths_maturity'] = ((fdata.maturity_date - fdata.first_pmt_date) / np.timedelta64(1, 'M')).astype(int)"
   ]
  },
  {
   "cell_type": "code",
   "execution_count": 6,
   "metadata": {},
   "outputs": [],
   "source": [
    "# Drop 'first_pmt_date' and 'maturity_date' columns since that data is now in the 'mths_maturity' column\n",
    "fdata.drop(['first_pmt_date','maturity_date'],axis=1,inplace=True)"
   ]
  },
  {
   "cell_type": "code",
   "execution_count": 7,
   "metadata": {},
   "outputs": [
    {
     "data": {
      "text/plain": [
       "credit_score          int64\n",
       "first_time_buyer     object\n",
       "met_div             float64\n",
       "mi_percent            int64\n",
       "num_units             int64\n",
       "occup_status         object\n",
       "cltv                  int64\n",
       "dti                   int64\n",
       "upb                   int64\n",
       "ltv                   int64\n",
       "int_rate            float64\n",
       "channel              object\n",
       "ppm_flag             object\n",
       "prod_type            object\n",
       "prop_state           object\n",
       "prop_type            object\n",
       "zipcode             float64\n",
       "loan_num             object\n",
       "purpose              object\n",
       "term                  int64\n",
       "col23                 int64\n",
       "col24                object\n",
       "col25                object\n",
       "mths_maturity         int64\n",
       "dtype: object"
      ]
     },
     "execution_count": 7,
     "metadata": {},
     "output_type": "execute_result"
    }
   ],
   "source": [
    "fdata.dtypes"
   ]
  },
  {
   "cell_type": "markdown",
   "metadata": {},
   "source": [
    "#### Rearrange the columns so that the 'mths_maturity' column (months to maturity) is not last."
   ]
  },
  {
   "cell_type": "code",
   "execution_count": 8,
   "metadata": {},
   "outputs": [],
   "source": [
    "cols = list(fdata.columns.values)"
   ]
  },
  {
   "cell_type": "code",
   "execution_count": 9,
   "metadata": {},
   "outputs": [
    {
     "name": "stdout",
     "output_type": "stream",
     "text": [
      "['credit_score', 'first_time_buyer', 'met_div', 'mi_percent', 'num_units', 'occup_status', 'cltv', 'dti', 'upb', 'ltv', 'int_rate', 'channel', 'ppm_flag', 'prod_type', 'prop_state', 'prop_type', 'zipcode', 'loan_num', 'purpose', 'term', 'col23', 'col24', 'col25', 'mths_maturity']\n"
     ]
    }
   ],
   "source": [
    "print(cols)"
   ]
  },
  {
   "cell_type": "code",
   "execution_count": 10,
   "metadata": {},
   "outputs": [],
   "source": [
    "#df = df[['mean', '0', '1', '2', '3']]\n",
    "fdata = fdata[['credit_score', 'first_time_buyer', 'mths_maturity', 'met_div', 'mi_percent', 'num_units', \n",
    "               'occup_status', 'cltv', 'dti', 'upb', 'ltv', 'int_rate', 'channel', 'ppm_flag', 'prod_type', \n",
    "               'prop_state', 'prop_type', 'zipcode', 'loan_num', 'purpose', 'term', 'col23', 'col24', 'col25']]"
   ]
  },
  {
   "cell_type": "code",
   "execution_count": 11,
   "metadata": {},
   "outputs": [
    {
     "data": {
      "text/html": [
       "<div>\n",
       "<style scoped>\n",
       "    .dataframe tbody tr th:only-of-type {\n",
       "        vertical-align: middle;\n",
       "    }\n",
       "\n",
       "    .dataframe tbody tr th {\n",
       "        vertical-align: top;\n",
       "    }\n",
       "\n",
       "    .dataframe thead th {\n",
       "        text-align: right;\n",
       "    }\n",
       "</style>\n",
       "<table border=\"1\" class=\"dataframe\">\n",
       "  <thead>\n",
       "    <tr style=\"text-align: right;\">\n",
       "      <th></th>\n",
       "      <th>credit_score</th>\n",
       "      <th>first_time_buyer</th>\n",
       "      <th>mths_maturity</th>\n",
       "      <th>met_div</th>\n",
       "      <th>mi_percent</th>\n",
       "      <th>num_units</th>\n",
       "      <th>occup_status</th>\n",
       "      <th>cltv</th>\n",
       "      <th>dti</th>\n",
       "      <th>upb</th>\n",
       "      <th>...</th>\n",
       "      <th>prod_type</th>\n",
       "      <th>prop_state</th>\n",
       "      <th>prop_type</th>\n",
       "      <th>zipcode</th>\n",
       "      <th>loan_num</th>\n",
       "      <th>purpose</th>\n",
       "      <th>term</th>\n",
       "      <th>col23</th>\n",
       "      <th>col24</th>\n",
       "      <th>col25</th>\n",
       "    </tr>\n",
       "  </thead>\n",
       "  <tbody>\n",
       "    <tr>\n",
       "      <th>0</th>\n",
       "      <td>751</td>\n",
       "      <td>N</td>\n",
       "      <td>359</td>\n",
       "      <td>NaN</td>\n",
       "      <td>0</td>\n",
       "      <td>1</td>\n",
       "      <td>P</td>\n",
       "      <td>71</td>\n",
       "      <td>20</td>\n",
       "      <td>180000</td>\n",
       "      <td>...</td>\n",
       "      <td>FRM</td>\n",
       "      <td>PA</td>\n",
       "      <td>SF</td>\n",
       "      <td>19300.0</td>\n",
       "      <td>F199Q1000001</td>\n",
       "      <td>P</td>\n",
       "      <td>360</td>\n",
       "      <td>2</td>\n",
       "      <td>Other sellers</td>\n",
       "      <td>Other servicers</td>\n",
       "    </tr>\n",
       "    <tr>\n",
       "      <th>1</th>\n",
       "      <td>733</td>\n",
       "      <td>N</td>\n",
       "      <td>359</td>\n",
       "      <td>29540.0</td>\n",
       "      <td>0</td>\n",
       "      <td>1</td>\n",
       "      <td>P</td>\n",
       "      <td>51</td>\n",
       "      <td>999</td>\n",
       "      <td>116000</td>\n",
       "      <td>...</td>\n",
       "      <td>FRM</td>\n",
       "      <td>PA</td>\n",
       "      <td>SF</td>\n",
       "      <td>17500.0</td>\n",
       "      <td>F199Q1000002</td>\n",
       "      <td>P</td>\n",
       "      <td>360</td>\n",
       "      <td>1</td>\n",
       "      <td>Other sellers</td>\n",
       "      <td>Other servicers</td>\n",
       "    </tr>\n",
       "    <tr>\n",
       "      <th>2</th>\n",
       "      <td>755</td>\n",
       "      <td>N</td>\n",
       "      <td>359</td>\n",
       "      <td>29540.0</td>\n",
       "      <td>30</td>\n",
       "      <td>1</td>\n",
       "      <td>P</td>\n",
       "      <td>95</td>\n",
       "      <td>38</td>\n",
       "      <td>138000</td>\n",
       "      <td>...</td>\n",
       "      <td>FRM</td>\n",
       "      <td>PA</td>\n",
       "      <td>SF</td>\n",
       "      <td>17500.0</td>\n",
       "      <td>F199Q1000003</td>\n",
       "      <td>P</td>\n",
       "      <td>360</td>\n",
       "      <td>2</td>\n",
       "      <td>Other sellers</td>\n",
       "      <td>Other servicers</td>\n",
       "    </tr>\n",
       "    <tr>\n",
       "      <th>3</th>\n",
       "      <td>669</td>\n",
       "      <td>N</td>\n",
       "      <td>319</td>\n",
       "      <td>NaN</td>\n",
       "      <td>0</td>\n",
       "      <td>1</td>\n",
       "      <td>P</td>\n",
       "      <td>80</td>\n",
       "      <td>33</td>\n",
       "      <td>162000</td>\n",
       "      <td>...</td>\n",
       "      <td>FRM</td>\n",
       "      <td>WV</td>\n",
       "      <td>SF</td>\n",
       "      <td>26100.0</td>\n",
       "      <td>F199Q1000004</td>\n",
       "      <td>P</td>\n",
       "      <td>320</td>\n",
       "      <td>2</td>\n",
       "      <td>Other sellers</td>\n",
       "      <td>Other servicers</td>\n",
       "    </tr>\n",
       "    <tr>\n",
       "      <th>4</th>\n",
       "      <td>732</td>\n",
       "      <td>N</td>\n",
       "      <td>359</td>\n",
       "      <td>17140.0</td>\n",
       "      <td>0</td>\n",
       "      <td>1</td>\n",
       "      <td>P</td>\n",
       "      <td>25</td>\n",
       "      <td>10</td>\n",
       "      <td>53000</td>\n",
       "      <td>...</td>\n",
       "      <td>FRM</td>\n",
       "      <td>OH</td>\n",
       "      <td>SF</td>\n",
       "      <td>45200.0</td>\n",
       "      <td>F199Q1000005</td>\n",
       "      <td>N</td>\n",
       "      <td>360</td>\n",
       "      <td>1</td>\n",
       "      <td>Other sellers</td>\n",
       "      <td>Other servicers</td>\n",
       "    </tr>\n",
       "  </tbody>\n",
       "</table>\n",
       "<p>5 rows × 24 columns</p>\n",
       "</div>"
      ],
      "text/plain": [
       "   credit_score first_time_buyer  mths_maturity  met_div  mi_percent  \\\n",
       "0           751                N            359      NaN           0   \n",
       "1           733                N            359  29540.0           0   \n",
       "2           755                N            359  29540.0          30   \n",
       "3           669                N            319      NaN           0   \n",
       "4           732                N            359  17140.0           0   \n",
       "\n",
       "   num_units occup_status  cltv  dti     upb       ...         prod_type  \\\n",
       "0          1            P    71   20  180000       ...               FRM   \n",
       "1          1            P    51  999  116000       ...               FRM   \n",
       "2          1            P    95   38  138000       ...               FRM   \n",
       "3          1            P    80   33  162000       ...               FRM   \n",
       "4          1            P    25   10   53000       ...               FRM   \n",
       "\n",
       "   prop_state prop_type  zipcode      loan_num purpose term  col23  \\\n",
       "0          PA        SF  19300.0  F199Q1000001       P  360      2   \n",
       "1          PA        SF  17500.0  F199Q1000002       P  360      1   \n",
       "2          PA        SF  17500.0  F199Q1000003       P  360      2   \n",
       "3          WV        SF  26100.0  F199Q1000004       P  320      2   \n",
       "4          OH        SF  45200.0  F199Q1000005       N  360      1   \n",
       "\n",
       "           col24            col25  \n",
       "0  Other sellers  Other servicers  \n",
       "1  Other sellers  Other servicers  \n",
       "2  Other sellers  Other servicers  \n",
       "3  Other sellers  Other servicers  \n",
       "4  Other sellers  Other servicers  \n",
       "\n",
       "[5 rows x 24 columns]"
      ]
     },
     "execution_count": 11,
     "metadata": {},
     "output_type": "execute_result"
    }
   ],
   "source": [
    "fdata.head()"
   ]
  },
  {
   "cell_type": "markdown",
   "metadata": {},
   "source": [
    "********"
   ]
  },
  {
   "cell_type": "markdown",
   "metadata": {},
   "source": [
    "#### Adding a response column 'f_code'"
   ]
  },
  {
   "cell_type": "code",
   "execution_count": 12,
   "metadata": {},
   "outputs": [],
   "source": [
    "# add a column called 'f_code' (freclosure code). we will set the default value to '0' for now.\n",
    "# 'f_code' will be be populated from the data that we read from many performance files for the loans\n",
    "# 'f_code' is the response vector and contains data that is '1' for loan that has foreclosed and \n",
    "# '0' for a loan that has not foreclosed\n",
    "\n",
    "#create the f_code column and initialize to '0'\n",
    "fdata['f_code'] = 0"
   ]
  },
  {
   "cell_type": "code",
   "execution_count": 13,
   "metadata": {},
   "outputs": [
    {
     "data": {
      "text/plain": [
       "credit_score            0\n",
       "first_time_buyer        0\n",
       "mths_maturity           0\n",
       "met_div             53076\n",
       "mi_percent              0\n",
       "num_units               0\n",
       "occup_status            0\n",
       "cltv                    0\n",
       "dti                     0\n",
       "upb                     0\n",
       "ltv                     0\n",
       "int_rate                0\n",
       "channel                 0\n",
       "ppm_flag             8670\n",
       "prod_type               0\n",
       "prop_state              0\n",
       "prop_type               0\n",
       "zipcode                 9\n",
       "loan_num                0\n",
       "purpose                 0\n",
       "term                    0\n",
       "col23                   0\n",
       "col24                   0\n",
       "col25                   0\n",
       "f_code                  0\n",
       "dtype: int64"
      ]
     },
     "execution_count": 13,
     "metadata": {},
     "output_type": "execute_result"
    }
   ],
   "source": [
    "fdata.isnull().sum()"
   ]
  },
  {
   "cell_type": "code",
   "execution_count": 14,
   "metadata": {},
   "outputs": [
    {
     "data": {
      "text/plain": [
       "credit_score          int64\n",
       "first_time_buyer     object\n",
       "mths_maturity         int64\n",
       "met_div             float64\n",
       "mi_percent            int64\n",
       "num_units             int64\n",
       "occup_status         object\n",
       "cltv                  int64\n",
       "dti                   int64\n",
       "upb                   int64\n",
       "ltv                   int64\n",
       "int_rate            float64\n",
       "channel              object\n",
       "ppm_flag             object\n",
       "prod_type            object\n",
       "prop_state           object\n",
       "prop_type            object\n",
       "zipcode             float64\n",
       "loan_num             object\n",
       "purpose              object\n",
       "term                  int64\n",
       "col23                 int64\n",
       "col24                object\n",
       "col25                object\n",
       "f_code                int64\n",
       "dtype: object"
      ]
     },
     "execution_count": 14,
     "metadata": {},
     "output_type": "execute_result"
    }
   ],
   "source": [
    "fdata.dtypes"
   ]
  },
  {
   "cell_type": "markdown",
   "metadata": {},
   "source": [
    "*********"
   ]
  },
  {
   "cell_type": "markdown",
   "metadata": {},
   "source": [
    "##### Dealing with columns 'met_div' and 'ppm_flag'"
   ]
  },
  {
   "cell_type": "code",
   "execution_count": 15,
   "metadata": {},
   "outputs": [],
   "source": [
    "# Drop columns with null values\n",
    "fdata.drop(['met_div','ppm_flag'],axis=1,inplace=True)"
   ]
  },
  {
   "cell_type": "markdown",
   "metadata": {},
   "source": [
    "********"
   ]
  },
  {
   "cell_type": "markdown",
   "metadata": {},
   "source": [
    "**********"
   ]
  },
  {
   "cell_type": "markdown",
   "metadata": {},
   "source": [
    "# Next step, reading in the performance file containing information if a loan has foreclosed or not"
   ]
  },
  {
   "cell_type": "code",
   "execution_count": 16,
   "metadata": {},
   "outputs": [],
   "source": [
    "perf_path = '../final_project_data/data/historical_data1_1999/historical_data1_time_Q11999.txt'\n",
    "pdata = pd.read_csv(perf_path, sep='|', index_col=False, \n",
    "                     names=['loan_num','col2','col3','col4','col5','col6','col7','col8','f_code1','col10','col11','col12',\n",
    "                            'col13','col14','col15','col16','col17','col18','col19','col20','col21','col22','col23'], \n",
    "                            error_bad_lines=False,low_memory=False)"
   ]
  },
  {
   "cell_type": "code",
   "execution_count": 17,
   "metadata": {},
   "outputs": [
    {
     "data": {
      "text/html": [
       "<div>\n",
       "<style scoped>\n",
       "    .dataframe tbody tr th:only-of-type {\n",
       "        vertical-align: middle;\n",
       "    }\n",
       "\n",
       "    .dataframe tbody tr th {\n",
       "        vertical-align: top;\n",
       "    }\n",
       "\n",
       "    .dataframe thead th {\n",
       "        text-align: right;\n",
       "    }\n",
       "</style>\n",
       "<table border=\"1\" class=\"dataframe\">\n",
       "  <thead>\n",
       "    <tr style=\"text-align: right;\">\n",
       "      <th></th>\n",
       "      <th>loan_num</th>\n",
       "      <th>col2</th>\n",
       "      <th>col3</th>\n",
       "      <th>col4</th>\n",
       "      <th>col5</th>\n",
       "      <th>col6</th>\n",
       "      <th>col7</th>\n",
       "      <th>col8</th>\n",
       "      <th>f_code1</th>\n",
       "      <th>col10</th>\n",
       "      <th>...</th>\n",
       "      <th>col14</th>\n",
       "      <th>col15</th>\n",
       "      <th>col16</th>\n",
       "      <th>col17</th>\n",
       "      <th>col18</th>\n",
       "      <th>col19</th>\n",
       "      <th>col20</th>\n",
       "      <th>col21</th>\n",
       "      <th>col22</th>\n",
       "      <th>col23</th>\n",
       "    </tr>\n",
       "  </thead>\n",
       "  <tbody>\n",
       "    <tr>\n",
       "      <th>0</th>\n",
       "      <td>F199Q1000001</td>\n",
       "      <td>200205</td>\n",
       "      <td>171982.43</td>\n",
       "      <td>0</td>\n",
       "      <td>37</td>\n",
       "      <td>328</td>\n",
       "      <td>NaN</td>\n",
       "      <td>NaN</td>\n",
       "      <td>NaN</td>\n",
       "      <td>NaN</td>\n",
       "      <td>...</td>\n",
       "      <td>NaN</td>\n",
       "      <td>NaN</td>\n",
       "      <td>NaN</td>\n",
       "      <td>NaN</td>\n",
       "      <td>NaN</td>\n",
       "      <td>NaN</td>\n",
       "      <td>NaN</td>\n",
       "      <td>NaN</td>\n",
       "      <td>NaN</td>\n",
       "      <td>NaN</td>\n",
       "    </tr>\n",
       "    <tr>\n",
       "      <th>1</th>\n",
       "      <td>F199Q1000001</td>\n",
       "      <td>200206</td>\n",
       "      <td>171571.39</td>\n",
       "      <td>0</td>\n",
       "      <td>38</td>\n",
       "      <td>327</td>\n",
       "      <td>NaN</td>\n",
       "      <td>NaN</td>\n",
       "      <td>NaN</td>\n",
       "      <td>NaN</td>\n",
       "      <td>...</td>\n",
       "      <td>NaN</td>\n",
       "      <td>NaN</td>\n",
       "      <td>NaN</td>\n",
       "      <td>NaN</td>\n",
       "      <td>NaN</td>\n",
       "      <td>NaN</td>\n",
       "      <td>NaN</td>\n",
       "      <td>NaN</td>\n",
       "      <td>NaN</td>\n",
       "      <td>NaN</td>\n",
       "    </tr>\n",
       "    <tr>\n",
       "      <th>2</th>\n",
       "      <td>F199Q1000001</td>\n",
       "      <td>200207</td>\n",
       "      <td>171158.33</td>\n",
       "      <td>0</td>\n",
       "      <td>39</td>\n",
       "      <td>326</td>\n",
       "      <td>NaN</td>\n",
       "      <td>NaN</td>\n",
       "      <td>NaN</td>\n",
       "      <td>NaN</td>\n",
       "      <td>...</td>\n",
       "      <td>NaN</td>\n",
       "      <td>NaN</td>\n",
       "      <td>NaN</td>\n",
       "      <td>NaN</td>\n",
       "      <td>NaN</td>\n",
       "      <td>NaN</td>\n",
       "      <td>NaN</td>\n",
       "      <td>NaN</td>\n",
       "      <td>NaN</td>\n",
       "      <td>NaN</td>\n",
       "    </tr>\n",
       "    <tr>\n",
       "      <th>3</th>\n",
       "      <td>F199Q1000001</td>\n",
       "      <td>200208</td>\n",
       "      <td>170742.89</td>\n",
       "      <td>0</td>\n",
       "      <td>40</td>\n",
       "      <td>325</td>\n",
       "      <td>NaN</td>\n",
       "      <td>NaN</td>\n",
       "      <td>NaN</td>\n",
       "      <td>NaN</td>\n",
       "      <td>...</td>\n",
       "      <td>NaN</td>\n",
       "      <td>NaN</td>\n",
       "      <td>NaN</td>\n",
       "      <td>NaN</td>\n",
       "      <td>NaN</td>\n",
       "      <td>NaN</td>\n",
       "      <td>NaN</td>\n",
       "      <td>NaN</td>\n",
       "      <td>NaN</td>\n",
       "      <td>NaN</td>\n",
       "    </tr>\n",
       "    <tr>\n",
       "      <th>4</th>\n",
       "      <td>F199Q1000001</td>\n",
       "      <td>200209</td>\n",
       "      <td>170325.17</td>\n",
       "      <td>0</td>\n",
       "      <td>41</td>\n",
       "      <td>324</td>\n",
       "      <td>NaN</td>\n",
       "      <td>NaN</td>\n",
       "      <td>NaN</td>\n",
       "      <td>NaN</td>\n",
       "      <td>...</td>\n",
       "      <td>NaN</td>\n",
       "      <td>NaN</td>\n",
       "      <td>NaN</td>\n",
       "      <td>NaN</td>\n",
       "      <td>NaN</td>\n",
       "      <td>NaN</td>\n",
       "      <td>NaN</td>\n",
       "      <td>NaN</td>\n",
       "      <td>NaN</td>\n",
       "      <td>NaN</td>\n",
       "    </tr>\n",
       "  </tbody>\n",
       "</table>\n",
       "<p>5 rows × 23 columns</p>\n",
       "</div>"
      ],
      "text/plain": [
       "       loan_num    col2       col3 col4  col5  col6 col7 col8  f_code1  col10  \\\n",
       "0  F199Q1000001  200205  171982.43    0    37   328  NaN  NaN      NaN    NaN   \n",
       "1  F199Q1000001  200206  171571.39    0    38   327  NaN  NaN      NaN    NaN   \n",
       "2  F199Q1000001  200207  171158.33    0    39   326  NaN  NaN      NaN    NaN   \n",
       "3  F199Q1000001  200208  170742.89    0    40   325  NaN  NaN      NaN    NaN   \n",
       "4  F199Q1000001  200209  170325.17    0    41   324  NaN  NaN      NaN    NaN   \n",
       "\n",
       "   ...    col14  col15  col16  col17 col18  col19  col20  col21  col22  col23  \n",
       "0  ...      NaN    NaN    NaN    NaN   NaN    NaN    NaN    NaN    NaN    NaN  \n",
       "1  ...      NaN    NaN    NaN    NaN   NaN    NaN    NaN    NaN    NaN    NaN  \n",
       "2  ...      NaN    NaN    NaN    NaN   NaN    NaN    NaN    NaN    NaN    NaN  \n",
       "3  ...      NaN    NaN    NaN    NaN   NaN    NaN    NaN    NaN    NaN    NaN  \n",
       "4  ...      NaN    NaN    NaN    NaN   NaN    NaN    NaN    NaN    NaN    NaN  \n",
       "\n",
       "[5 rows x 23 columns]"
      ]
     },
     "execution_count": 17,
     "metadata": {},
     "output_type": "execute_result"
    }
   ],
   "source": [
    "pdata.head()"
   ]
  },
  {
   "cell_type": "code",
   "execution_count": 18,
   "metadata": {},
   "outputs": [],
   "source": [
    "#drop the columns that are not needed\n",
    "#in the performance data we are only interested in column 'f_code1' which is whether a loan foreclosed or not\n",
    "\n",
    "pdata.drop(['col2', 'col3', 'col4', 'col5', 'col6', 'col7', 'col8', 'col10'\n",
    "              , 'col11', 'col12', 'col13', 'col14', 'col15', 'col16', 'col17'\n",
    "              , 'col18', 'col19', 'col20', 'col21', 'col22', 'col23'], axis=1, inplace=True)"
   ]
  },
  {
   "cell_type": "code",
   "execution_count": 19,
   "metadata": {},
   "outputs": [
    {
     "data": {
      "text/plain": [
       "(22439217, 2)"
      ]
     },
     "execution_count": 19,
     "metadata": {},
     "output_type": "execute_result"
    }
   ],
   "source": [
    "pdata.shape"
   ]
  },
  {
   "cell_type": "markdown",
   "metadata": {},
   "source": [
    "#### The performance data contains multiple rows for each loan_num. \n",
    "#### Removing duplicate rows reducing from 22,439,217 rows to 385,007 rows"
   ]
  },
  {
   "cell_type": "code",
   "execution_count": 20,
   "metadata": {},
   "outputs": [
    {
     "data": {
      "text/plain": [
       "(385007, 2)"
      ]
     },
     "execution_count": 20,
     "metadata": {},
     "output_type": "execute_result"
    }
   ],
   "source": [
    "pdata = pdata.drop_duplicates(keep=False)\n",
    "pdata.shape"
   ]
  },
  {
   "cell_type": "markdown",
   "metadata": {},
   "source": [
    "#### Working with the 'f_code1' column in the performance data 'pdata'"
   ]
  },
  {
   "cell_type": "code",
   "execution_count": 21,
   "metadata": {},
   "outputs": [
    {
     "data": {
      "text/html": [
       "<div>\n",
       "<style scoped>\n",
       "    .dataframe tbody tr th:only-of-type {\n",
       "        vertical-align: middle;\n",
       "    }\n",
       "\n",
       "    .dataframe tbody tr th {\n",
       "        vertical-align: top;\n",
       "    }\n",
       "\n",
       "    .dataframe thead th {\n",
       "        text-align: right;\n",
       "    }\n",
       "</style>\n",
       "<table border=\"1\" class=\"dataframe\">\n",
       "  <thead>\n",
       "    <tr style=\"text-align: right;\">\n",
       "      <th></th>\n",
       "      <th>loan_num</th>\n",
       "    </tr>\n",
       "    <tr>\n",
       "      <th>f_code1</th>\n",
       "      <th></th>\n",
       "    </tr>\n",
       "  </thead>\n",
       "  <tbody>\n",
       "    <tr>\n",
       "      <th>1.0</th>\n",
       "      <td>378730</td>\n",
       "    </tr>\n",
       "    <tr>\n",
       "      <th>3.0</th>\n",
       "      <td>1287</td>\n",
       "    </tr>\n",
       "    <tr>\n",
       "      <th>6.0</th>\n",
       "      <td>645</td>\n",
       "    </tr>\n",
       "    <tr>\n",
       "      <th>9.0</th>\n",
       "      <td>3177</td>\n",
       "    </tr>\n",
       "  </tbody>\n",
       "</table>\n",
       "</div>"
      ],
      "text/plain": [
       "         loan_num\n",
       "f_code1          \n",
       "1.0        378730\n",
       "3.0          1287\n",
       "6.0           645\n",
       "9.0          3177"
      ]
     },
     "execution_count": 21,
     "metadata": {},
     "output_type": "execute_result"
    }
   ],
   "source": [
    "pdata.groupby( [ \"f_code1\"] ).count()"
   ]
  },
  {
   "cell_type": "code",
   "execution_count": 22,
   "metadata": {},
   "outputs": [],
   "source": [
    "# remove any null values\n",
    "# f_code1 is the code that will be set to '0' for all loans that have not foreclosed\n",
    "# f_code1 will be set to '1' for all loans that have foreclosed\n",
    "pdata.dropna(axis=0, subset=['f_code1'], inplace=True)\n",
    "\n",
    "# set f_code 3 and 9 to 1 (foreclosured loans), codes 1 and 6 to 0 (not foreclosed)\n",
    "pdata.loc[pdata.f_code1 == 1, 'f_code1'] = 0\n",
    "pdata.loc[pdata.f_code1 == 6, 'f_code1'] = 0\n",
    "pdata.loc[pdata.f_code1 == 3,'f_code1'] = 1\n",
    "pdata.loc[pdata.f_code1 == 9, 'f_code1'] = 1"
   ]
  },
  {
   "cell_type": "code",
   "execution_count": 23,
   "metadata": {},
   "outputs": [
    {
     "data": {
      "text/html": [
       "<div>\n",
       "<style scoped>\n",
       "    .dataframe tbody tr th:only-of-type {\n",
       "        vertical-align: middle;\n",
       "    }\n",
       "\n",
       "    .dataframe tbody tr th {\n",
       "        vertical-align: top;\n",
       "    }\n",
       "\n",
       "    .dataframe thead th {\n",
       "        text-align: right;\n",
       "    }\n",
       "</style>\n",
       "<table border=\"1\" class=\"dataframe\">\n",
       "  <thead>\n",
       "    <tr style=\"text-align: right;\">\n",
       "      <th></th>\n",
       "      <th>loan_num</th>\n",
       "    </tr>\n",
       "    <tr>\n",
       "      <th>f_code1</th>\n",
       "      <th></th>\n",
       "    </tr>\n",
       "  </thead>\n",
       "  <tbody>\n",
       "    <tr>\n",
       "      <th>0.0</th>\n",
       "      <td>379375</td>\n",
       "    </tr>\n",
       "    <tr>\n",
       "      <th>1.0</th>\n",
       "      <td>4464</td>\n",
       "    </tr>\n",
       "  </tbody>\n",
       "</table>\n",
       "</div>"
      ],
      "text/plain": [
       "         loan_num\n",
       "f_code1          \n",
       "0.0        379375\n",
       "1.0          4464"
      ]
     },
     "execution_count": 23,
     "metadata": {},
     "output_type": "execute_result"
    }
   ],
   "source": [
    "pdata.groupby( [ \"f_code1\"] ).count()"
   ]
  },
  {
   "cell_type": "markdown",
   "metadata": {},
   "source": [
    "#### Based on the above there are 4464 loans that have foreclosed\n",
    "#### Next we will merge the fdata (feature data) with pdata (performance data)"
   ]
  },
  {
   "cell_type": "code",
   "execution_count": 24,
   "metadata": {},
   "outputs": [],
   "source": [
    "#convert the float f_code column to an int column and then sort\n",
    "pdata['f_code1'] = pdata['f_code1'].astype(int)\n",
    "pdata.sort_values(by=['loan_num'],inplace=True);"
   ]
  },
  {
   "cell_type": "code",
   "execution_count": 25,
   "metadata": {},
   "outputs": [
    {
     "data": {
      "text/html": [
       "<div>\n",
       "<style scoped>\n",
       "    .dataframe tbody tr th:only-of-type {\n",
       "        vertical-align: middle;\n",
       "    }\n",
       "\n",
       "    .dataframe tbody tr th {\n",
       "        vertical-align: top;\n",
       "    }\n",
       "\n",
       "    .dataframe thead th {\n",
       "        text-align: right;\n",
       "    }\n",
       "</style>\n",
       "<table border=\"1\" class=\"dataframe\">\n",
       "  <thead>\n",
       "    <tr style=\"text-align: right;\">\n",
       "      <th></th>\n",
       "      <th>credit_score</th>\n",
       "      <th>first_time_buyer</th>\n",
       "      <th>mths_maturity</th>\n",
       "      <th>mi_percent</th>\n",
       "      <th>num_units</th>\n",
       "      <th>occup_status</th>\n",
       "      <th>cltv</th>\n",
       "      <th>dti</th>\n",
       "      <th>upb</th>\n",
       "      <th>ltv</th>\n",
       "      <th>...</th>\n",
       "      <th>prop_type</th>\n",
       "      <th>zipcode</th>\n",
       "      <th>loan_num</th>\n",
       "      <th>purpose</th>\n",
       "      <th>term</th>\n",
       "      <th>col23</th>\n",
       "      <th>col24</th>\n",
       "      <th>col25</th>\n",
       "      <th>f_code</th>\n",
       "      <th>f_code1</th>\n",
       "    </tr>\n",
       "  </thead>\n",
       "  <tbody>\n",
       "    <tr>\n",
       "      <th>0</th>\n",
       "      <td>751</td>\n",
       "      <td>N</td>\n",
       "      <td>359</td>\n",
       "      <td>0</td>\n",
       "      <td>1</td>\n",
       "      <td>P</td>\n",
       "      <td>71</td>\n",
       "      <td>20</td>\n",
       "      <td>180000</td>\n",
       "      <td>71</td>\n",
       "      <td>...</td>\n",
       "      <td>SF</td>\n",
       "      <td>19300.0</td>\n",
       "      <td>F199Q1000001</td>\n",
       "      <td>P</td>\n",
       "      <td>360</td>\n",
       "      <td>2</td>\n",
       "      <td>Other sellers</td>\n",
       "      <td>Other servicers</td>\n",
       "      <td>0</td>\n",
       "      <td>0</td>\n",
       "    </tr>\n",
       "    <tr>\n",
       "      <th>1</th>\n",
       "      <td>733</td>\n",
       "      <td>N</td>\n",
       "      <td>359</td>\n",
       "      <td>0</td>\n",
       "      <td>1</td>\n",
       "      <td>P</td>\n",
       "      <td>51</td>\n",
       "      <td>999</td>\n",
       "      <td>116000</td>\n",
       "      <td>51</td>\n",
       "      <td>...</td>\n",
       "      <td>SF</td>\n",
       "      <td>17500.0</td>\n",
       "      <td>F199Q1000002</td>\n",
       "      <td>P</td>\n",
       "      <td>360</td>\n",
       "      <td>1</td>\n",
       "      <td>Other sellers</td>\n",
       "      <td>Other servicers</td>\n",
       "      <td>0</td>\n",
       "      <td>0</td>\n",
       "    </tr>\n",
       "    <tr>\n",
       "      <th>2</th>\n",
       "      <td>755</td>\n",
       "      <td>N</td>\n",
       "      <td>359</td>\n",
       "      <td>30</td>\n",
       "      <td>1</td>\n",
       "      <td>P</td>\n",
       "      <td>95</td>\n",
       "      <td>38</td>\n",
       "      <td>138000</td>\n",
       "      <td>95</td>\n",
       "      <td>...</td>\n",
       "      <td>SF</td>\n",
       "      <td>17500.0</td>\n",
       "      <td>F199Q1000003</td>\n",
       "      <td>P</td>\n",
       "      <td>360</td>\n",
       "      <td>2</td>\n",
       "      <td>Other sellers</td>\n",
       "      <td>Other servicers</td>\n",
       "      <td>0</td>\n",
       "      <td>0</td>\n",
       "    </tr>\n",
       "    <tr>\n",
       "      <th>3</th>\n",
       "      <td>669</td>\n",
       "      <td>N</td>\n",
       "      <td>319</td>\n",
       "      <td>0</td>\n",
       "      <td>1</td>\n",
       "      <td>P</td>\n",
       "      <td>80</td>\n",
       "      <td>33</td>\n",
       "      <td>162000</td>\n",
       "      <td>80</td>\n",
       "      <td>...</td>\n",
       "      <td>SF</td>\n",
       "      <td>26100.0</td>\n",
       "      <td>F199Q1000004</td>\n",
       "      <td>P</td>\n",
       "      <td>320</td>\n",
       "      <td>2</td>\n",
       "      <td>Other sellers</td>\n",
       "      <td>Other servicers</td>\n",
       "      <td>0</td>\n",
       "      <td>0</td>\n",
       "    </tr>\n",
       "    <tr>\n",
       "      <th>4</th>\n",
       "      <td>732</td>\n",
       "      <td>N</td>\n",
       "      <td>359</td>\n",
       "      <td>0</td>\n",
       "      <td>1</td>\n",
       "      <td>P</td>\n",
       "      <td>25</td>\n",
       "      <td>10</td>\n",
       "      <td>53000</td>\n",
       "      <td>25</td>\n",
       "      <td>...</td>\n",
       "      <td>SF</td>\n",
       "      <td>45200.0</td>\n",
       "      <td>F199Q1000005</td>\n",
       "      <td>N</td>\n",
       "      <td>360</td>\n",
       "      <td>1</td>\n",
       "      <td>Other sellers</td>\n",
       "      <td>Other servicers</td>\n",
       "      <td>0</td>\n",
       "      <td>0</td>\n",
       "    </tr>\n",
       "  </tbody>\n",
       "</table>\n",
       "<p>5 rows × 24 columns</p>\n",
       "</div>"
      ],
      "text/plain": [
       "   credit_score first_time_buyer  mths_maturity  mi_percent  num_units  \\\n",
       "0           751                N            359           0          1   \n",
       "1           733                N            359           0          1   \n",
       "2           755                N            359          30          1   \n",
       "3           669                N            319           0          1   \n",
       "4           732                N            359           0          1   \n",
       "\n",
       "  occup_status  cltv  dti     upb  ltv   ...     prop_type  zipcode  \\\n",
       "0            P    71   20  180000   71   ...            SF  19300.0   \n",
       "1            P    51  999  116000   51   ...            SF  17500.0   \n",
       "2            P    95   38  138000   95   ...            SF  17500.0   \n",
       "3            P    80   33  162000   80   ...            SF  26100.0   \n",
       "4            P    25   10   53000   25   ...            SF  45200.0   \n",
       "\n",
       "       loan_num purpose term  col23          col24            col25  f_code  \\\n",
       "0  F199Q1000001       P  360      2  Other sellers  Other servicers       0   \n",
       "1  F199Q1000002       P  360      1  Other sellers  Other servicers       0   \n",
       "2  F199Q1000003       P  360      2  Other sellers  Other servicers       0   \n",
       "3  F199Q1000004       P  320      2  Other sellers  Other servicers       0   \n",
       "4  F199Q1000005       N  360      1  Other sellers  Other servicers       0   \n",
       "\n",
       "   f_code1  \n",
       "0        0  \n",
       "1        0  \n",
       "2        0  \n",
       "3        0  \n",
       "4        0  \n",
       "\n",
       "[5 rows x 24 columns]"
      ]
     },
     "execution_count": 25,
     "metadata": {},
     "output_type": "execute_result"
    }
   ],
   "source": [
    "fdata.sort_values(by=['loan_num'],inplace=True);\n",
    "fdata = pd.merge(fdata,pdata[['loan_num','f_code1']],on='loan_num')\n",
    "fdata.head()"
   ]
  },
  {
   "cell_type": "markdown",
   "metadata": {},
   "source": [
    "#### merge the 'f_code' and 'f_code1' columns in fdata dataframe"
   ]
  },
  {
   "cell_type": "code",
   "execution_count": 26,
   "metadata": {},
   "outputs": [],
   "source": [
    "fdata['f_code'] = fdata.f_code | fdata.f_code1"
   ]
  },
  {
   "cell_type": "code",
   "execution_count": 27,
   "metadata": {},
   "outputs": [],
   "source": [
    "fdata.drop('f_code1',axis=1,inplace=True)"
   ]
  },
  {
   "cell_type": "code",
   "execution_count": 28,
   "metadata": {},
   "outputs": [
    {
     "data": {
      "text/html": [
       "<div>\n",
       "<style scoped>\n",
       "    .dataframe tbody tr th:only-of-type {\n",
       "        vertical-align: middle;\n",
       "    }\n",
       "\n",
       "    .dataframe tbody tr th {\n",
       "        vertical-align: top;\n",
       "    }\n",
       "\n",
       "    .dataframe thead th {\n",
       "        text-align: right;\n",
       "    }\n",
       "</style>\n",
       "<table border=\"1\" class=\"dataframe\">\n",
       "  <thead>\n",
       "    <tr style=\"text-align: right;\">\n",
       "      <th></th>\n",
       "      <th>credit_score</th>\n",
       "      <th>first_time_buyer</th>\n",
       "      <th>mths_maturity</th>\n",
       "      <th>mi_percent</th>\n",
       "      <th>num_units</th>\n",
       "      <th>occup_status</th>\n",
       "      <th>cltv</th>\n",
       "      <th>dti</th>\n",
       "      <th>upb</th>\n",
       "      <th>ltv</th>\n",
       "      <th>...</th>\n",
       "      <th>prop_state</th>\n",
       "      <th>prop_type</th>\n",
       "      <th>zipcode</th>\n",
       "      <th>loan_num</th>\n",
       "      <th>purpose</th>\n",
       "      <th>term</th>\n",
       "      <th>col23</th>\n",
       "      <th>col24</th>\n",
       "      <th>col25</th>\n",
       "      <th>f_code</th>\n",
       "    </tr>\n",
       "  </thead>\n",
       "  <tbody>\n",
       "    <tr>\n",
       "      <th>0</th>\n",
       "      <td>751</td>\n",
       "      <td>N</td>\n",
       "      <td>359</td>\n",
       "      <td>0</td>\n",
       "      <td>1</td>\n",
       "      <td>P</td>\n",
       "      <td>71</td>\n",
       "      <td>20</td>\n",
       "      <td>180000</td>\n",
       "      <td>71</td>\n",
       "      <td>...</td>\n",
       "      <td>PA</td>\n",
       "      <td>SF</td>\n",
       "      <td>19300.0</td>\n",
       "      <td>F199Q1000001</td>\n",
       "      <td>P</td>\n",
       "      <td>360</td>\n",
       "      <td>2</td>\n",
       "      <td>Other sellers</td>\n",
       "      <td>Other servicers</td>\n",
       "      <td>0</td>\n",
       "    </tr>\n",
       "    <tr>\n",
       "      <th>1</th>\n",
       "      <td>733</td>\n",
       "      <td>N</td>\n",
       "      <td>359</td>\n",
       "      <td>0</td>\n",
       "      <td>1</td>\n",
       "      <td>P</td>\n",
       "      <td>51</td>\n",
       "      <td>999</td>\n",
       "      <td>116000</td>\n",
       "      <td>51</td>\n",
       "      <td>...</td>\n",
       "      <td>PA</td>\n",
       "      <td>SF</td>\n",
       "      <td>17500.0</td>\n",
       "      <td>F199Q1000002</td>\n",
       "      <td>P</td>\n",
       "      <td>360</td>\n",
       "      <td>1</td>\n",
       "      <td>Other sellers</td>\n",
       "      <td>Other servicers</td>\n",
       "      <td>0</td>\n",
       "    </tr>\n",
       "    <tr>\n",
       "      <th>2</th>\n",
       "      <td>755</td>\n",
       "      <td>N</td>\n",
       "      <td>359</td>\n",
       "      <td>30</td>\n",
       "      <td>1</td>\n",
       "      <td>P</td>\n",
       "      <td>95</td>\n",
       "      <td>38</td>\n",
       "      <td>138000</td>\n",
       "      <td>95</td>\n",
       "      <td>...</td>\n",
       "      <td>PA</td>\n",
       "      <td>SF</td>\n",
       "      <td>17500.0</td>\n",
       "      <td>F199Q1000003</td>\n",
       "      <td>P</td>\n",
       "      <td>360</td>\n",
       "      <td>2</td>\n",
       "      <td>Other sellers</td>\n",
       "      <td>Other servicers</td>\n",
       "      <td>0</td>\n",
       "    </tr>\n",
       "    <tr>\n",
       "      <th>3</th>\n",
       "      <td>669</td>\n",
       "      <td>N</td>\n",
       "      <td>319</td>\n",
       "      <td>0</td>\n",
       "      <td>1</td>\n",
       "      <td>P</td>\n",
       "      <td>80</td>\n",
       "      <td>33</td>\n",
       "      <td>162000</td>\n",
       "      <td>80</td>\n",
       "      <td>...</td>\n",
       "      <td>WV</td>\n",
       "      <td>SF</td>\n",
       "      <td>26100.0</td>\n",
       "      <td>F199Q1000004</td>\n",
       "      <td>P</td>\n",
       "      <td>320</td>\n",
       "      <td>2</td>\n",
       "      <td>Other sellers</td>\n",
       "      <td>Other servicers</td>\n",
       "      <td>0</td>\n",
       "    </tr>\n",
       "    <tr>\n",
       "      <th>4</th>\n",
       "      <td>732</td>\n",
       "      <td>N</td>\n",
       "      <td>359</td>\n",
       "      <td>0</td>\n",
       "      <td>1</td>\n",
       "      <td>P</td>\n",
       "      <td>25</td>\n",
       "      <td>10</td>\n",
       "      <td>53000</td>\n",
       "      <td>25</td>\n",
       "      <td>...</td>\n",
       "      <td>OH</td>\n",
       "      <td>SF</td>\n",
       "      <td>45200.0</td>\n",
       "      <td>F199Q1000005</td>\n",
       "      <td>N</td>\n",
       "      <td>360</td>\n",
       "      <td>1</td>\n",
       "      <td>Other sellers</td>\n",
       "      <td>Other servicers</td>\n",
       "      <td>0</td>\n",
       "    </tr>\n",
       "  </tbody>\n",
       "</table>\n",
       "<p>5 rows × 23 columns</p>\n",
       "</div>"
      ],
      "text/plain": [
       "   credit_score first_time_buyer  mths_maturity  mi_percent  num_units  \\\n",
       "0           751                N            359           0          1   \n",
       "1           733                N            359           0          1   \n",
       "2           755                N            359          30          1   \n",
       "3           669                N            319           0          1   \n",
       "4           732                N            359           0          1   \n",
       "\n",
       "  occup_status  cltv  dti     upb  ltv   ...    prop_state prop_type  zipcode  \\\n",
       "0            P    71   20  180000   71   ...            PA        SF  19300.0   \n",
       "1            P    51  999  116000   51   ...            PA        SF  17500.0   \n",
       "2            P    95   38  138000   95   ...            PA        SF  17500.0   \n",
       "3            P    80   33  162000   80   ...            WV        SF  26100.0   \n",
       "4            P    25   10   53000   25   ...            OH        SF  45200.0   \n",
       "\n",
       "       loan_num purpose  term col23          col24            col25  f_code  \n",
       "0  F199Q1000001       P   360     2  Other sellers  Other servicers       0  \n",
       "1  F199Q1000002       P   360     1  Other sellers  Other servicers       0  \n",
       "2  F199Q1000003       P   360     2  Other sellers  Other servicers       0  \n",
       "3  F199Q1000004       P   320     2  Other sellers  Other servicers       0  \n",
       "4  F199Q1000005       N   360     1  Other sellers  Other servicers       0  \n",
       "\n",
       "[5 rows x 23 columns]"
      ]
     },
     "execution_count": 28,
     "metadata": {},
     "output_type": "execute_result"
    }
   ],
   "source": [
    "fdata.head()"
   ]
  },
  {
   "cell_type": "markdown",
   "metadata": {},
   "source": [
    "***********"
   ]
  },
  {
   "cell_type": "markdown",
   "metadata": {},
   "source": [
    "### With the above steps the response vector f_code is merged into the feature dataframe 'fdata'\n",
    "### As a result 'fdata' now has all the feature columns as well as the response column"
   ]
  },
  {
   "cell_type": "markdown",
   "metadata": {},
   "source": [
    "************"
   ]
  },
  {
   "cell_type": "markdown",
   "metadata": {},
   "source": [
    "#### Getting back to massaging data in feature columns of the feature data (fdata) dataframe"
   ]
  },
  {
   "cell_type": "markdown",
   "metadata": {},
   "source": [
    "##### Column **'first_time_buyer'**"
   ]
  },
  {
   "cell_type": "code",
   "execution_count": 29,
   "metadata": {},
   "outputs": [],
   "source": [
    "# first_time_buyer column, convert 'N' and 'Y' to '0' and '1'\n",
    "fdata.loc[fdata.first_time_buyer == 'N', 'first_time_buyer'] = 0\n",
    "fdata.loc[fdata.first_time_buyer == 'Y', 'first_time_buyer'] = 1\n",
    "\n",
    "#convert the float f_code column to an int column and then sort\n",
    "fdata['first_time_buyer'] = fdata['first_time_buyer'].astype(int)"
   ]
  },
  {
   "cell_type": "markdown",
   "metadata": {},
   "source": [
    "**********"
   ]
  },
  {
   "cell_type": "markdown",
   "metadata": {},
   "source": [
    "##### Column **'mi_percent'**"
   ]
  },
  {
   "cell_type": "code",
   "execution_count": 30,
   "metadata": {},
   "outputs": [
    {
     "data": {
      "text/plain": [
       "101282"
      ]
     },
     "execution_count": 30,
     "metadata": {},
     "output_type": "execute_result"
    }
   ],
   "source": [
    "# Determine the number of loans for which the mi_percent or Mortgage Insurance Percentage value is not available.\n",
    "# These values were set to 999\n",
    "fdata[fdata.mi_percent == 999].mi_percent.count()"
   ]
  },
  {
   "cell_type": "code",
   "execution_count": 31,
   "metadata": {},
   "outputs": [],
   "source": [
    "# Given that 101282 rows do not have the mi_percent data, we will drop this column from consideration as a feature\n",
    "# Drop mi_percent column\n",
    "fdata.drop(['mi_percent'],axis=1,inplace=True)"
   ]
  },
  {
   "cell_type": "markdown",
   "metadata": {},
   "source": [
    "************"
   ]
  },
  {
   "cell_type": "markdown",
   "metadata": {},
   "source": [
    "##### Column **'num_units'**"
   ]
  },
  {
   "cell_type": "code",
   "execution_count": 32,
   "metadata": {},
   "outputs": [
    {
     "data": {
      "text/plain": [
       "num_units\n",
       "1     375777\n",
       "2       6232\n",
       "3        911\n",
       "4        917\n",
       "99         2\n",
       "Name: num_units, dtype: int64"
      ]
     },
     "execution_count": 32,
     "metadata": {},
     "output_type": "execute_result"
    }
   ],
   "source": [
    "#fdata[fdata.num_units == 99].num_units.count()\n",
    "#num_units - Denotes whether the mortgage is a \n",
    "#1 - one-unit property,\n",
    "#2 - two-unit propert,\n",
    "#3 - three-unit propert, or \n",
    "#4 - four-unit property.\n",
    "#num_units value of 99 implies that it is unknown\n",
    "\n",
    "fdata.groupby(['num_units']).num_units.count()"
   ]
  },
  {
   "cell_type": "code",
   "execution_count": 33,
   "metadata": {},
   "outputs": [],
   "source": [
    "#given that the most likely num_units value is 1, we will set the rows with '99' value for num_units to '1'\n",
    "fdata.loc[fdata.num_units == 99, 'num_units'] = 1"
   ]
  },
  {
   "cell_type": "markdown",
   "metadata": {},
   "source": [
    "*************"
   ]
  },
  {
   "cell_type": "markdown",
   "metadata": {},
   "source": [
    "##### Column **'occup_status'**"
   ]
  },
  {
   "cell_type": "code",
   "execution_count": 34,
   "metadata": {},
   "outputs": [
    {
     "data": {
      "text/plain": [
       "occup_status\n",
       "I     12693\n",
       "P    362173\n",
       "S      8973\n",
       "Name: occup_status, dtype: int64"
      ]
     },
     "execution_count": 34,
     "metadata": {},
     "output_type": "execute_result"
    }
   ],
   "source": [
    "#occup_status or occupancy status\n",
    "#P = Primary Residence\n",
    "#I = Investment Property\n",
    "#S = Second Home\n",
    "#9 = Not Available\n",
    "fdata.groupby(['occup_status']).occup_status.count()"
   ]
  },
  {
   "cell_type": "code",
   "execution_count": 35,
   "metadata": {},
   "outputs": [],
   "source": [
    "fdata.loc[fdata.occup_status == 'P', 'occup_status'] = 1\n",
    "fdata.loc[fdata.occup_status == 'I', 'occup_status'] = 2\n",
    "fdata.loc[fdata.occup_status == 'S', 'occup_status'] = 3\n",
    "fdata['occup_status'] = fdata['occup_status'].astype(int)"
   ]
  },
  {
   "cell_type": "markdown",
   "metadata": {},
   "source": [
    "***********"
   ]
  },
  {
   "cell_type": "markdown",
   "metadata": {},
   "source": [
    "##### Column **'cltv'**"
   ]
  },
  {
   "cell_type": "code",
   "execution_count": 36,
   "metadata": {},
   "outputs": [],
   "source": [
    "# ORIGINAL COMBINED LOAN-TO-VALUE (CLTV) 0% - 200% , 999 = Not Available\n",
    "# Removing rows where 'cltv' is not available (only 4 rows had not cltv not available)\n",
    "fdata = fdata[fdata[\"cltv\"] != 999]"
   ]
  },
  {
   "cell_type": "code",
   "execution_count": 37,
   "metadata": {},
   "outputs": [
    {
     "data": {
      "text/plain": [
       "credit_score          int64\n",
       "first_time_buyer      int64\n",
       "mths_maturity         int64\n",
       "num_units             int64\n",
       "occup_status          int64\n",
       "cltv                  int64\n",
       "dti                   int64\n",
       "upb                   int64\n",
       "ltv                   int64\n",
       "int_rate            float64\n",
       "channel              object\n",
       "prod_type            object\n",
       "prop_state           object\n",
       "prop_type            object\n",
       "zipcode             float64\n",
       "loan_num             object\n",
       "purpose              object\n",
       "term                  int64\n",
       "col23                 int64\n",
       "col24                object\n",
       "col25                object\n",
       "f_code                int64\n",
       "dtype: object"
      ]
     },
     "execution_count": 37,
     "metadata": {},
     "output_type": "execute_result"
    }
   ],
   "source": [
    "fdata.dtypes"
   ]
  },
  {
   "cell_type": "code",
   "execution_count": 38,
   "metadata": {},
   "outputs": [
    {
     "data": {
      "text/html": [
       "<div>\n",
       "<style scoped>\n",
       "    .dataframe tbody tr th:only-of-type {\n",
       "        vertical-align: middle;\n",
       "    }\n",
       "\n",
       "    .dataframe tbody tr th {\n",
       "        vertical-align: top;\n",
       "    }\n",
       "\n",
       "    .dataframe thead th {\n",
       "        text-align: right;\n",
       "    }\n",
       "</style>\n",
       "<table border=\"1\" class=\"dataframe\">\n",
       "  <thead>\n",
       "    <tr style=\"text-align: right;\">\n",
       "      <th></th>\n",
       "      <th>credit_score</th>\n",
       "      <th>first_time_buyer</th>\n",
       "      <th>mths_maturity</th>\n",
       "      <th>num_units</th>\n",
       "      <th>occup_status</th>\n",
       "      <th>cltv</th>\n",
       "      <th>dti</th>\n",
       "      <th>upb</th>\n",
       "      <th>ltv</th>\n",
       "      <th>int_rate</th>\n",
       "      <th>...</th>\n",
       "      <th>prop_state</th>\n",
       "      <th>prop_type</th>\n",
       "      <th>zipcode</th>\n",
       "      <th>loan_num</th>\n",
       "      <th>purpose</th>\n",
       "      <th>term</th>\n",
       "      <th>col23</th>\n",
       "      <th>col24</th>\n",
       "      <th>col25</th>\n",
       "      <th>f_code</th>\n",
       "    </tr>\n",
       "  </thead>\n",
       "  <tbody>\n",
       "    <tr>\n",
       "      <th>0</th>\n",
       "      <td>751</td>\n",
       "      <td>0</td>\n",
       "      <td>359</td>\n",
       "      <td>1</td>\n",
       "      <td>1</td>\n",
       "      <td>71</td>\n",
       "      <td>20</td>\n",
       "      <td>180000</td>\n",
       "      <td>71</td>\n",
       "      <td>6.30</td>\n",
       "      <td>...</td>\n",
       "      <td>PA</td>\n",
       "      <td>SF</td>\n",
       "      <td>19300.0</td>\n",
       "      <td>F199Q1000001</td>\n",
       "      <td>P</td>\n",
       "      <td>360</td>\n",
       "      <td>2</td>\n",
       "      <td>Other sellers</td>\n",
       "      <td>Other servicers</td>\n",
       "      <td>0</td>\n",
       "    </tr>\n",
       "    <tr>\n",
       "      <th>1</th>\n",
       "      <td>733</td>\n",
       "      <td>0</td>\n",
       "      <td>359</td>\n",
       "      <td>1</td>\n",
       "      <td>1</td>\n",
       "      <td>51</td>\n",
       "      <td>999</td>\n",
       "      <td>116000</td>\n",
       "      <td>51</td>\n",
       "      <td>6.30</td>\n",
       "      <td>...</td>\n",
       "      <td>PA</td>\n",
       "      <td>SF</td>\n",
       "      <td>17500.0</td>\n",
       "      <td>F199Q1000002</td>\n",
       "      <td>P</td>\n",
       "      <td>360</td>\n",
       "      <td>1</td>\n",
       "      <td>Other sellers</td>\n",
       "      <td>Other servicers</td>\n",
       "      <td>0</td>\n",
       "    </tr>\n",
       "    <tr>\n",
       "      <th>2</th>\n",
       "      <td>755</td>\n",
       "      <td>0</td>\n",
       "      <td>359</td>\n",
       "      <td>1</td>\n",
       "      <td>1</td>\n",
       "      <td>95</td>\n",
       "      <td>38</td>\n",
       "      <td>138000</td>\n",
       "      <td>95</td>\n",
       "      <td>6.60</td>\n",
       "      <td>...</td>\n",
       "      <td>PA</td>\n",
       "      <td>SF</td>\n",
       "      <td>17500.0</td>\n",
       "      <td>F199Q1000003</td>\n",
       "      <td>P</td>\n",
       "      <td>360</td>\n",
       "      <td>2</td>\n",
       "      <td>Other sellers</td>\n",
       "      <td>Other servicers</td>\n",
       "      <td>0</td>\n",
       "    </tr>\n",
       "    <tr>\n",
       "      <th>3</th>\n",
       "      <td>669</td>\n",
       "      <td>0</td>\n",
       "      <td>319</td>\n",
       "      <td>1</td>\n",
       "      <td>1</td>\n",
       "      <td>80</td>\n",
       "      <td>33</td>\n",
       "      <td>162000</td>\n",
       "      <td>80</td>\n",
       "      <td>7.12</td>\n",
       "      <td>...</td>\n",
       "      <td>WV</td>\n",
       "      <td>SF</td>\n",
       "      <td>26100.0</td>\n",
       "      <td>F199Q1000004</td>\n",
       "      <td>P</td>\n",
       "      <td>320</td>\n",
       "      <td>2</td>\n",
       "      <td>Other sellers</td>\n",
       "      <td>Other servicers</td>\n",
       "      <td>0</td>\n",
       "    </tr>\n",
       "    <tr>\n",
       "      <th>4</th>\n",
       "      <td>732</td>\n",
       "      <td>0</td>\n",
       "      <td>359</td>\n",
       "      <td>1</td>\n",
       "      <td>1</td>\n",
       "      <td>25</td>\n",
       "      <td>10</td>\n",
       "      <td>53000</td>\n",
       "      <td>25</td>\n",
       "      <td>6.50</td>\n",
       "      <td>...</td>\n",
       "      <td>OH</td>\n",
       "      <td>SF</td>\n",
       "      <td>45200.0</td>\n",
       "      <td>F199Q1000005</td>\n",
       "      <td>N</td>\n",
       "      <td>360</td>\n",
       "      <td>1</td>\n",
       "      <td>Other sellers</td>\n",
       "      <td>Other servicers</td>\n",
       "      <td>0</td>\n",
       "    </tr>\n",
       "  </tbody>\n",
       "</table>\n",
       "<p>5 rows × 22 columns</p>\n",
       "</div>"
      ],
      "text/plain": [
       "   credit_score  first_time_buyer  mths_maturity  num_units  occup_status  \\\n",
       "0           751                 0            359          1             1   \n",
       "1           733                 0            359          1             1   \n",
       "2           755                 0            359          1             1   \n",
       "3           669                 0            319          1             1   \n",
       "4           732                 0            359          1             1   \n",
       "\n",
       "   cltv  dti     upb  ltv  int_rate  ...   prop_state prop_type  zipcode  \\\n",
       "0    71   20  180000   71      6.30  ...           PA        SF  19300.0   \n",
       "1    51  999  116000   51      6.30  ...           PA        SF  17500.0   \n",
       "2    95   38  138000   95      6.60  ...           PA        SF  17500.0   \n",
       "3    80   33  162000   80      7.12  ...           WV        SF  26100.0   \n",
       "4    25   10   53000   25      6.50  ...           OH        SF  45200.0   \n",
       "\n",
       "       loan_num  purpose term col23          col24            col25 f_code  \n",
       "0  F199Q1000001        P  360     2  Other sellers  Other servicers      0  \n",
       "1  F199Q1000002        P  360     1  Other sellers  Other servicers      0  \n",
       "2  F199Q1000003        P  360     2  Other sellers  Other servicers      0  \n",
       "3  F199Q1000004        P  320     2  Other sellers  Other servicers      0  \n",
       "4  F199Q1000005        N  360     1  Other sellers  Other servicers      0  \n",
       "\n",
       "[5 rows x 22 columns]"
      ]
     },
     "execution_count": 38,
     "metadata": {},
     "output_type": "execute_result"
    }
   ],
   "source": [
    "fdata.head()"
   ]
  },
  {
   "cell_type": "markdown",
   "metadata": {},
   "source": [
    "**********"
   ]
  },
  {
   "cell_type": "markdown",
   "metadata": {},
   "source": [
    "#### Column **'dti'** a value of **999** implies that the debt to income ratio is unknown.\n",
    "#### checking the mean and median values"
   ]
  },
  {
   "cell_type": "code",
   "execution_count": 39,
   "metadata": {},
   "outputs": [
    {
     "data": {
      "text/plain": [
       "31.53789904158944"
      ]
     },
     "execution_count": 39,
     "metadata": {},
     "output_type": "execute_result"
    }
   ],
   "source": [
    "fdata[(fdata.dti != 999)].dti.mean()"
   ]
  },
  {
   "cell_type": "code",
   "execution_count": 40,
   "metadata": {},
   "outputs": [
    {
     "data": {
      "text/plain": [
       "32.0"
      ]
     },
     "execution_count": 40,
     "metadata": {},
     "output_type": "execute_result"
    }
   ],
   "source": [
    "fdata.dti.median()"
   ]
  },
  {
   "cell_type": "markdown",
   "metadata": {},
   "source": [
    "** The mean and median values are fairly close so I will assign a value of th emedian to all '999' dti values**"
   ]
  },
  {
   "cell_type": "code",
   "execution_count": 41,
   "metadata": {},
   "outputs": [],
   "source": [
    "fdata.loc[fdata.dti == 999, 'dti'] = fdata.dti.median()"
   ]
  },
  {
   "cell_type": "markdown",
   "metadata": {},
   "source": [
    "*********"
   ]
  },
  {
   "cell_type": "markdown",
   "metadata": {},
   "source": [
    "##### Column **'UPB'** nothing to do in this case, this is the unpaid balance"
   ]
  },
  {
   "cell_type": "code",
   "execution_count": 42,
   "metadata": {},
   "outputs": [],
   "source": [
    "# upb is the ORIGINAL UPB (unpaid balance?) on the mortgage on the note date"
   ]
  },
  {
   "cell_type": "markdown",
   "metadata": {},
   "source": [
    "***********"
   ]
  },
  {
   "cell_type": "markdown",
   "metadata": {},
   "source": [
    "##### Column **'ltv'**"
   ]
  },
  {
   "cell_type": "code",
   "execution_count": 43,
   "metadata": {},
   "outputs": [],
   "source": [
    "# ltv - ORIGINAL LOAN-TO-VALUE (LTV)\n",
    "# 6% - 105%\n",
    "# 999 = Not Available\n",
    "#fdata = fdata[fdata[\"ltv\"] != 999]"
   ]
  },
  {
   "cell_type": "code",
   "execution_count": 44,
   "metadata": {},
   "outputs": [
    {
     "data": {
      "text/plain": [
       "0"
      ]
     },
     "execution_count": 44,
     "metadata": {},
     "output_type": "execute_result"
    }
   ],
   "source": [
    "fdata[fdata.ltv == 999].ltv.count()"
   ]
  },
  {
   "cell_type": "markdown",
   "metadata": {},
   "source": [
    "#### Looks like there are no rows with a value of 999 for the 'ltv' column, so not much to do in this case"
   ]
  },
  {
   "cell_type": "markdown",
   "metadata": {},
   "source": [
    "***********"
   ]
  },
  {
   "cell_type": "markdown",
   "metadata": {},
   "source": [
    "##### Column **'int_rate'**"
   ]
  },
  {
   "cell_type": "code",
   "execution_count": 45,
   "metadata": {},
   "outputs": [
    {
     "data": {
      "text/plain": [
       "count    383835.000000\n",
       "mean          6.925827\n",
       "std           0.333159\n",
       "min           4.750000\n",
       "25%           6.750000\n",
       "50%           6.875000\n",
       "75%           7.125000\n",
       "max          12.350000\n",
       "Name: int_rate, dtype: float64"
      ]
     },
     "execution_count": 45,
     "metadata": {},
     "output_type": "execute_result"
    }
   ],
   "source": [
    "# int_rate - orginal interest rate\n",
    "fdata.int_rate.describe()"
   ]
  },
  {
   "cell_type": "markdown",
   "metadata": {},
   "source": [
    "#### There is no modification needed to the 'int_rate' column"
   ]
  },
  {
   "cell_type": "markdown",
   "metadata": {},
   "source": [
    "*************"
   ]
  },
  {
   "cell_type": "markdown",
   "metadata": {},
   "source": [
    "##### Column **'channel'**"
   ]
  },
  {
   "cell_type": "code",
   "execution_count": 46,
   "metadata": {},
   "outputs": [
    {
     "data": {
      "text/plain": [
       "0"
      ]
     },
     "execution_count": 46,
     "metadata": {},
     "output_type": "execute_result"
    }
   ],
   "source": [
    "# channel - indicates whether a Broker or Correspondent,as those terms are defined below, originated \n",
    "# or was involved in the origination of the mortgage loan.\n",
    "# R = Retail - replace with '1'\n",
    "# B = Broker - replace with '2'\n",
    "# C = Correspondent - replace with '3'\n",
    "# T = TPO Not Specified - replace with '9'\n",
    "# 9 = Not Available - replace with '9'\n",
    "\n",
    "# check if there are any rows where the data for channel is not Available\n",
    "fdata[fdata.channel == '9'].channel.count()"
   ]
  },
  {
   "cell_type": "markdown",
   "metadata": {},
   "source": [
    "##### Looks like we have channel data for all rows, so we just need to assuign integer values \n",
    "##### for the channel types and convert the data type to 'int'"
   ]
  },
  {
   "cell_type": "code",
   "execution_count": 47,
   "metadata": {},
   "outputs": [],
   "source": [
    "fdata.loc[fdata.channel == 'R', 'channel'] = 1\n",
    "fdata.loc[fdata.channel == 'B', 'channel'] = 2\n",
    "fdata.loc[fdata.channel == 'C', 'channel'] = 3\n",
    "fdata.loc[fdata.channel == 'T', 'channel'] = 4\n",
    "fdata['channel'] = fdata['channel'].astype(int)"
   ]
  },
  {
   "cell_type": "markdown",
   "metadata": {},
   "source": [
    "**************"
   ]
  },
  {
   "cell_type": "markdown",
   "metadata": {},
   "source": [
    "##### Column **'prod_type'**"
   ]
  },
  {
   "cell_type": "code",
   "execution_count": 48,
   "metadata": {},
   "outputs": [
    {
     "data": {
      "text/plain": [
       "prod_type\n",
       "FRM    383835\n",
       "Name: prod_type, dtype: int64"
      ]
     },
     "execution_count": 48,
     "metadata": {},
     "output_type": "execute_result"
    }
   ],
   "source": [
    "# prod_type - PRODUCT TYPE - Denotes that the product is a fixed-rate mortgage.\n",
    "# FRM – Fixed Rate Mortgage\n",
    "fdata.groupby(['prod_type']).prod_type.count()"
   ]
  },
  {
   "cell_type": "markdown",
   "metadata": {},
   "source": [
    "##### Based on the above since all the loans are Fixed Rate mortgages (FRM) we should drop this column, \n",
    "##### prod_type is obviously not a variable"
   ]
  },
  {
   "cell_type": "code",
   "execution_count": 49,
   "metadata": {},
   "outputs": [],
   "source": [
    "# Drop column with null values\n",
    "fdata.drop(['prod_type'],axis=1,inplace=True)"
   ]
  },
  {
   "cell_type": "markdown",
   "metadata": {},
   "source": [
    "*********"
   ]
  },
  {
   "cell_type": "markdown",
   "metadata": {},
   "source": [
    "##### Column **'prop_state'** Assign discrete integer values to the states"
   ]
  },
  {
   "cell_type": "code",
   "execution_count": 50,
   "metadata": {},
   "outputs": [],
   "source": [
    "# prop_state - property state - state in which the property is located.\n",
    "# setting state abbreviations to discrete int values\n",
    "fdata.loc[fdata.prop_state == 'AK', 'prop_state'] = 1\n",
    "fdata.loc[fdata.prop_state == 'AL', 'prop_state'] = 2\n",
    "fdata.loc[fdata.prop_state == 'AR', 'prop_state'] = 3\n",
    "fdata.loc[fdata.prop_state == 'AZ', 'prop_state'] = 4\n",
    "fdata.loc[fdata.prop_state == 'CA', 'prop_state'] = 5\n",
    "fdata.loc[fdata.prop_state == 'CO', 'prop_state'] = 6\n",
    "fdata.loc[fdata.prop_state == 'CT', 'prop_state'] = 7\n",
    "fdata.loc[fdata.prop_state == 'DC', 'prop_state'] = 8\n",
    "fdata.loc[fdata.prop_state == 'DE', 'prop_state'] = 9\n",
    "fdata.loc[fdata.prop_state == 'FL', 'prop_state'] = 10\n",
    "fdata.loc[fdata.prop_state == 'GA', 'prop_state'] = 11\n",
    "fdata.loc[fdata.prop_state == 'GU', 'prop_state'] = 12\n",
    "fdata.loc[fdata.prop_state == 'HI', 'prop_state'] = 13\n",
    "fdata.loc[fdata.prop_state == 'IA', 'prop_state'] = 14\n",
    "fdata.loc[fdata.prop_state == 'ID', 'prop_state'] = 15\n",
    "fdata.loc[fdata.prop_state == 'IL', 'prop_state'] = 16\n",
    "fdata.loc[fdata.prop_state == 'IN', 'prop_state'] = 17\n",
    "fdata.loc[fdata.prop_state == 'KS', 'prop_state'] = 18\n",
    "fdata.loc[fdata.prop_state == 'KY', 'prop_state'] = 19\n",
    "fdata.loc[fdata.prop_state == 'LA', 'prop_state'] = 20\n",
    "fdata.loc[fdata.prop_state == 'MA', 'prop_state'] = 21\n",
    "fdata.loc[fdata.prop_state == 'MD', 'prop_state'] = 22\n",
    "fdata.loc[fdata.prop_state == 'ME', 'prop_state'] = 23\n",
    "fdata.loc[fdata.prop_state == 'MI', 'prop_state'] = 24\n",
    "fdata.loc[fdata.prop_state == 'MN', 'prop_state'] = 25\n",
    "fdata.loc[fdata.prop_state == 'MO', 'prop_state'] = 26\n",
    "fdata.loc[fdata.prop_state == 'MS', 'prop_state'] = 27\n",
    "fdata.loc[fdata.prop_state == 'MT', 'prop_state'] = 28\n",
    "fdata.loc[fdata.prop_state == 'NC', 'prop_state'] = 29\n",
    "fdata.loc[fdata.prop_state == 'ND', 'prop_state'] = 30\n",
    "fdata.loc[fdata.prop_state == 'NE', 'prop_state'] = 31\n",
    "fdata.loc[fdata.prop_state == 'NH', 'prop_state'] = 32\n",
    "fdata.loc[fdata.prop_state == 'NJ', 'prop_state'] = 33\n",
    "fdata.loc[fdata.prop_state == 'NM', 'prop_state'] = 34\n",
    "fdata.loc[fdata.prop_state == 'NV', 'prop_state'] = 35\n",
    "fdata.loc[fdata.prop_state == 'NY', 'prop_state'] = 36\n",
    "fdata.loc[fdata.prop_state == 'OH', 'prop_state'] = 37\n",
    "fdata.loc[fdata.prop_state == 'OK', 'prop_state'] = 38\n",
    "fdata.loc[fdata.prop_state == 'OR', 'prop_state'] = 39\n",
    "fdata.loc[fdata.prop_state == 'PA', 'prop_state'] = 40\n",
    "fdata.loc[fdata.prop_state == 'PR', 'prop_state'] = 41\n",
    "fdata.loc[fdata.prop_state == 'RI', 'prop_state'] = 42\n",
    "fdata.loc[fdata.prop_state == 'SC', 'prop_state'] = 43\n",
    "fdata.loc[fdata.prop_state == 'SD', 'prop_state'] = 44\n",
    "fdata.loc[fdata.prop_state == 'TN', 'prop_state'] = 45\n",
    "fdata.loc[fdata.prop_state == 'TX', 'prop_state'] = 46\n",
    "fdata.loc[fdata.prop_state == 'UT', 'prop_state'] = 47\n",
    "fdata.loc[fdata.prop_state == 'VA', 'prop_state'] = 48\n",
    "fdata.loc[fdata.prop_state == 'VT', 'prop_state'] = 49\n",
    "fdata.loc[fdata.prop_state == 'WA', 'prop_state'] = 50\n",
    "fdata.loc[fdata.prop_state == 'WI', 'prop_state'] = 51\n",
    "fdata.loc[fdata.prop_state == 'WV', 'prop_state'] = 52\n",
    "fdata.loc[fdata.prop_state == 'WY', 'prop_state'] = 53"
   ]
  },
  {
   "cell_type": "code",
   "execution_count": 51,
   "metadata": {},
   "outputs": [],
   "source": [
    "fdata['prop_state'] = fdata['prop_state'].astype(int)"
   ]
  },
  {
   "cell_type": "markdown",
   "metadata": {},
   "source": [
    "************"
   ]
  },
  {
   "cell_type": "code",
   "execution_count": 52,
   "metadata": {},
   "outputs": [
    {
     "data": {
      "text/plain": [
       "credit_score          int64\n",
       "first_time_buyer      int64\n",
       "mths_maturity         int64\n",
       "num_units             int64\n",
       "occup_status          int64\n",
       "cltv                  int64\n",
       "dti                 float64\n",
       "upb                   int64\n",
       "ltv                   int64\n",
       "int_rate            float64\n",
       "channel               int64\n",
       "prop_state            int64\n",
       "prop_type            object\n",
       "zipcode             float64\n",
       "loan_num             object\n",
       "purpose              object\n",
       "term                  int64\n",
       "col23                 int64\n",
       "col24                object\n",
       "col25                object\n",
       "f_code                int64\n",
       "dtype: object"
      ]
     },
     "execution_count": 52,
     "metadata": {},
     "output_type": "execute_result"
    }
   ],
   "source": [
    "fdata.dtypes"
   ]
  },
  {
   "cell_type": "markdown",
   "metadata": {},
   "source": [
    "*********"
   ]
  },
  {
   "cell_type": "markdown",
   "metadata": {},
   "source": [
    "##### Column **'prop_type'**"
   ]
  },
  {
   "cell_type": "code",
   "execution_count": 53,
   "metadata": {},
   "outputs": [],
   "source": [
    "# prop_type PROPERTY TYPE - Denotes whether the property type secured by the mortgage is a condominium, \n",
    "# leasehold, planned unit development (PUD), cooperative share, manufactured home, or Single Family home.\n",
    "# CO = Condo - set to '1'\n",
    "# PU = PUD - set to '2'\n",
    "# MH = Manufactured Housing - set to '3'\n",
    "# SF = 1-4 Fee Simple Single Family Home - set to '4'\n",
    "# CP = Co-op - set to '5'\n",
    "# 99 = Not Available\n",
    "\n",
    "# first check if there are any rows with '99' value"
   ]
  },
  {
   "cell_type": "code",
   "execution_count": 54,
   "metadata": {},
   "outputs": [
    {
     "data": {
      "text/plain": [
       "22"
      ]
     },
     "execution_count": 54,
     "metadata": {},
     "output_type": "execute_result"
    }
   ],
   "source": [
    "fdata[fdata.prop_type == '99'].prop_type.count()"
   ]
  },
  {
   "cell_type": "code",
   "execution_count": 55,
   "metadata": {},
   "outputs": [
    {
     "data": {
      "text/plain": [
       "prop_type\n",
       "99        22\n",
       "CO     23027\n",
       "CP       197\n",
       "MH       762\n",
       "PU     37199\n",
       "SF    322628\n",
       "Name: prop_type, dtype: int64"
      ]
     },
     "execution_count": 55,
     "metadata": {},
     "output_type": "execute_result"
    }
   ],
   "source": [
    "fdata.groupby(['prop_type']).prop_type.count()"
   ]
  },
  {
   "cell_type": "code",
   "execution_count": 56,
   "metadata": {},
   "outputs": [
    {
     "data": {
      "text/plain": [
       "prop_type\n",
       "CO     23027\n",
       "CP       197\n",
       "MH       762\n",
       "PU     37199\n",
       "SF    322650\n",
       "Name: prop_type, dtype: int64"
      ]
     },
     "execution_count": 56,
     "metadata": {},
     "output_type": "execute_result"
    }
   ],
   "source": [
    "# based on the above, since property types are Single Family, we will assign that as the value for all the rows that \n",
    "# have '99' value (not available)\n",
    "fdata.loc[fdata.prop_type == '99', 'prop_type'] = 'SF'\n",
    "fdata.groupby(['prop_type']).prop_type.count()"
   ]
  },
  {
   "cell_type": "code",
   "execution_count": 57,
   "metadata": {},
   "outputs": [],
   "source": [
    "# setting discrete integer values for the string values and then converting to integer type\n",
    "\n",
    "fdata.loc[fdata.prop_type == 'CO', 'prop_type'] = 1\n",
    "fdata.loc[fdata.prop_type == 'PU', 'prop_type'] = 2\n",
    "fdata.loc[fdata.prop_type == 'MH', 'prop_type'] = 3\n",
    "fdata.loc[fdata.prop_type == 'SF', 'prop_type'] = 4\n",
    "fdata.loc[fdata.prop_type == 'CP', 'prop_type'] = 5\n",
    "\n",
    "fdata['prop_state'] = fdata['prop_state'].astype(int)"
   ]
  },
  {
   "cell_type": "markdown",
   "metadata": {},
   "source": [
    "*********"
   ]
  },
  {
   "cell_type": "markdown",
   "metadata": {},
   "source": [
    "##### Column **'zipcode'**"
   ]
  },
  {
   "cell_type": "code",
   "execution_count": 58,
   "metadata": {},
   "outputs": [
    {
     "data": {
      "text/plain": [
       "107125   NaN\n",
       "181864   NaN\n",
       "262091   NaN\n",
       "262256   NaN\n",
       "309784   NaN\n",
       "310195   NaN\n",
       "310388   NaN\n",
       "317025   NaN\n",
       "364992   NaN\n",
       "Name: zipcode, dtype: float64"
      ]
     },
     "execution_count": 58,
     "metadata": {},
     "output_type": "execute_result"
    }
   ],
   "source": [
    "#check if there are any NaN\n",
    "fdata[fdata.zipcode.isnull()].zipcode"
   ]
  },
  {
   "cell_type": "code",
   "execution_count": 59,
   "metadata": {},
   "outputs": [],
   "source": [
    "# removing rows with missing zipcode data\n",
    "fdata = fdata.dropna(subset=['zipcode'])"
   ]
  },
  {
   "cell_type": "code",
   "execution_count": 60,
   "metadata": {},
   "outputs": [],
   "source": [
    "# convert to the 'zipcode' column to integer type\n",
    "fdata['zipcode'] = fdata['zipcode'].astype(int)"
   ]
  },
  {
   "cell_type": "code",
   "execution_count": 66,
   "metadata": {},
   "outputs": [],
   "source": [
    "fdata.drop(['zipcode'],axis=1,inplace=True)"
   ]
  },
  {
   "cell_type": "markdown",
   "metadata": {},
   "source": [
    "***********"
   ]
  },
  {
   "cell_type": "markdown",
   "metadata": {},
   "source": [
    "##### Column **'purpose'**"
   ]
  },
  {
   "cell_type": "code",
   "execution_count": 67,
   "metadata": {},
   "outputs": [
    {
     "data": {
      "text/plain": [
       "purpose\n",
       "1    148283\n",
       "2     86587\n",
       "3    148956\n",
       "Name: purpose, dtype: int64"
      ]
     },
     "execution_count": 67,
     "metadata": {},
     "output_type": "execute_result"
    }
   ],
   "source": [
    "# purpose - LOAN PURPOSE - Indicates whether the mortgage loan is a Cash-out Refinance mortgage, \n",
    "# No Cash-out Refinance mortgage, or a Purchase mortgage.\n",
    "# P = Purchase set to '1'\n",
    "# C = Cash-out Refinance - set to '2'\n",
    "# N = No Cash-out Refinance - set to '3'\n",
    "# 9 = Not Available\n",
    "\n",
    "fdata.groupby(['purpose']).purpose.count()"
   ]
  },
  {
   "cell_type": "code",
   "execution_count": 70,
   "metadata": {},
   "outputs": [
    {
     "data": {
      "text/plain": [
       "purpose\n",
       "1    148283\n",
       "2     86587\n",
       "3    148956\n",
       "Name: purpose, dtype: int64"
      ]
     },
     "execution_count": 70,
     "metadata": {},
     "output_type": "execute_result"
    }
   ],
   "source": [
    "# The following 3 lines commented out, they can be run once but not again once the data is converted from str to int\n",
    "#fdata.loc[fdata.purpose == 'P', 'purpose'] = 1\n",
    "#fdata.loc[fdata.purpose == 'C', 'purpose'] = 2\n",
    "#fdata.loc[fdata.purpose == 'N', 'purpose'] = 3\n",
    "# convert to integer type\n",
    "fdata['purpose'] = fdata['purpose'].astype(int)\n",
    "fdata.groupby(['purpose']).purpose.count()"
   ]
  },
  {
   "cell_type": "markdown",
   "metadata": {},
   "source": [
    "*************"
   ]
  },
  {
   "cell_type": "markdown",
   "metadata": {},
   "source": [
    "##### Column **'term'**"
   ]
  },
  {
   "cell_type": "code",
   "execution_count": 71,
   "metadata": {},
   "outputs": [],
   "source": [
    "# term - ORIGINAL LOAN TERM - A calculation of the number of scheduled monthly payments of the mortgage \n",
    "# based on the First Payment Date and Maturity Date.\n",
    "# no need to make any modifications to this feature"
   ]
  },
  {
   "cell_type": "markdown",
   "metadata": {},
   "source": [
    "***********"
   ]
  },
  {
   "cell_type": "markdown",
   "metadata": {},
   "source": [
    "##### Columns **'col23', 'col24', 'col25'**"
   ]
  },
  {
   "cell_type": "code",
   "execution_count": 73,
   "metadata": {},
   "outputs": [],
   "source": [
    "# dropping columns 'col23', 'col24', 'col25'. There is no information about these columns in the Freddie Mac data\n",
    "# Drop column with null values\n",
    "#fdata.drop(['col23','col24','col25'],axis=1,inplace=True)"
   ]
  },
  {
   "cell_type": "code",
   "execution_count": 74,
   "metadata": {},
   "outputs": [
    {
     "data": {
      "text/plain": [
       "(383826, 17)"
      ]
     },
     "execution_count": 74,
     "metadata": {},
     "output_type": "execute_result"
    }
   ],
   "source": [
    "fdata.shape"
   ]
  },
  {
   "cell_type": "code",
   "execution_count": 75,
   "metadata": {},
   "outputs": [
    {
     "data": {
      "text/html": [
       "<div>\n",
       "<style scoped>\n",
       "    .dataframe tbody tr th:only-of-type {\n",
       "        vertical-align: middle;\n",
       "    }\n",
       "\n",
       "    .dataframe tbody tr th {\n",
       "        vertical-align: top;\n",
       "    }\n",
       "\n",
       "    .dataframe thead th {\n",
       "        text-align: right;\n",
       "    }\n",
       "</style>\n",
       "<table border=\"1\" class=\"dataframe\">\n",
       "  <thead>\n",
       "    <tr style=\"text-align: right;\">\n",
       "      <th></th>\n",
       "      <th>credit_score</th>\n",
       "      <th>first_time_buyer</th>\n",
       "      <th>mths_maturity</th>\n",
       "      <th>num_units</th>\n",
       "      <th>occup_status</th>\n",
       "      <th>cltv</th>\n",
       "      <th>dti</th>\n",
       "      <th>upb</th>\n",
       "      <th>ltv</th>\n",
       "      <th>int_rate</th>\n",
       "      <th>channel</th>\n",
       "      <th>prop_state</th>\n",
       "      <th>prop_type</th>\n",
       "      <th>loan_num</th>\n",
       "      <th>purpose</th>\n",
       "      <th>term</th>\n",
       "      <th>f_code</th>\n",
       "    </tr>\n",
       "  </thead>\n",
       "  <tbody>\n",
       "    <tr>\n",
       "      <th>383834</th>\n",
       "      <td>718</td>\n",
       "      <td>0</td>\n",
       "      <td>306</td>\n",
       "      <td>1</td>\n",
       "      <td>1</td>\n",
       "      <td>55</td>\n",
       "      <td>30.0</td>\n",
       "      <td>44000</td>\n",
       "      <td>55</td>\n",
       "      <td>5.500</td>\n",
       "      <td>1</td>\n",
       "      <td>36</td>\n",
       "      <td>5</td>\n",
       "      <td>F199Q1401556</td>\n",
       "      <td>3</td>\n",
       "      <td>308</td>\n",
       "      <td>0</td>\n",
       "    </tr>\n",
       "    <tr>\n",
       "      <th>383835</th>\n",
       "      <td>664</td>\n",
       "      <td>1</td>\n",
       "      <td>359</td>\n",
       "      <td>1</td>\n",
       "      <td>1</td>\n",
       "      <td>97</td>\n",
       "      <td>19.0</td>\n",
       "      <td>75000</td>\n",
       "      <td>97</td>\n",
       "      <td>7.000</td>\n",
       "      <td>1</td>\n",
       "      <td>43</td>\n",
       "      <td>4</td>\n",
       "      <td>F199Q1401559</td>\n",
       "      <td>1</td>\n",
       "      <td>360</td>\n",
       "      <td>0</td>\n",
       "    </tr>\n",
       "    <tr>\n",
       "      <th>383836</th>\n",
       "      <td>636</td>\n",
       "      <td>1</td>\n",
       "      <td>359</td>\n",
       "      <td>1</td>\n",
       "      <td>1</td>\n",
       "      <td>97</td>\n",
       "      <td>21.0</td>\n",
       "      <td>75000</td>\n",
       "      <td>97</td>\n",
       "      <td>7.000</td>\n",
       "      <td>1</td>\n",
       "      <td>2</td>\n",
       "      <td>4</td>\n",
       "      <td>F199Q1401562</td>\n",
       "      <td>1</td>\n",
       "      <td>360</td>\n",
       "      <td>1</td>\n",
       "    </tr>\n",
       "    <tr>\n",
       "      <th>383837</th>\n",
       "      <td>605</td>\n",
       "      <td>1</td>\n",
       "      <td>359</td>\n",
       "      <td>1</td>\n",
       "      <td>1</td>\n",
       "      <td>97</td>\n",
       "      <td>17.0</td>\n",
       "      <td>55000</td>\n",
       "      <td>97</td>\n",
       "      <td>7.125</td>\n",
       "      <td>1</td>\n",
       "      <td>11</td>\n",
       "      <td>2</td>\n",
       "      <td>F199Q1401568</td>\n",
       "      <td>1</td>\n",
       "      <td>360</td>\n",
       "      <td>0</td>\n",
       "    </tr>\n",
       "    <tr>\n",
       "      <th>383838</th>\n",
       "      <td>738</td>\n",
       "      <td>9</td>\n",
       "      <td>359</td>\n",
       "      <td>1</td>\n",
       "      <td>1</td>\n",
       "      <td>68</td>\n",
       "      <td>33.0</td>\n",
       "      <td>93000</td>\n",
       "      <td>68</td>\n",
       "      <td>6.625</td>\n",
       "      <td>1</td>\n",
       "      <td>45</td>\n",
       "      <td>4</td>\n",
       "      <td>F199Q1401569</td>\n",
       "      <td>3</td>\n",
       "      <td>360</td>\n",
       "      <td>0</td>\n",
       "    </tr>\n",
       "  </tbody>\n",
       "</table>\n",
       "</div>"
      ],
      "text/plain": [
       "        credit_score  first_time_buyer  mths_maturity  num_units  \\\n",
       "383834           718                 0            306          1   \n",
       "383835           664                 1            359          1   \n",
       "383836           636                 1            359          1   \n",
       "383837           605                 1            359          1   \n",
       "383838           738                 9            359          1   \n",
       "\n",
       "        occup_status  cltv   dti    upb  ltv  int_rate  channel  prop_state  \\\n",
       "383834             1    55  30.0  44000   55     5.500        1          36   \n",
       "383835             1    97  19.0  75000   97     7.000        1          43   \n",
       "383836             1    97  21.0  75000   97     7.000        1           2   \n",
       "383837             1    97  17.0  55000   97     7.125        1          11   \n",
       "383838             1    68  33.0  93000   68     6.625        1          45   \n",
       "\n",
       "        prop_type      loan_num  purpose  term  f_code  \n",
       "383834          5  F199Q1401556        3   308       0  \n",
       "383835          4  F199Q1401559        1   360       0  \n",
       "383836          4  F199Q1401562        1   360       1  \n",
       "383837          2  F199Q1401568        1   360       0  \n",
       "383838          4  F199Q1401569        3   360       0  "
      ]
     },
     "execution_count": 75,
     "metadata": {},
     "output_type": "execute_result"
    }
   ],
   "source": [
    "fdata.tail()"
   ]
  },
  {
   "cell_type": "markdown",
   "metadata": {},
   "source": [
    "*************"
   ]
  },
  {
   "cell_type": "markdown",
   "metadata": {},
   "source": [
    "#### setting the index to the 'loan_num' column"
   ]
  },
  {
   "cell_type": "code",
   "execution_count": 76,
   "metadata": {},
   "outputs": [],
   "source": [
    "fdata.set_index('loan_num', inplace=True)"
   ]
  },
  {
   "cell_type": "code",
   "execution_count": 77,
   "metadata": {},
   "outputs": [
    {
     "data": {
      "text/html": [
       "<div>\n",
       "<style scoped>\n",
       "    .dataframe tbody tr th:only-of-type {\n",
       "        vertical-align: middle;\n",
       "    }\n",
       "\n",
       "    .dataframe tbody tr th {\n",
       "        vertical-align: top;\n",
       "    }\n",
       "\n",
       "    .dataframe thead th {\n",
       "        text-align: right;\n",
       "    }\n",
       "</style>\n",
       "<table border=\"1\" class=\"dataframe\">\n",
       "  <thead>\n",
       "    <tr style=\"text-align: right;\">\n",
       "      <th></th>\n",
       "      <th>credit_score</th>\n",
       "      <th>first_time_buyer</th>\n",
       "      <th>mths_maturity</th>\n",
       "      <th>num_units</th>\n",
       "      <th>occup_status</th>\n",
       "      <th>cltv</th>\n",
       "      <th>dti</th>\n",
       "      <th>upb</th>\n",
       "      <th>ltv</th>\n",
       "      <th>int_rate</th>\n",
       "      <th>channel</th>\n",
       "      <th>prop_state</th>\n",
       "      <th>prop_type</th>\n",
       "      <th>purpose</th>\n",
       "      <th>term</th>\n",
       "      <th>f_code</th>\n",
       "    </tr>\n",
       "    <tr>\n",
       "      <th>loan_num</th>\n",
       "      <th></th>\n",
       "      <th></th>\n",
       "      <th></th>\n",
       "      <th></th>\n",
       "      <th></th>\n",
       "      <th></th>\n",
       "      <th></th>\n",
       "      <th></th>\n",
       "      <th></th>\n",
       "      <th></th>\n",
       "      <th></th>\n",
       "      <th></th>\n",
       "      <th></th>\n",
       "      <th></th>\n",
       "      <th></th>\n",
       "      <th></th>\n",
       "    </tr>\n",
       "  </thead>\n",
       "  <tbody>\n",
       "    <tr>\n",
       "      <th>F199Q1000001</th>\n",
       "      <td>751</td>\n",
       "      <td>0</td>\n",
       "      <td>359</td>\n",
       "      <td>1</td>\n",
       "      <td>1</td>\n",
       "      <td>71</td>\n",
       "      <td>20.0</td>\n",
       "      <td>180000</td>\n",
       "      <td>71</td>\n",
       "      <td>6.30</td>\n",
       "      <td>1</td>\n",
       "      <td>40</td>\n",
       "      <td>4</td>\n",
       "      <td>1</td>\n",
       "      <td>360</td>\n",
       "      <td>0</td>\n",
       "    </tr>\n",
       "    <tr>\n",
       "      <th>F199Q1000002</th>\n",
       "      <td>733</td>\n",
       "      <td>0</td>\n",
       "      <td>359</td>\n",
       "      <td>1</td>\n",
       "      <td>1</td>\n",
       "      <td>51</td>\n",
       "      <td>32.0</td>\n",
       "      <td>116000</td>\n",
       "      <td>51</td>\n",
       "      <td>6.30</td>\n",
       "      <td>1</td>\n",
       "      <td>40</td>\n",
       "      <td>4</td>\n",
       "      <td>1</td>\n",
       "      <td>360</td>\n",
       "      <td>0</td>\n",
       "    </tr>\n",
       "    <tr>\n",
       "      <th>F199Q1000003</th>\n",
       "      <td>755</td>\n",
       "      <td>0</td>\n",
       "      <td>359</td>\n",
       "      <td>1</td>\n",
       "      <td>1</td>\n",
       "      <td>95</td>\n",
       "      <td>38.0</td>\n",
       "      <td>138000</td>\n",
       "      <td>95</td>\n",
       "      <td>6.60</td>\n",
       "      <td>1</td>\n",
       "      <td>40</td>\n",
       "      <td>4</td>\n",
       "      <td>1</td>\n",
       "      <td>360</td>\n",
       "      <td>0</td>\n",
       "    </tr>\n",
       "    <tr>\n",
       "      <th>F199Q1000004</th>\n",
       "      <td>669</td>\n",
       "      <td>0</td>\n",
       "      <td>319</td>\n",
       "      <td>1</td>\n",
       "      <td>1</td>\n",
       "      <td>80</td>\n",
       "      <td>33.0</td>\n",
       "      <td>162000</td>\n",
       "      <td>80</td>\n",
       "      <td>7.12</td>\n",
       "      <td>1</td>\n",
       "      <td>52</td>\n",
       "      <td>4</td>\n",
       "      <td>1</td>\n",
       "      <td>320</td>\n",
       "      <td>0</td>\n",
       "    </tr>\n",
       "    <tr>\n",
       "      <th>F199Q1000005</th>\n",
       "      <td>732</td>\n",
       "      <td>0</td>\n",
       "      <td>359</td>\n",
       "      <td>1</td>\n",
       "      <td>1</td>\n",
       "      <td>25</td>\n",
       "      <td>10.0</td>\n",
       "      <td>53000</td>\n",
       "      <td>25</td>\n",
       "      <td>6.50</td>\n",
       "      <td>1</td>\n",
       "      <td>37</td>\n",
       "      <td>4</td>\n",
       "      <td>3</td>\n",
       "      <td>360</td>\n",
       "      <td>0</td>\n",
       "    </tr>\n",
       "  </tbody>\n",
       "</table>\n",
       "</div>"
      ],
      "text/plain": [
       "              credit_score  first_time_buyer  mths_maturity  num_units  \\\n",
       "loan_num                                                                 \n",
       "F199Q1000001           751                 0            359          1   \n",
       "F199Q1000002           733                 0            359          1   \n",
       "F199Q1000003           755                 0            359          1   \n",
       "F199Q1000004           669                 0            319          1   \n",
       "F199Q1000005           732                 0            359          1   \n",
       "\n",
       "              occup_status  cltv   dti     upb  ltv  int_rate  channel  \\\n",
       "loan_num                                                                 \n",
       "F199Q1000001             1    71  20.0  180000   71      6.30        1   \n",
       "F199Q1000002             1    51  32.0  116000   51      6.30        1   \n",
       "F199Q1000003             1    95  38.0  138000   95      6.60        1   \n",
       "F199Q1000004             1    80  33.0  162000   80      7.12        1   \n",
       "F199Q1000005             1    25  10.0   53000   25      6.50        1   \n",
       "\n",
       "              prop_state  prop_type  purpose  term  f_code  \n",
       "loan_num                                                    \n",
       "F199Q1000001          40          4        1   360       0  \n",
       "F199Q1000002          40          4        1   360       0  \n",
       "F199Q1000003          40          4        1   360       0  \n",
       "F199Q1000004          52          4        1   320       0  \n",
       "F199Q1000005          37          4        3   360       0  "
      ]
     },
     "execution_count": 77,
     "metadata": {},
     "output_type": "execute_result"
    }
   ],
   "source": [
    "fdata.head()"
   ]
  },
  {
   "cell_type": "code",
   "execution_count": 78,
   "metadata": {},
   "outputs": [],
   "source": [
    "fdata_save = fdata"
   ]
  },
  {
   "cell_type": "code",
   "execution_count": 79,
   "metadata": {},
   "outputs": [
    {
     "data": {
      "text/html": [
       "<div>\n",
       "<style scoped>\n",
       "    .dataframe tbody tr th:only-of-type {\n",
       "        vertical-align: middle;\n",
       "    }\n",
       "\n",
       "    .dataframe tbody tr th {\n",
       "        vertical-align: top;\n",
       "    }\n",
       "\n",
       "    .dataframe thead th {\n",
       "        text-align: right;\n",
       "    }\n",
       "</style>\n",
       "<table border=\"1\" class=\"dataframe\">\n",
       "  <thead>\n",
       "    <tr style=\"text-align: right;\">\n",
       "      <th></th>\n",
       "      <th>credit_score</th>\n",
       "      <th>first_time_buyer</th>\n",
       "      <th>mths_maturity</th>\n",
       "      <th>num_units</th>\n",
       "      <th>occup_status</th>\n",
       "      <th>cltv</th>\n",
       "      <th>dti</th>\n",
       "      <th>upb</th>\n",
       "      <th>ltv</th>\n",
       "      <th>int_rate</th>\n",
       "      <th>channel</th>\n",
       "      <th>prop_state</th>\n",
       "      <th>prop_type</th>\n",
       "      <th>purpose</th>\n",
       "      <th>term</th>\n",
       "      <th>f_code</th>\n",
       "    </tr>\n",
       "    <tr>\n",
       "      <th>loan_num</th>\n",
       "      <th></th>\n",
       "      <th></th>\n",
       "      <th></th>\n",
       "      <th></th>\n",
       "      <th></th>\n",
       "      <th></th>\n",
       "      <th></th>\n",
       "      <th></th>\n",
       "      <th></th>\n",
       "      <th></th>\n",
       "      <th></th>\n",
       "      <th></th>\n",
       "      <th></th>\n",
       "      <th></th>\n",
       "      <th></th>\n",
       "      <th></th>\n",
       "    </tr>\n",
       "  </thead>\n",
       "  <tbody>\n",
       "    <tr>\n",
       "      <th>F199Q1000001</th>\n",
       "      <td>751</td>\n",
       "      <td>0</td>\n",
       "      <td>359</td>\n",
       "      <td>1</td>\n",
       "      <td>1</td>\n",
       "      <td>71</td>\n",
       "      <td>20.0</td>\n",
       "      <td>180000</td>\n",
       "      <td>71</td>\n",
       "      <td>6.30</td>\n",
       "      <td>1</td>\n",
       "      <td>40</td>\n",
       "      <td>4</td>\n",
       "      <td>1</td>\n",
       "      <td>360</td>\n",
       "      <td>0</td>\n",
       "    </tr>\n",
       "    <tr>\n",
       "      <th>F199Q1000002</th>\n",
       "      <td>733</td>\n",
       "      <td>0</td>\n",
       "      <td>359</td>\n",
       "      <td>1</td>\n",
       "      <td>1</td>\n",
       "      <td>51</td>\n",
       "      <td>32.0</td>\n",
       "      <td>116000</td>\n",
       "      <td>51</td>\n",
       "      <td>6.30</td>\n",
       "      <td>1</td>\n",
       "      <td>40</td>\n",
       "      <td>4</td>\n",
       "      <td>1</td>\n",
       "      <td>360</td>\n",
       "      <td>0</td>\n",
       "    </tr>\n",
       "    <tr>\n",
       "      <th>F199Q1000003</th>\n",
       "      <td>755</td>\n",
       "      <td>0</td>\n",
       "      <td>359</td>\n",
       "      <td>1</td>\n",
       "      <td>1</td>\n",
       "      <td>95</td>\n",
       "      <td>38.0</td>\n",
       "      <td>138000</td>\n",
       "      <td>95</td>\n",
       "      <td>6.60</td>\n",
       "      <td>1</td>\n",
       "      <td>40</td>\n",
       "      <td>4</td>\n",
       "      <td>1</td>\n",
       "      <td>360</td>\n",
       "      <td>0</td>\n",
       "    </tr>\n",
       "    <tr>\n",
       "      <th>F199Q1000004</th>\n",
       "      <td>669</td>\n",
       "      <td>0</td>\n",
       "      <td>319</td>\n",
       "      <td>1</td>\n",
       "      <td>1</td>\n",
       "      <td>80</td>\n",
       "      <td>33.0</td>\n",
       "      <td>162000</td>\n",
       "      <td>80</td>\n",
       "      <td>7.12</td>\n",
       "      <td>1</td>\n",
       "      <td>52</td>\n",
       "      <td>4</td>\n",
       "      <td>1</td>\n",
       "      <td>320</td>\n",
       "      <td>0</td>\n",
       "    </tr>\n",
       "    <tr>\n",
       "      <th>F199Q1000005</th>\n",
       "      <td>732</td>\n",
       "      <td>0</td>\n",
       "      <td>359</td>\n",
       "      <td>1</td>\n",
       "      <td>1</td>\n",
       "      <td>25</td>\n",
       "      <td>10.0</td>\n",
       "      <td>53000</td>\n",
       "      <td>25</td>\n",
       "      <td>6.50</td>\n",
       "      <td>1</td>\n",
       "      <td>37</td>\n",
       "      <td>4</td>\n",
       "      <td>3</td>\n",
       "      <td>360</td>\n",
       "      <td>0</td>\n",
       "    </tr>\n",
       "  </tbody>\n",
       "</table>\n",
       "</div>"
      ],
      "text/plain": [
       "              credit_score  first_time_buyer  mths_maturity  num_units  \\\n",
       "loan_num                                                                 \n",
       "F199Q1000001           751                 0            359          1   \n",
       "F199Q1000002           733                 0            359          1   \n",
       "F199Q1000003           755                 0            359          1   \n",
       "F199Q1000004           669                 0            319          1   \n",
       "F199Q1000005           732                 0            359          1   \n",
       "\n",
       "              occup_status  cltv   dti     upb  ltv  int_rate  channel  \\\n",
       "loan_num                                                                 \n",
       "F199Q1000001             1    71  20.0  180000   71      6.30        1   \n",
       "F199Q1000002             1    51  32.0  116000   51      6.30        1   \n",
       "F199Q1000003             1    95  38.0  138000   95      6.60        1   \n",
       "F199Q1000004             1    80  33.0  162000   80      7.12        1   \n",
       "F199Q1000005             1    25  10.0   53000   25      6.50        1   \n",
       "\n",
       "              prop_state  prop_type  purpose  term  f_code  \n",
       "loan_num                                                    \n",
       "F199Q1000001          40          4        1   360       0  \n",
       "F199Q1000002          40          4        1   360       0  \n",
       "F199Q1000003          40          4        1   360       0  \n",
       "F199Q1000004          52          4        1   320       0  \n",
       "F199Q1000005          37          4        3   360       0  "
      ]
     },
     "execution_count": 79,
     "metadata": {},
     "output_type": "execute_result"
    }
   ],
   "source": [
    "fdata_save.head()"
   ]
  },
  {
   "cell_type": "code",
   "execution_count": 80,
   "metadata": {},
   "outputs": [],
   "source": [
    "fdata.reset_index(inplace=True)"
   ]
  },
  {
   "cell_type": "code",
   "execution_count": 81,
   "metadata": {},
   "outputs": [
    {
     "data": {
      "text/html": [
       "<div>\n",
       "<style scoped>\n",
       "    .dataframe tbody tr th:only-of-type {\n",
       "        vertical-align: middle;\n",
       "    }\n",
       "\n",
       "    .dataframe tbody tr th {\n",
       "        vertical-align: top;\n",
       "    }\n",
       "\n",
       "    .dataframe thead th {\n",
       "        text-align: right;\n",
       "    }\n",
       "</style>\n",
       "<table border=\"1\" class=\"dataframe\">\n",
       "  <thead>\n",
       "    <tr style=\"text-align: right;\">\n",
       "      <th></th>\n",
       "      <th>loan_num</th>\n",
       "      <th>credit_score</th>\n",
       "      <th>first_time_buyer</th>\n",
       "      <th>mths_maturity</th>\n",
       "      <th>num_units</th>\n",
       "      <th>occup_status</th>\n",
       "      <th>cltv</th>\n",
       "      <th>dti</th>\n",
       "      <th>upb</th>\n",
       "      <th>ltv</th>\n",
       "      <th>int_rate</th>\n",
       "      <th>channel</th>\n",
       "      <th>prop_state</th>\n",
       "      <th>prop_type</th>\n",
       "      <th>purpose</th>\n",
       "      <th>term</th>\n",
       "      <th>f_code</th>\n",
       "    </tr>\n",
       "  </thead>\n",
       "  <tbody>\n",
       "    <tr>\n",
       "      <th>0</th>\n",
       "      <td>F199Q1000001</td>\n",
       "      <td>751</td>\n",
       "      <td>0</td>\n",
       "      <td>359</td>\n",
       "      <td>1</td>\n",
       "      <td>1</td>\n",
       "      <td>71</td>\n",
       "      <td>20.0</td>\n",
       "      <td>180000</td>\n",
       "      <td>71</td>\n",
       "      <td>6.30</td>\n",
       "      <td>1</td>\n",
       "      <td>40</td>\n",
       "      <td>4</td>\n",
       "      <td>1</td>\n",
       "      <td>360</td>\n",
       "      <td>0</td>\n",
       "    </tr>\n",
       "    <tr>\n",
       "      <th>1</th>\n",
       "      <td>F199Q1000002</td>\n",
       "      <td>733</td>\n",
       "      <td>0</td>\n",
       "      <td>359</td>\n",
       "      <td>1</td>\n",
       "      <td>1</td>\n",
       "      <td>51</td>\n",
       "      <td>32.0</td>\n",
       "      <td>116000</td>\n",
       "      <td>51</td>\n",
       "      <td>6.30</td>\n",
       "      <td>1</td>\n",
       "      <td>40</td>\n",
       "      <td>4</td>\n",
       "      <td>1</td>\n",
       "      <td>360</td>\n",
       "      <td>0</td>\n",
       "    </tr>\n",
       "    <tr>\n",
       "      <th>2</th>\n",
       "      <td>F199Q1000003</td>\n",
       "      <td>755</td>\n",
       "      <td>0</td>\n",
       "      <td>359</td>\n",
       "      <td>1</td>\n",
       "      <td>1</td>\n",
       "      <td>95</td>\n",
       "      <td>38.0</td>\n",
       "      <td>138000</td>\n",
       "      <td>95</td>\n",
       "      <td>6.60</td>\n",
       "      <td>1</td>\n",
       "      <td>40</td>\n",
       "      <td>4</td>\n",
       "      <td>1</td>\n",
       "      <td>360</td>\n",
       "      <td>0</td>\n",
       "    </tr>\n",
       "    <tr>\n",
       "      <th>3</th>\n",
       "      <td>F199Q1000004</td>\n",
       "      <td>669</td>\n",
       "      <td>0</td>\n",
       "      <td>319</td>\n",
       "      <td>1</td>\n",
       "      <td>1</td>\n",
       "      <td>80</td>\n",
       "      <td>33.0</td>\n",
       "      <td>162000</td>\n",
       "      <td>80</td>\n",
       "      <td>7.12</td>\n",
       "      <td>1</td>\n",
       "      <td>52</td>\n",
       "      <td>4</td>\n",
       "      <td>1</td>\n",
       "      <td>320</td>\n",
       "      <td>0</td>\n",
       "    </tr>\n",
       "    <tr>\n",
       "      <th>4</th>\n",
       "      <td>F199Q1000005</td>\n",
       "      <td>732</td>\n",
       "      <td>0</td>\n",
       "      <td>359</td>\n",
       "      <td>1</td>\n",
       "      <td>1</td>\n",
       "      <td>25</td>\n",
       "      <td>10.0</td>\n",
       "      <td>53000</td>\n",
       "      <td>25</td>\n",
       "      <td>6.50</td>\n",
       "      <td>1</td>\n",
       "      <td>37</td>\n",
       "      <td>4</td>\n",
       "      <td>3</td>\n",
       "      <td>360</td>\n",
       "      <td>0</td>\n",
       "    </tr>\n",
       "  </tbody>\n",
       "</table>\n",
       "</div>"
      ],
      "text/plain": [
       "       loan_num  credit_score  first_time_buyer  mths_maturity  num_units  \\\n",
       "0  F199Q1000001           751                 0            359          1   \n",
       "1  F199Q1000002           733                 0            359          1   \n",
       "2  F199Q1000003           755                 0            359          1   \n",
       "3  F199Q1000004           669                 0            319          1   \n",
       "4  F199Q1000005           732                 0            359          1   \n",
       "\n",
       "   occup_status  cltv   dti     upb  ltv  int_rate  channel  prop_state  \\\n",
       "0             1    71  20.0  180000   71      6.30        1          40   \n",
       "1             1    51  32.0  116000   51      6.30        1          40   \n",
       "2             1    95  38.0  138000   95      6.60        1          40   \n",
       "3             1    80  33.0  162000   80      7.12        1          52   \n",
       "4             1    25  10.0   53000   25      6.50        1          37   \n",
       "\n",
       "   prop_type  purpose  term  f_code  \n",
       "0          4        1   360       0  \n",
       "1          4        1   360       0  \n",
       "2          4        1   360       0  \n",
       "3          4        1   320       0  \n",
       "4          4        3   360       0  "
      ]
     },
     "execution_count": 81,
     "metadata": {},
     "output_type": "execute_result"
    }
   ],
   "source": [
    "fdata.head()"
   ]
  },
  {
   "cell_type": "code",
   "execution_count": 82,
   "metadata": {},
   "outputs": [
    {
     "data": {
      "text/plain": [
       "loan_num             object\n",
       "credit_score          int64\n",
       "first_time_buyer      int64\n",
       "mths_maturity         int64\n",
       "num_units             int64\n",
       "occup_status          int64\n",
       "cltv                  int64\n",
       "dti                 float64\n",
       "upb                   int64\n",
       "ltv                   int64\n",
       "int_rate            float64\n",
       "channel               int64\n",
       "prop_state            int64\n",
       "prop_type             int64\n",
       "purpose               int64\n",
       "term                  int64\n",
       "f_code                int64\n",
       "dtype: object"
      ]
     },
     "execution_count": 82,
     "metadata": {},
     "output_type": "execute_result"
    }
   ],
   "source": [
    "fdata.dtypes"
   ]
  },
  {
   "cell_type": "markdown",
   "metadata": {},
   "source": [
    "**************"
   ]
  },
  {
   "cell_type": "markdown",
   "metadata": {},
   "source": [
    "***********"
   ]
  },
  {
   "cell_type": "markdown",
   "metadata": {},
   "source": [
    "*************"
   ]
  },
  {
   "cell_type": "markdown",
   "metadata": {},
   "source": [
    "### Using Random Forest Classifier to Predict "
   ]
  },
  {
   "cell_type": "code",
   "execution_count": 97,
   "metadata": {},
   "outputs": [],
   "source": [
    "import numpy as np\n",
    "from sklearn.model_selection import train_test_split\n",
    "from sklearn.ensemble import RandomForestClassifier\n",
    "from sklearn import metrics\n",
    "\n",
    "X = fdata.iloc[:,1:-1]\n",
    "# remove all columns except the 'f_code' column\n",
    "y = fdata.iloc[:,-1]\n",
    "X_train, X_test, y_train, y_test = train_test_split(X,y, random_state = 89)"
   ]
  },
  {
   "cell_type": "code",
   "execution_count": 98,
   "metadata": {},
   "outputs": [
    {
     "data": {
      "text/plain": [
       "(287869, 15)"
      ]
     },
     "execution_count": 98,
     "metadata": {},
     "output_type": "execute_result"
    }
   ],
   "source": [
    "X_train.shape"
   ]
  },
  {
   "cell_type": "code",
   "execution_count": 99,
   "metadata": {},
   "outputs": [
    {
     "data": {
      "text/plain": [
       "RandomForestClassifier(bootstrap=True, class_weight=None, criterion='gini',\n",
       "            max_depth=None, max_features='auto', max_leaf_nodes=None,\n",
       "            min_impurity_decrease=0.0, min_impurity_split=None,\n",
       "            min_samples_leaf=1, min_samples_split=2,\n",
       "            min_weight_fraction_leaf=0.0, n_estimators=10, n_jobs=1,\n",
       "            oob_score=False, random_state=1, verbose=0, warm_start=False)"
      ]
     },
     "execution_count": 99,
     "metadata": {},
     "output_type": "execute_result"
    }
   ],
   "source": [
    "# Fit the model on only the train data\n",
    "rf = RandomForestClassifier(n_estimators=10, max_features='auto', random_state=1)\n",
    "rf.fit(X_train, y_train)"
   ]
  },
  {
   "cell_type": "code",
   "execution_count": 100,
   "metadata": {},
   "outputs": [
    {
     "data": {
      "text/plain": [
       "0.9971063226676022"
      ]
     },
     "execution_count": 100,
     "metadata": {},
     "output_type": "execute_result"
    }
   ],
   "source": [
    "rf.score(X_train, y_train)"
   ]
  },
  {
   "cell_type": "code",
   "execution_count": 101,
   "metadata": {},
   "outputs": [
    {
     "data": {
      "text/plain": [
       "0.9880779932678179"
      ]
     },
     "execution_count": 101,
     "metadata": {},
     "output_type": "execute_result"
    }
   ],
   "source": [
    "rf.score(X_test, y_test)"
   ]
  },
  {
   "cell_type": "code",
   "execution_count": 102,
   "metadata": {},
   "outputs": [],
   "source": [
    "# use the model's fit to predict estimates across the whole dataset\n",
    "y_pred = rf.predict(X)"
   ]
  },
  {
   "cell_type": "code",
   "execution_count": 103,
   "metadata": {},
   "outputs": [
    {
     "name": "stdout",
     "output_type": "stream",
     "text": [
      "             precision    recall  f1-score   support\n",
      "\n",
      "          0       0.99      1.00      1.00    379362\n",
      "          1       1.00      0.56      0.72      4464\n",
      "\n",
      "avg / total       0.99      0.99      0.99    383826\n",
      "\n"
     ]
    }
   ],
   "source": [
    "# generate classification report \n",
    "print (metrics.classification_report(y, y_pred))"
   ]
  },
  {
   "cell_type": "markdown",
   "metadata": {},
   "source": [
    "## High Accuracy score of 0.988 but a very low recall score of 0.56. This implies that the model would correctly identify only 56% of the loans that are likely to foreclose. To to better on predeictoin of foreclosed loans, we next look at distribution of data to improve the recall score"
   ]
  },
  {
   "cell_type": "markdown",
   "metadata": {},
   "source": [
    "************"
   ]
  },
  {
   "cell_type": "markdown",
   "metadata": {},
   "source": [
    "## Looking at the distribution of data"
   ]
  },
  {
   "cell_type": "markdown",
   "metadata": {},
   "source": [
    "**************"
   ]
  },
  {
   "cell_type": "code",
   "execution_count": 127,
   "metadata": {},
   "outputs": [
    {
     "data": {
      "image/png": "[encoded data removed]",
      "text/plain": [
       "<matplotlib.figure.Figure at 0x1311eaa20>"
      ]
     },
     "metadata": {},
     "output_type": "display_data"
    }
   ],
   "source": [
    "import seaborn as sns # for intractve graphs\n",
    "from sklearn.metrics import confusion_matrix,recall_score,precision_recall_curve,auc,roc_curve,roc_auc_score,classification_report\n",
    "\n",
    "# Now lets check the data distributions\n",
    "sns.countplot(\"f_code\",data=fdata)\n",
    "plt.show()"
   ]
  },
  {
   "cell_type": "code",
   "execution_count": 105,
   "metadata": {},
   "outputs": [
    {
     "name": "stdout",
     "output_type": "stream",
     "text": [
      "percentage of normal loans is 98.83697300339216\n",
      "percentage of foreclosed loans 1.163026996607838\n"
     ]
    }
   ],
   "source": [
    "# now let us check in the number of Percentage\n",
    "count_normal_loans = len(fdata[fdata[\"f_code\"]==0]) # normal loans are repersented by 0\n",
    "count_foreclosed_loans = len(fdata[fdata[\"f_code\"]==1]) # frorecloseure by 1\n",
    "percent_normal_loans = count_normal_loans/(count_normal_loans+count_foreclosed_loans)\n",
    "print(\"percentage of normal loans is\",percent_normal_loans*100)\n",
    "percent_foreclosed_loans= count_foreclosed_loans/(count_normal_loans+count_foreclosed_loans)\n",
    "print(\"percentage of foreclosed loans\",percent_foreclosed_loans*100)"
   ]
  },
  {
   "cell_type": "markdown",
   "metadata": {},
   "source": [
    "#### Hence in data there is only 1.16 % are the foreclosed loans while 99.83 are normal loans\n",
    "#### So now we do resampling of this data, but before resampling we take a look at the amount related to normal loans and foreclosed loans"
   ]
  },
  {
   "cell_type": "markdown",
   "metadata": {},
   "source": [
    "### Under Sampling\n"
   ]
  },
  {
   "cell_type": "markdown",
   "metadata": {},
   "source": [
    "#### Accuracy = TP+TN/Total\n",
    "#### Precison = TP/(TP+FP)\n",
    "#### Recall = TP/(TP+FN)\n",
    "#### TP = True possitive means number of possitve cases which are predicted positive\n",
    "#### TN = True negative means number of negative cases which are predicted negative\n",
    "#### FP = False positve means number of negative cases which are predicted possitive\n",
    "#### FN= False Negative means number of positive cases which are predicted negative\n",
    "\n",
    "#### In this case recall will be a better option because number of normal loans will be very high compared to the number of foreclosed loans and sometime a foreclosed loan will be predicted as normal. So, recall will give us a sense of only foreclosed cases\n",
    "\n",
    "#### Resampling\n",
    "#### in this we will resample data so we more even proportions of normal vs foreclosed loans\n",
    "#### then we will try to use this resampled data to train our model"
   ]
  },
  {
   "cell_type": "code",
   "execution_count": 106,
   "metadata": {},
   "outputs": [],
   "source": [
    "# for undersampling we need a portion of majority class and will take whole data of minority class\n",
    "# count_foreclosed_loans is the total number of foreclosed loans\n",
    "# now lets us see the index of foreclosed cases\n",
    "foreclosed_indices= np.array(fdata[fdata.f_code==1].index)\n",
    "normal_indices = np.array(fdata[fdata.f_code==0].index)"
   ]
  },
  {
   "cell_type": "code",
   "execution_count": 107,
   "metadata": {},
   "outputs": [],
   "source": [
    "#now let us a define a function for make undersample data with different proportion\n",
    "#different proportion means with different proportion of normal classes of data\n",
    "\n",
    "def undersample(normal_indices,foreclosed_indices,times):#times denote the normal data = times*foreclosed data\n",
    "    normal_indices_undersample = np.array(np.random.choice(normal_indices,int((times*count_foreclosed_loans)),replace=False))\n",
    "    undersample_data= np.concatenate([foreclosed_indices,normal_indices_undersample])\n",
    "    undersample_data = fdata.iloc[undersample_data,:]\n",
    "    \n",
    "    print(\"the normal loans proportion is : {:0.2f}\".format(len(undersample_data[undersample_data.f_code==0])/len(undersample_data)))\n",
    "    print(\"the foreclosed loans proportion is : {:0.2f}\".format(len(undersample_data[undersample_data.f_code==1])/len(undersample_data)))\n",
    "    print(\"total number of records in resampled data is: \"+str(len(undersample_data)))\n",
    "    \n",
    "    return(undersample_data)"
   ]
  },
  {
   "cell_type": "code",
   "execution_count": 108,
   "metadata": {},
   "outputs": [],
   "source": [
    "## Make a model function for modeling with confusion matrix\n",
    "def model(model,features_train,features_test,labels_train,labels_test):\n",
    "    clf= model\n",
    "    clf.fit(features_train,labels_train.values.ravel())\n",
    "    pred=clf.predict(features_test)\n",
    "    cnf_matrix=confusion_matrix(labels_test,pred)\n",
    "    \n",
    "#    print(\"the recall for this model is : {:0.3f}\".format(cnf_matrix[1,1]/(cnf_matrix[1,1]+cnf_matrix[1,0])))\n",
    "    \n",
    "    fig= plt.figure(figsize=(6,3))# to plot the graph\n",
    "    print(\"TP\",cnf_matrix[1,1]) # no of foreclosed loans which are predicted foreclosed\n",
    "    print(\"TN\",cnf_matrix[0,0]) # no. of normal loans which are predicted normal\n",
    "    print(\"FP\",cnf_matrix[0,1]) # no of normal loans which are predicted foreclosed\n",
    "    print(\"FN\",cnf_matrix[1,0]) # no of foreclosed loans which are predicted normal\n",
    "    sns.heatmap(cnf_matrix,cmap=\"coolwarm_r\",annot=True,linewidths=0.5,fmt='g')\n",
    "    plt.title(\"Confusion_matrix\")\n",
    "    plt.xlabel(\"Predicted_class\")\n",
    "    plt.ylabel(\"Real class\")\n",
    "    plt.show()\n",
    "    print(\"\\n----------Classification Report------------------------------------\")\n",
    "    print(classification_report(labels_test,pred))\n"
   ]
  },
  {
   "cell_type": "code",
   "execution_count": 109,
   "metadata": {},
   "outputs": [],
   "source": [
    "def data_prepration(x): # preparing data for training and testing as we are going to use different data \n",
    "    #again and again so make a function\n",
    "    # Remove the 'loan_num' and the 'f_code' columns to get the remaining features\n",
    "    x_features = x.iloc[:,1:-1]\n",
    "    # remove all columns except the 'f_code' column\n",
    "    x_labels = x.iloc[:,-1]\n",
    "    x_features_train,x_features_test,x_labels_train,x_labels_test = train_test_split(x_features,x_labels,test_size=0.3)\n",
    "    print(\"length of training data: \"+ str(len(x_features_train)))\n",
    "    print(\"length of test data: \"+ str(len(x_features_test)))\n",
    "    return(x_features_train,x_features_test,x_labels_train,x_labels_test)\n"
   ]
  },
  {
   "cell_type": "markdown",
   "metadata": {},
   "source": [
    "### Logistic Regression with Undersample Data"
   ]
  },
  {
   "cell_type": "code",
   "execution_count": 112,
   "metadata": {},
   "outputs": [
    {
     "name": "stdout",
     "output_type": "stream",
     "text": [
      "the Proportion of data in Undersample is 1:1 or, 1 Majority Class records for 1 Minority Class record\n",
      "\n",
      "the normal loans proportion is : 0.50\n",
      "the foreclosed loans proportion is : 0.50\n",
      "total number of records in resampled data is: 8928\n",
      "------------------------------------------------------------\n",
      "\n",
      "The model classification for 1:1 proportion\n",
      "\n",
      "length of training data: 6249\n",
      "length of test data: 2679\n",
      "\n",
      "TP 1030\n",
      "TN 847\n",
      "FP 475\n",
      "FN 327\n"
     ]
    },
    {
     "data": {
      "image/png": "[encoded data removed]",
      "text/plain": [
       "<matplotlib.figure.Figure at 0x12105fdd8>"
      ]
     },
     "metadata": {},
     "output_type": "display_data"
    },
    {
     "name": "stdout",
     "output_type": "stream",
     "text": [
      "\n",
      "----------Classification Report------------------------------------\n",
      "             precision    recall  f1-score   support\n",
      "\n",
      "          0       0.72      0.64      0.68      1322\n",
      "          1       0.68      0.76      0.72      1357\n",
      "\n",
      "avg / total       0.70      0.70      0.70      2679\n",
      "\n",
      "________________________________________________________________________________________________________\n",
      "the Proportion of data in Undersample is 2:1 or, 2 Majority Class records for 1 Minority Class record\n",
      "\n",
      "the normal loans proportion is : 0.67\n",
      "the foreclosed loans proportion is : 0.33\n",
      "total number of records in resampled data is: 13392\n",
      "------------------------------------------------------------\n",
      "\n",
      "The model classification for 2:1 proportion\n",
      "\n",
      "length of training data: 9374\n",
      "length of test data: 4018\n",
      "\n",
      "TP 566\n",
      "TN 2307\n",
      "FP 390\n",
      "FN 755\n"
     ]
    },
    {
     "data": {
      "image/png": "[encoded data removed]",
      "text/plain": [
       "<matplotlib.figure.Figure at 0x12105fda0>"
      ]
     },
     "metadata": {},
     "output_type": "display_data"
    },
    {
     "name": "stdout",
     "output_type": "stream",
     "text": [
      "\n",
      "----------Classification Report------------------------------------\n",
      "             precision    recall  f1-score   support\n",
      "\n",
      "          0       0.75      0.86      0.80      2697\n",
      "          1       0.59      0.43      0.50      1321\n",
      "\n",
      "avg / total       0.70      0.72      0.70      4018\n",
      "\n",
      "________________________________________________________________________________________________________\n",
      "the Proportion of data in Undersample is 3:1 or, 3 Majority Class records for 1 Minority Class record\n",
      "\n",
      "the normal loans proportion is : 0.75\n",
      "the foreclosed loans proportion is : 0.25\n",
      "total number of records in resampled data is: 17856\n",
      "------------------------------------------------------------\n",
      "\n",
      "The model classification for 3:1 proportion\n",
      "\n",
      "length of training data: 12499\n",
      "length of test data: 5357\n",
      "\n",
      "TP 294\n",
      "TN 3836\n",
      "FP 260\n",
      "FN 967\n"
     ]
    },
    {
     "data": {
      "image/png": "[encoded data removed]",
      "text/plain": [
       "<matplotlib.figure.Figure at 0x12105ff98>"
      ]
     },
     "metadata": {},
     "output_type": "display_data"
    },
    {
     "name": "stdout",
     "output_type": "stream",
     "text": [
      "\n",
      "----------Classification Report------------------------------------\n",
      "             precision    recall  f1-score   support\n",
      "\n",
      "          0       0.80      0.94      0.86      4096\n",
      "          1       0.53      0.23      0.32      1261\n",
      "\n",
      "avg / total       0.74      0.77      0.74      5357\n",
      "\n",
      "________________________________________________________________________________________________________\n"
     ]
    }
   ],
   "source": [
    "# Now make undersample data with differnt portion\n",
    "# here i will take normal trasaction in  0..5 %, 0.66% and 0.75 % proportion of total data now do this for \n",
    "\n",
    "import matplotlib.pyplot as plt\n",
    "from sklearn.linear_model import LogisticRegression\n",
    "\n",
    "proportion_list = [1, 2, 3]\n",
    "for i in proportion_list:  #range(1,4)\n",
    "    print(\"the Proportion of data in Undersample is {0}:1 or, {0} Majority Class records for 1 Minority Class record\".format(i))\n",
    "    print()\n",
    "    undersample_data = undersample(normal_indices,foreclosed_indices,i)\n",
    "    print(\"------------------------------------------------------------\")\n",
    "    print()\n",
    "    print(\"The model classification for {}:1 proportion\".format(i))\n",
    "    print()\n",
    "    undersample_features_train,undersample_features_test,undersample_labels_train,undersample_labels_test=data_prepration(undersample_data)\n",
    "    print()\n",
    "    clf=LogisticRegression()\n",
    "    model(clf,undersample_features_train,undersample_features_test,undersample_labels_train,undersample_labels_test)\n",
    "    print(\"________________________________________________________________________________________________________\")\n",
    "    "
   ]
  },
  {
   "cell_type": "markdown",
   "metadata": {},
   "source": [
    "## Try using RandomForrestClassifier"
   ]
  },
  {
   "cell_type": "code",
   "execution_count": 114,
   "metadata": {},
   "outputs": [
    {
     "name": "stdout",
     "output_type": "stream",
     "text": [
      "the Proportion of data in Undersample is 1:1 or, 1 Majority Class records for 1 Minority Class record\n",
      "\n",
      "the normal loans proportion is : 0.50\n",
      "the foreclosed loans proportion is : 0.50\n",
      "total number of records in resampled data is: 8928\n",
      "------------------------------------------------------------\n",
      "\n",
      "The model classification for 1:1 proportion\n",
      "\n",
      "length of training data: 6249\n",
      "length of test data: 2679\n",
      "\n",
      "TP 1043\n",
      "TN 986\n",
      "FP 353\n",
      "FN 297\n"
     ]
    },
    {
     "data": {
      "image/png": "[encoded data removed]",
      "text/plain": [
       "<matplotlib.figure.Figure at 0x13abe2b70>"
      ]
     },
     "metadata": {},
     "output_type": "display_data"
    },
    {
     "name": "stdout",
     "output_type": "stream",
     "text": [
      "\n",
      "----------Classification Report------------------------------------\n",
      "             precision    recall  f1-score   support\n",
      "\n",
      "          0       0.77      0.74      0.75      1339\n",
      "          1       0.75      0.78      0.76      1340\n",
      "\n",
      "avg / total       0.76      0.76      0.76      2679\n",
      "\n",
      "________________________________________________________________________________________________________\n",
      "the Proportion of data in Undersample is 2:1 or, 2 Majority Class records for 1 Minority Class record\n",
      "\n",
      "the normal loans proportion is : 0.67\n",
      "the foreclosed loans proportion is : 0.33\n",
      "total number of records in resampled data is: 13392\n",
      "------------------------------------------------------------\n",
      "\n",
      "The model classification for 2:1 proportion\n",
      "\n",
      "length of training data: 9374\n",
      "length of test data: 4018\n",
      "\n",
      "TP 784\n",
      "TN 2312\n",
      "FP 368\n",
      "FN 554\n"
     ]
    },
    {
     "data": {
      "image/png": "[encoded data removed]",
      "text/plain": [
       "<matplotlib.figure.Figure at 0x13abe2be0>"
      ]
     },
     "metadata": {},
     "output_type": "display_data"
    },
    {
     "name": "stdout",
     "output_type": "stream",
     "text": [
      "\n",
      "----------Classification Report------------------------------------\n",
      "             precision    recall  f1-score   support\n",
      "\n",
      "          0       0.81      0.86      0.83      2680\n",
      "          1       0.68      0.59      0.63      1338\n",
      "\n",
      "avg / total       0.76      0.77      0.77      4018\n",
      "\n",
      "________________________________________________________________________________________________________\n",
      "the Proportion of data in Undersample is 3:1 or, 3 Majority Class records for 1 Minority Class record\n",
      "\n",
      "the normal loans proportion is : 0.75\n",
      "the foreclosed loans proportion is : 0.25\n",
      "total number of records in resampled data is: 17856\n",
      "------------------------------------------------------------\n",
      "\n",
      "The model classification for 3:1 proportion\n",
      "\n",
      "length of training data: 12499\n",
      "length of test data: 5357\n",
      "\n",
      "TP 596\n",
      "TN 3719\n",
      "FP 346\n",
      "FN 696\n"
     ]
    },
    {
     "data": {
      "image/png": "[encoded data removed]",
      "text/plain": [
       "<matplotlib.figure.Figure at 0x139ef05f8>"
      ]
     },
     "metadata": {},
     "output_type": "display_data"
    },
    {
     "name": "stdout",
     "output_type": "stream",
     "text": [
      "\n",
      "----------Classification Report------------------------------------\n",
      "             precision    recall  f1-score   support\n",
      "\n",
      "          0       0.84      0.91      0.88      4065\n",
      "          1       0.63      0.46      0.53      1292\n",
      "\n",
      "avg / total       0.79      0.81      0.79      5357\n",
      "\n",
      "________________________________________________________________________________________________________\n"
     ]
    }
   ],
   "source": [
    "# Random Forest Classifier with undersample data only\n",
    "proportion_list = [1, 2, 3]\n",
    "for i in proportion_list:  #range(1,4)\n",
    "    print(\"the Proportion of data in Undersample is {0}:1 or, {0} Majority Class records for 1 Minority Class record\".format(i))\n",
    "    print()\n",
    "    undersample_data = undersample(normal_indices,foreclosed_indices,i)\n",
    "    print(\"------------------------------------------------------------\")\n",
    "    print()\n",
    "    print(\"The model classification for {}:1 proportion\".format(i))\n",
    "    print()\n",
    "    undersample_features_train,undersample_features_test,undersample_labels_train,undersample_labels_test=data_prepration(undersample_data)\n",
    "    print()\n",
    "    clf= RandomForestClassifier(n_estimators=100)# changing classifier to RandomForest\n",
    "    model(clf,undersample_features_train,undersample_features_test,undersample_labels_train,undersample_labels_test)\n",
    "    print(\"________________________________________________________________________________________________________\")\n",
    "    "
   ]
  },
  {
   "cell_type": "markdown",
   "metadata": {},
   "source": [
    "***********"
   ]
  },
  {
   "cell_type": "markdown",
   "metadata": {},
   "source": [
    "## KFolds with RandomForestClassifier and Nested Cross Validation"
   ]
  },
  {
   "cell_type": "code",
   "execution_count": 117,
   "metadata": {},
   "outputs": [],
   "source": [
    "from sklearn import model_selection\n",
    "from sklearn.model_selection import GridSearchCV, cross_val_score, KFold\n",
    "from sklearn.metrics import make_scorer, accuracy_score, precision_score, recall_score, f1_score\n"
   ]
  },
  {
   "cell_type": "code",
   "execution_count": 120,
   "metadata": {},
   "outputs": [
    {
     "name": "stdout",
     "output_type": "stream",
     "text": [
      "the normal loans proportion is : 0.50\n",
      "the foreclosed loans proportion is : 0.50\n",
      "total number of records in resampled data is: 8928\n"
     ]
    }
   ],
   "source": [
    "undersample_data = undersample(normal_indices,foreclosed_indices,1)\n",
    "\n",
    "# Remove the 'loan_num' and the 'f_code' columns to get the remaining features\n",
    "x_features = undersample_data.iloc[:,1:-1]\n",
    "# remove all columns except the 'f_code' column\n",
    "x_labels = undersample_data.iloc[:,-1]\n"
   ]
  },
  {
   "cell_type": "code",
   "execution_count": 397,
   "metadata": {},
   "outputs": [
    {
     "name": "stdout",
     "output_type": "stream",
     "text": [
      "Did rfc step\n",
      "did GridSearchCV\n",
      "Average difference of 0.002033 with std. dev. of 0.000000.\n",
      "RandomForestClassifier(bootstrap=True, class_weight=None, criterion='gini',\n",
      "            max_depth=10, max_features='sqrt', max_leaf_nodes=None,\n",
      "            min_impurity_decrease=0.0, min_impurity_split=None,\n",
      "            min_samples_leaf=1, min_samples_split=2,\n",
      "            min_weight_fraction_leaf=0.0, n_estimators=100, n_jobs=-1,\n",
      "            oob_score=True, random_state=None, verbose=0, warm_start=False)\n",
      "{'max_depth': 10, 'min_samples_leaf': 1, 'n_estimators': 100}\n",
      "0.8065280052176886\n"
     ]
    }
   ],
   "source": [
    "# Multiple scoring metrics with RandomForestClassifier and Nested Cross Validation\n",
    "\n",
    "scoring = {'recall' : make_scorer(recall_score),\n",
    "           'precision' : make_scorer(precision_score),\n",
    "           'f1_score' : make_scorer(f1_score),\n",
    "           'accuracy' : make_scorer(accuracy_score) }\n",
    "\n",
    "# Number of random trials\n",
    "NUM_TRIALS = 1\n",
    "\n",
    "# Use a grid over parameters of interest\n",
    "param_grid = { \n",
    "           \"n_estimators\" : [50, 100, 200, 250, 300],\n",
    "           \"max_depth\" : [1, 5, 10, 15, 20, 25, 30],\n",
    "           \"min_samples_leaf\" : [1, 2, 4, 6, 8, 10]}\n",
    "\n",
    "rfc = RandomForestClassifier(n_jobs=-1, max_features='sqrt', oob_score = True)\n",
    "print(\"Did rfc step\")\n",
    "# Arrays to store scores\n",
    "non_nested_scores = np.zeros(NUM_TRIALS)\n",
    "nested_scores = np.zeros(NUM_TRIALS)\n",
    "\n",
    "# Loop for each trial\n",
    "for i in range(NUM_TRIALS):\n",
    "\n",
    "    # Choose cross-validation techniques for the inner and outer loops,\n",
    "    # independently of the dataset.\n",
    "    inner_cv = KFold(n_splits=4, shuffle=True, random_state=i)\n",
    "    outer_cv = KFold(n_splits=4, shuffle=True, random_state=i)\n",
    "\n",
    "    # Non_nested parameter search and scoring\n",
    "    clf = GridSearchCV(estimator=rfc, param_grid=param_grid, scoring=scoring, refit='recall',cv=inner_cv)\n",
    "    print(\"did GridSearchCV\")\n",
    "    clf.fit(x_features, x_labels)\n",
    "    non_nested_scores[i] = clf.best_score_\n",
    "    \n",
    "    # Nested CV with parameter optimization\n",
    "    nested_score = cross_val_score(clf, X=x_features, y=x_labels, scoring='recall', cv=outer_cv)\n",
    "    nested_scores[i] = nested_score.mean()\n",
    "\n",
    "score_difference = non_nested_scores - nested_scores\n",
    "\n",
    "print(\"Average difference of {0:6f} with std. dev. of {1:6f}.\"\n",
    "      .format(score_difference.mean(), score_difference.std()))\n",
    "\n",
    "# Plot scores on each trial for nested and non-nested CV\n",
    "if (NUM_TRIALS >= 3):\n",
    "    plt.figure()\n",
    "    plt.subplot(211)\n",
    "    non_nested_scores_line, = plt.plot(non_nested_scores, color='r')\n",
    "    nested_line, = plt.plot(nested_scores, color='b')\n",
    "    plt.ylabel(\"score\", fontsize=\"14\")\n",
    "    plt.legend([non_nested_scores_line, nested_line],\n",
    "               [\"Non-Nested CV\", \"Nested CV\"],\n",
    "               bbox_to_anchor=(0, .4, .5, 0))\n",
    "    plt.title(\"Non-Nested and Nested Cross Validation on Freddie Mac Dataset\",\n",
    "              x=.5, y=1.1, fontsize=\"15\")\n",
    "\n",
    "    # Plot bar chart of the difference.\n",
    "    plt.subplot(212)\n",
    "    difference_plot = plt.bar(range(NUM_TRIALS), score_difference)\n",
    "    plt.xlabel(\"Individual Trial #\")\n",
    "    plt.legend([difference_plot],\n",
    "               [\"Non-Nested CV - Nested CV Score\"],\n",
    "               bbox_to_anchor=(0, 1, .8, 0))\n",
    "    plt.ylabel(\"score difference\", fontsize=\"14\")\n",
    "\n",
    "    plt.show()  \n",
    "\n",
    "print (clf.best_estimator_)\n",
    "print (clf.best_params_)\n",
    "print (clf.best_score_)"
   ]
  },
  {
   "cell_type": "raw",
   "metadata": {},
   "source": [
    "print(clf.scorer_)"
   ]
  },
  {
   "cell_type": "markdown",
   "metadata": {},
   "source": [
    "## KNeighborsClassifier with Nested Cross Validation"
   ]
  },
  {
   "cell_type": "markdown",
   "metadata": {},
   "source": [
    "************"
   ]
  },
  {
   "cell_type": "code",
   "execution_count": 126,
   "metadata": {},
   "outputs": [
    {
     "name": "stdout",
     "output_type": "stream",
     "text": [
      "Did knn step\n",
      "did GridSearchCV\n",
      "finished Fitting\n",
      "Average difference of -0.000000 with std. dev. of 0.000000.\n",
      "KNeighborsClassifier(algorithm='auto', leaf_size=1, metric='minkowski',\n",
      "           metric_params=None, n_jobs=-1, n_neighbors=5, p=2,\n",
      "           weights='uniform')\n",
      "{'leaf_size': 1, 'n_neighbors': 5}\n",
      "0.7294325162531982\n",
      "make_scorer(recall_score)\n"
     ]
    }
   ],
   "source": [
    "# The latest with multiple scoring types with KNN Classifier\n",
    "from sklearn.neighbors import KNeighborsClassifier\n",
    "from sklearn.model_selection import KFold\n",
    "\n",
    "# Number of random trials\n",
    "NUM_TRIALS = 1\n",
    "\n",
    "# Use a grid over parameters of interest\n",
    "#param_grid = { 'n_neighbors':[5,6,7,8,9,10],\n",
    "#              'leaf_size':[1,2,3,5],\n",
    "#              'weights':['uniform', 'distance'],\n",
    "#              'algorithm':['auto', 'ball_tree','kd_tree','brute'],\n",
    "#              'n_jobs':[-1]\n",
    "#             }\n",
    "param_grid = { 'n_neighbors':[3,4,5,6],\n",
    "             'leaf_size':[1,2,3,5]\n",
    "             }\n",
    "\n",
    "knn = KNeighborsClassifier(n_jobs=-1)\n",
    "print(\"Did knn step\")\n",
    "# Arrays to store scores\n",
    "non_nested_scores = np.zeros(NUM_TRIALS)\n",
    "nested_scores = np.zeros(NUM_TRIALS)\n",
    "\n",
    "# Loop for each trial\n",
    "for i in range(NUM_TRIALS):\n",
    "\n",
    "    # Choose cross-validation techniques for the inner and outer loops,\n",
    "    # independently of the dataset.\n",
    "    inner_cv = KFold(n_splits=4, shuffle=True, random_state=i)\n",
    "    outer_cv = KFold(n_splits=4, shuffle=True, random_state=i)\n",
    "\n",
    "    # Non_nested parameter search and scoring\n",
    "    knclf = GridSearchCV(estimator=knn, param_grid=param_grid, scoring='recall', refit='recall', cv=inner_cv)\n",
    "    print(\"did GridSearchCV\")\n",
    "    knclf.fit(x_features, x_labels)\n",
    "    print(\"finished Fitting\")\n",
    "    non_nested_scores[i] = knclf.best_score_\n",
    "\n",
    "    # Nested CV with parameter optimization\n",
    "    nested_score = cross_val_score(knclf, X=x_features, y=x_labels, scoring='recall', cv=outer_cv)\n",
    "    nested_scores[i] = nested_score.mean()\n",
    "\n",
    "score_difference = non_nested_scores - nested_scores\n",
    "\n",
    "print(\"Average difference of {0:6f} with std. dev. of {1:6f}.\"\n",
    "      .format(score_difference.mean(), score_difference.std()))\n",
    "\n",
    "# Plot scores on each trial for nested and non-nested CV\n",
    "if (NUM_TRIALS >= 3):\n",
    "    plt.figure()\n",
    "    plt.subplot(211)\n",
    "    non_nested_scores_line, = plt.plot(non_nested_scores, color='r')\n",
    "    nested_line, = plt.plot(nested_scores, color='b')\n",
    "    plt.ylabel(\"score\", fontsize=\"14\")\n",
    "    plt.legend([non_nested_scores_line, nested_line],\n",
    "               [\"Non-Nested CV\", \"Nested CV\"],\n",
    "               bbox_to_anchor=(0, .4, .5, 0))\n",
    "    plt.title(\"Non-Nested and Nested Cross Validation on Freddie Mac Dataset\",\n",
    "              x=.5, y=1.1, fontsize=\"15\")\n",
    "\n",
    "    # Plot bar chart of the difference.\n",
    "    plt.subplot(212)\n",
    "    difference_plot = plt.bar(range(NUM_TRIALS), score_difference)\n",
    "    plt.xlabel(\"Individual Trial #\")\n",
    "    plt.legend([difference_plot],\n",
    "               [\"Non-Nested CV - Nested CV Score\"],\n",
    "               bbox_to_anchor=(0, 1, .8, 0))\n",
    "    plt.ylabel(\"score difference\", fontsize=\"14\")\n",
    "\n",
    "    plt.show()\n",
    "    \n",
    "print (knclf.best_estimator_)\n",
    "print (knclf.best_params_)\n",
    "print (knclf.best_score_)\n",
    "print (knclf.scorer_)"
   ]
  },
  {
   "cell_type": "code",
   "execution_count": 124,
   "metadata": {},
   "outputs": [
    {
     "name": "stdout",
     "output_type": "stream",
     "text": [
      "Did svc step\n",
      "did GridSearchCV\n",
      "[LibSVM][LibSVM][LibSVM][LibSVM][LibSVM][LibSVM][LibSVM][LibSVM][LibSVM][LibSVM][LibSVM][LibSVM][LibSVM][LibSVM][LibSVM][LibSVM][LibSVM][LibSVM][LibSVM][LibSVM][LibSVM][LibSVM][LibSVM][LibSVM][LibSVM][LibSVM][LibSVM][LibSVM][LibSVM]finished Fitting\n",
      "[LibSVM][LibSVM][LibSVM][LibSVM][LibSVM][LibSVM][LibSVM][LibSVM][LibSVM][LibSVM][LibSVM][LibSVM][LibSVM][LibSVM][LibSVM][LibSVM][LibSVM][LibSVM][LibSVM][LibSVM][LibSVM][LibSVM][LibSVM][LibSVM][LibSVM][LibSVM][LibSVM][LibSVM][LibSVM][LibSVM][LibSVM][LibSVM][LibSVM][LibSVM][LibSVM][LibSVM][LibSVM][LibSVM][LibSVM][LibSVM][LibSVM][LibSVM][LibSVM][LibSVM][LibSVM][LibSVM][LibSVM][LibSVM][LibSVM][LibSVM][LibSVM][LibSVM][LibSVM][LibSVM][LibSVM][LibSVM][LibSVM][LibSVM][LibSVM][LibSVM][LibSVM][LibSVM][LibSVM][LibSVM][LibSVM][LibSVM][LibSVM][LibSVM][LibSVM][LibSVM][LibSVM][LibSVM][LibSVM][LibSVM][LibSVM][LibSVM][LibSVM][LibSVM][LibSVM][LibSVM][LibSVM][LibSVM][LibSVM][LibSVM][LibSVM][LibSVM][LibSVM][LibSVM][LibSVM][LibSVM][LibSVM][LibSVM][LibSVM][LibSVM][LibSVM][LibSVM][LibSVM][LibSVM][LibSVM][LibSVM][LibSVM][LibSVM][LibSVM][LibSVM][LibSVM][LibSVM][LibSVM][LibSVM][LibSVM][LibSVM][LibSVM][LibSVM][LibSVM][LibSVM][LibSVM][LibSVM]Average difference of 0.220190 with std. dev. of 0.000000.\n",
      "SVC(C=6, cache_size=200, class_weight=None, coef0=0.0,\n",
      "  decision_function_shape='ovr', degree=3, gamma='auto', kernel='rbf',\n",
      "  max_iter=-1, probability=False, random_state=None, shrinking=True,\n",
      "  tol=0.001, verbose=True)\n",
      "{'C': 6}\n",
      "0.5092429024682109\n",
      "make_scorer(recall_score)\n"
     ]
    }
   ],
   "source": [
    "# SVM with Nested Cross Validation\n",
    "from sklearn import svm\n",
    "\n",
    "# Number of random trials\n",
    "NUM_TRIALS = 1\n",
    "\n",
    "# Use a grid over parameters of interest\n",
    "#param_grid = { 'C': [6,7,8,9,10,11,12], \n",
    "#              'kernel': ['linear','rbf']\n",
    "#             }\n",
    "param_grid = { 'C': [6,7,8,9,10,11,12]}\n",
    "\n",
    "\n",
    "svc = svm.SVC(verbose=True)\n",
    "print(\"Did svc step\")\n",
    "# Arrays to store scores\n",
    "non_nested_scores = np.zeros(NUM_TRIALS)\n",
    "nested_scores = np.zeros(NUM_TRIALS)\n",
    "\n",
    "# Loop for each trial\n",
    "for i in range(NUM_TRIALS):\n",
    "\n",
    "    # Choose cross-validation techniques for the inner and outer loops,\n",
    "    # independently of the dataset.\n",
    "    inner_cv = KFold(n_splits=4, shuffle=True, random_state=i)\n",
    "    outer_cv = KFold(n_splits=4, shuffle=True, random_state=i)\n",
    "\n",
    "    # Non_nested parameter search and scoring\n",
    "    svcclf = GridSearchCV(estimator=svc, param_grid=param_grid, scoring='recall', refit='recall', cv=inner_cv)\n",
    "    print(\"did GridSearchCV\")\n",
    "    svcclf.fit(x_features, x_labels)\n",
    "    print(\"finished Fitting\")\n",
    "    non_nested_scores[i] = knclf.best_score_\n",
    "\n",
    "    # Nested CV with parameter optimization\n",
    "    nested_score = cross_val_score(svcclf, X=x_features, y=x_labels, scoring='recall', cv=outer_cv)\n",
    "    nested_scores[i] = nested_score.mean()\n",
    "\n",
    "score_difference = non_nested_scores - nested_scores\n",
    "\n",
    "print(\"Average difference of {0:6f} with std. dev. of {1:6f}.\"\n",
    "      .format(score_difference.mean(), score_difference.std()))\n",
    "\n",
    "# Plot scores on each trial for nested and non-nested CV\n",
    "if (NUM_TRIALS >= 3):\n",
    "    plt.figure()\n",
    "    plt.subplot(211)\n",
    "    non_nested_scores_line, = plt.plot(non_nested_scores, color='r')\n",
    "    nested_line, = plt.plot(nested_scores, color='b')\n",
    "    plt.ylabel(\"score\", fontsize=\"14\")\n",
    "    plt.legend([non_nested_scores_line, nested_line],\n",
    "               [\"Non-Nested CV\", \"Nested CV\"],\n",
    "               bbox_to_anchor=(0, .4, .5, 0))\n",
    "    plt.title(\"Non-Nested and Nested Cross Validation on Freddie Mac Dataset\",\n",
    "              x=.5, y=1.1, fontsize=\"15\")\n",
    "\n",
    "    # Plot bar chart of the difference.\n",
    "    plt.subplot(212)\n",
    "    difference_plot = plt.bar(range(NUM_TRIALS), score_difference)\n",
    "    plt.xlabel(\"Individual Trial #\")\n",
    "    plt.legend([difference_plot],\n",
    "               [\"Non-Nested CV - Nested CV Score\"],\n",
    "               bbox_to_anchor=(0, 1, .8, 0))\n",
    "    plt.ylabel(\"score difference\", fontsize=\"14\")\n",
    "\n",
    "    plt.show()\n",
    "    \n",
    "print (svcclf.best_estimator_)\n",
    "print (svcclf.best_params_)\n",
    "print (svcclf.best_score_)\n",
    "print (svcclf.scorer_)"
   ]
  },
  {
   "cell_type": "code",
   "execution_count": null,
   "metadata": {},
   "outputs": [],
   "source": []
  },
  {
   "cell_type": "code",
   "execution_count": null,
   "metadata": {},
   "outputs": [],
   "source": []
  },
  {
   "cell_type": "code",
   "execution_count": null,
   "metadata": {},
   "outputs": [],
   "source": []
  }
 ],
 "metadata": {
  "kernelspec": {
   "display_name": "Python 3",
   "language": "python",
   "name": "python3"
  },
  "language_info": {
   "codemirror_mode": {
    "name": "ipython",
    "version": 3
   },
   "file_extension": ".py",
   "mimetype": "text/x-python",
   "name": "python",
   "nbconvert_exporter": "python",
   "pygments_lexer": "ipython3",
   "version": "3.6.4"
  }
 },
 "nbformat": 4,
 "nbformat_minor": 2
}
